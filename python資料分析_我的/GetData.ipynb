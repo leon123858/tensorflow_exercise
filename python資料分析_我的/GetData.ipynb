{
 "cells": [
  {
   "cell_type": "markdown",
   "metadata": {},
   "source": [
    "# 利用工人程式驗證買股策略"
   ]
  },
  {
   "cell_type": "code",
   "execution_count": 3,
   "metadata": {},
   "outputs": [],
   "source": [
    "import pandas as pd\n",
    "import numpy as np"
   ]
  },
  {
   "cell_type": "code",
   "execution_count": 4,
   "metadata": {},
   "outputs": [],
   "source": [
    "df = pd.read_pickle(\"stockprice.pkl\")"
   ]
  },
  {
   "cell_type": "code",
   "execution_count": 5,
   "metadata": {},
   "outputs": [
    {
     "data": {
      "text/html": [
       "<div>\n",
       "<style scoped>\n",
       "    .dataframe tbody tr th:only-of-type {\n",
       "        vertical-align: middle;\n",
       "    }\n",
       "\n",
       "    .dataframe tbody tr th {\n",
       "        vertical-align: top;\n",
       "    }\n",
       "\n",
       "    .dataframe thead th {\n",
       "        text-align: right;\n",
       "    }\n",
       "</style>\n",
       "<table border=\"1\" class=\"dataframe\">\n",
       "  <thead>\n",
       "    <tr style=\"text-align: right;\">\n",
       "      <th></th>\n",
       "      <th></th>\n",
       "      <th>收盤價</th>\n",
       "      <th>開盤價</th>\n",
       "      <th>最低價</th>\n",
       "      <th>最高價</th>\n",
       "      <th>成交股數</th>\n",
       "    </tr>\n",
       "    <tr>\n",
       "      <th>stock_id</th>\n",
       "      <th>date</th>\n",
       "      <th></th>\n",
       "      <th></th>\n",
       "      <th></th>\n",
       "      <th></th>\n",
       "      <th></th>\n",
       "    </tr>\n",
       "  </thead>\n",
       "  <tbody>\n",
       "    <tr>\n",
       "      <th rowspan=\"5\" valign=\"top\">0015 富邦</th>\n",
       "      <th>2007-04-23</th>\n",
       "      <td>9.54</td>\n",
       "      <td>9.45</td>\n",
       "      <td>9.45</td>\n",
       "      <td>9.55</td>\n",
       "      <td>104000</td>\n",
       "    </tr>\n",
       "    <tr>\n",
       "      <th>2007-04-24</th>\n",
       "      <td>9.54</td>\n",
       "      <td>9.54</td>\n",
       "      <td>9.50</td>\n",
       "      <td>9.54</td>\n",
       "      <td>187000</td>\n",
       "    </tr>\n",
       "    <tr>\n",
       "      <th>2007-04-25</th>\n",
       "      <td>9.52</td>\n",
       "      <td>9.50</td>\n",
       "      <td>9.50</td>\n",
       "      <td>9.53</td>\n",
       "      <td>90000</td>\n",
       "    </tr>\n",
       "    <tr>\n",
       "      <th>2007-04-26</th>\n",
       "      <td>9.59</td>\n",
       "      <td>9.53</td>\n",
       "      <td>9.53</td>\n",
       "      <td>9.60</td>\n",
       "      <td>102000</td>\n",
       "    </tr>\n",
       "    <tr>\n",
       "      <th>2007-04-27</th>\n",
       "      <td>9.55</td>\n",
       "      <td>9.55</td>\n",
       "      <td>9.55</td>\n",
       "      <td>9.55</td>\n",
       "      <td>26000</td>\n",
       "    </tr>\n",
       "  </tbody>\n",
       "</table>\n",
       "</div>"
      ],
      "text/plain": [
       "                      收盤價   開盤價   最低價   最高價    成交股數\n",
       "stock_id date                                      \n",
       "0015 富邦  2007-04-23  9.54  9.45  9.45  9.55  104000\n",
       "         2007-04-24  9.54  9.54  9.50  9.54  187000\n",
       "         2007-04-25  9.52  9.50  9.50  9.53   90000\n",
       "         2007-04-26  9.59  9.53  9.53  9.60  102000\n",
       "         2007-04-27  9.55  9.55  9.55  9.55   26000"
      ]
     },
     "execution_count": 5,
     "metadata": {},
     "output_type": "execute_result"
    }
   ],
   "source": [
    "df.head()"
   ]
  },
  {
   "cell_type": "code",
   "execution_count": 6,
   "metadata": {
    "scrolled": true
   },
   "outputs": [
    {
     "data": {
      "text/html": [
       "<div>\n",
       "<style scoped>\n",
       "    .dataframe tbody tr th:only-of-type {\n",
       "        vertical-align: middle;\n",
       "    }\n",
       "\n",
       "    .dataframe tbody tr th {\n",
       "        vertical-align: top;\n",
       "    }\n",
       "\n",
       "    .dataframe thead th {\n",
       "        text-align: right;\n",
       "    }\n",
       "</style>\n",
       "<table border=\"1\" class=\"dataframe\">\n",
       "  <thead>\n",
       "    <tr style=\"text-align: right;\">\n",
       "      <th></th>\n",
       "      <th></th>\n",
       "      <th>收盤價</th>\n",
       "      <th>開盤價</th>\n",
       "      <th>最低價</th>\n",
       "      <th>最高價</th>\n",
       "      <th>成交股數</th>\n",
       "    </tr>\n",
       "    <tr>\n",
       "      <th>stock_id</th>\n",
       "      <th>date</th>\n",
       "      <th></th>\n",
       "      <th></th>\n",
       "      <th></th>\n",
       "      <th></th>\n",
       "      <th></th>\n",
       "    </tr>\n",
       "  </thead>\n",
       "  <tbody>\n",
       "    <tr>\n",
       "      <th rowspan=\"5\" valign=\"top\">9962 有益</th>\n",
       "      <th>2020-08-10</th>\n",
       "      <td>9.28</td>\n",
       "      <td>9.29</td>\n",
       "      <td>9.16</td>\n",
       "      <td>9.30</td>\n",
       "      <td>20450</td>\n",
       "    </tr>\n",
       "    <tr>\n",
       "      <th>2020-08-11</th>\n",
       "      <td>9.27</td>\n",
       "      <td>9.27</td>\n",
       "      <td>9.27</td>\n",
       "      <td>9.27</td>\n",
       "      <td>10000</td>\n",
       "    </tr>\n",
       "    <tr>\n",
       "      <th>2020-08-12</th>\n",
       "      <td>9.25</td>\n",
       "      <td>9.12</td>\n",
       "      <td>9.10</td>\n",
       "      <td>9.25</td>\n",
       "      <td>22000</td>\n",
       "    </tr>\n",
       "    <tr>\n",
       "      <th>2020-08-13</th>\n",
       "      <td>9.14</td>\n",
       "      <td>9.15</td>\n",
       "      <td>8.83</td>\n",
       "      <td>9.15</td>\n",
       "      <td>35000</td>\n",
       "    </tr>\n",
       "    <tr>\n",
       "      <th>2020-08-14</th>\n",
       "      <td>9.05</td>\n",
       "      <td>9.04</td>\n",
       "      <td>9.00</td>\n",
       "      <td>9.11</td>\n",
       "      <td>30600</td>\n",
       "    </tr>\n",
       "  </tbody>\n",
       "</table>\n",
       "</div>"
      ],
      "text/plain": [
       "                      收盤價   開盤價   最低價   最高價   成交股數\n",
       "stock_id date                                     \n",
       "9962 有益  2020-08-10  9.28  9.29  9.16  9.30  20450\n",
       "         2020-08-11  9.27  9.27  9.27  9.27  10000\n",
       "         2020-08-12  9.25  9.12  9.10  9.25  22000\n",
       "         2020-08-13  9.14  9.15  8.83  9.15  35000\n",
       "         2020-08-14  9.05  9.04  9.00  9.11  30600"
      ]
     },
     "execution_count": 6,
     "metadata": {},
     "output_type": "execute_result"
    }
   ],
   "source": [
    "df.tail()"
   ]
  },
  {
   "cell_type": "code",
   "execution_count": 7,
   "metadata": {},
   "outputs": [
    {
     "data": {
      "text/plain": [
       "stock_id  date      \n",
       "0015 富邦   2007-04-23    9.54\n",
       "          2007-04-24    9.54\n",
       "          2007-04-25    9.52\n",
       "          2007-04-26    9.59\n",
       "          2007-04-27    9.55\n",
       "                        ... \n",
       "9962 有益   2020-08-10    9.28\n",
       "          2020-08-11    9.27\n",
       "          2020-08-12    9.25\n",
       "          2020-08-13    9.14\n",
       "          2020-08-14    9.05\n",
       "Name: 收盤價, Length: 13091721, dtype: object"
      ]
     },
     "execution_count": 7,
     "metadata": {},
     "output_type": "execute_result"
    }
   ],
   "source": [
    "df[\"收盤價\"]"
   ]
  },
  {
   "cell_type": "code",
   "execution_count": 8,
   "metadata": {},
   "outputs": [
    {
     "data": {
      "text/html": [
       "<div>\n",
       "<style scoped>\n",
       "    .dataframe tbody tr th:only-of-type {\n",
       "        vertical-align: middle;\n",
       "    }\n",
       "\n",
       "    .dataframe tbody tr th {\n",
       "        vertical-align: top;\n",
       "    }\n",
       "\n",
       "    .dataframe thead th {\n",
       "        text-align: right;\n",
       "    }\n",
       "</style>\n",
       "<table border=\"1\" class=\"dataframe\">\n",
       "  <thead>\n",
       "    <tr style=\"text-align: right;\">\n",
       "      <th></th>\n",
       "      <th>stock_id</th>\n",
       "      <th>date</th>\n",
       "      <th>收盤價</th>\n",
       "    </tr>\n",
       "  </thead>\n",
       "  <tbody>\n",
       "    <tr>\n",
       "      <th>0</th>\n",
       "      <td>0015 富邦</td>\n",
       "      <td>2007-04-23</td>\n",
       "      <td>9.54</td>\n",
       "    </tr>\n",
       "    <tr>\n",
       "      <th>1</th>\n",
       "      <td>0015 富邦</td>\n",
       "      <td>2007-04-24</td>\n",
       "      <td>9.54</td>\n",
       "    </tr>\n",
       "    <tr>\n",
       "      <th>2</th>\n",
       "      <td>0015 富邦</td>\n",
       "      <td>2007-04-25</td>\n",
       "      <td>9.52</td>\n",
       "    </tr>\n",
       "    <tr>\n",
       "      <th>3</th>\n",
       "      <td>0015 富邦</td>\n",
       "      <td>2007-04-26</td>\n",
       "      <td>9.59</td>\n",
       "    </tr>\n",
       "    <tr>\n",
       "      <th>4</th>\n",
       "      <td>0015 富邦</td>\n",
       "      <td>2007-04-27</td>\n",
       "      <td>9.55</td>\n",
       "    </tr>\n",
       "    <tr>\n",
       "      <th>...</th>\n",
       "      <td>...</td>\n",
       "      <td>...</td>\n",
       "      <td>...</td>\n",
       "    </tr>\n",
       "    <tr>\n",
       "      <th>13091716</th>\n",
       "      <td>9962 有益</td>\n",
       "      <td>2020-08-10</td>\n",
       "      <td>9.28</td>\n",
       "    </tr>\n",
       "    <tr>\n",
       "      <th>13091717</th>\n",
       "      <td>9962 有益</td>\n",
       "      <td>2020-08-11</td>\n",
       "      <td>9.27</td>\n",
       "    </tr>\n",
       "    <tr>\n",
       "      <th>13091718</th>\n",
       "      <td>9962 有益</td>\n",
       "      <td>2020-08-12</td>\n",
       "      <td>9.25</td>\n",
       "    </tr>\n",
       "    <tr>\n",
       "      <th>13091719</th>\n",
       "      <td>9962 有益</td>\n",
       "      <td>2020-08-13</td>\n",
       "      <td>9.14</td>\n",
       "    </tr>\n",
       "    <tr>\n",
       "      <th>13091720</th>\n",
       "      <td>9962 有益</td>\n",
       "      <td>2020-08-14</td>\n",
       "      <td>9.05</td>\n",
       "    </tr>\n",
       "  </tbody>\n",
       "</table>\n",
       "<p>13091721 rows × 3 columns</p>\n",
       "</div>"
      ],
      "text/plain": [
       "         stock_id       date   收盤價\n",
       "0         0015 富邦 2007-04-23  9.54\n",
       "1         0015 富邦 2007-04-24  9.54\n",
       "2         0015 富邦 2007-04-25  9.52\n",
       "3         0015 富邦 2007-04-26  9.59\n",
       "4         0015 富邦 2007-04-27  9.55\n",
       "...           ...        ...   ...\n",
       "13091716  9962 有益 2020-08-10  9.28\n",
       "13091717  9962 有益 2020-08-11  9.27\n",
       "13091718  9962 有益 2020-08-12  9.25\n",
       "13091719  9962 有益 2020-08-13  9.14\n",
       "13091720  9962 有益 2020-08-14  9.05\n",
       "\n",
       "[13091721 rows x 3 columns]"
      ]
     },
     "execution_count": 8,
     "metadata": {},
     "output_type": "execute_result"
    }
   ],
   "source": [
    "df[\"收盤價\"].reset_index()"
   ]
  },
  {
   "cell_type": "code",
   "execution_count": 9,
   "metadata": {},
   "outputs": [],
   "source": [
    "#改格式 方便資料提取\n",
    "data = df[\"收盤價\"].reset_index().pivot(\"date\",\"stock_id\")"
   ]
  },
  {
   "cell_type": "code",
   "execution_count": 10,
   "metadata": {},
   "outputs": [
    {
     "data": {
      "text/html": [
       "<div>\n",
       "<style scoped>\n",
       "    .dataframe tbody tr th:only-of-type {\n",
       "        vertical-align: middle;\n",
       "    }\n",
       "\n",
       "    .dataframe tbody tr th {\n",
       "        vertical-align: top;\n",
       "    }\n",
       "\n",
       "    .dataframe thead tr th {\n",
       "        text-align: left;\n",
       "    }\n",
       "\n",
       "    .dataframe thead tr:last-of-type th {\n",
       "        text-align: right;\n",
       "    }\n",
       "</style>\n",
       "<table border=\"1\" class=\"dataframe\">\n",
       "  <thead>\n",
       "    <tr>\n",
       "      <th></th>\n",
       "      <th colspan=\"21\" halign=\"left\">收盤價</th>\n",
       "    </tr>\n",
       "    <tr>\n",
       "      <th>stock_id</th>\n",
       "      <th>0015 富邦</th>\n",
       "      <th>0050 元大台灣50</th>\n",
       "      <th>0051 元大中型100</th>\n",
       "      <th>0052 富邦科技</th>\n",
       "      <th>0053 元大電子</th>\n",
       "      <th>0054 元大台商50</th>\n",
       "      <th>0055 元大MSCI金融</th>\n",
       "      <th>0056 元大高股息</th>\n",
       "      <th>0057 富邦摩台</th>\n",
       "      <th>0058 富邦發達</th>\n",
       "      <th>...</th>\n",
       "      <th>9946 三發</th>\n",
       "      <th>9946 三發地產</th>\n",
       "      <th>9946 金革</th>\n",
       "      <th>9949 琉園</th>\n",
       "      <th>9950 萬國通</th>\n",
       "      <th>9951 皇田</th>\n",
       "      <th>9955 佳龍</th>\n",
       "      <th>9958 世紀鋼</th>\n",
       "      <th>9960 邁達康</th>\n",
       "      <th>9962 有益</th>\n",
       "    </tr>\n",
       "    <tr>\n",
       "      <th>date</th>\n",
       "      <th></th>\n",
       "      <th></th>\n",
       "      <th></th>\n",
       "      <th></th>\n",
       "      <th></th>\n",
       "      <th></th>\n",
       "      <th></th>\n",
       "      <th></th>\n",
       "      <th></th>\n",
       "      <th></th>\n",
       "      <th></th>\n",
       "      <th></th>\n",
       "      <th></th>\n",
       "      <th></th>\n",
       "      <th></th>\n",
       "      <th></th>\n",
       "      <th></th>\n",
       "      <th></th>\n",
       "      <th></th>\n",
       "      <th></th>\n",
       "      <th></th>\n",
       "    </tr>\n",
       "  </thead>\n",
       "  <tbody>\n",
       "    <tr>\n",
       "      <th>2007-04-23</th>\n",
       "      <td>9.54</td>\n",
       "      <td>57.85</td>\n",
       "      <td>32.83</td>\n",
       "      <td>38.40</td>\n",
       "      <td>NaN</td>\n",
       "      <td>NaN</td>\n",
       "      <td>NaN</td>\n",
       "      <td>NaN</td>\n",
       "      <td>NaN</td>\n",
       "      <td>NaN</td>\n",
       "      <td>...</td>\n",
       "      <td>NaN</td>\n",
       "      <td>NaN</td>\n",
       "      <td>9.78</td>\n",
       "      <td>73.60</td>\n",
       "      <td>13.25</td>\n",
       "      <td>51.30</td>\n",
       "      <td>72.40</td>\n",
       "      <td>NaN</td>\n",
       "      <td>46.00</td>\n",
       "      <td>49.60</td>\n",
       "    </tr>\n",
       "    <tr>\n",
       "      <th>2007-04-24</th>\n",
       "      <td>9.54</td>\n",
       "      <td>58.10</td>\n",
       "      <td>32.99</td>\n",
       "      <td>38.65</td>\n",
       "      <td>NaN</td>\n",
       "      <td>NaN</td>\n",
       "      <td>NaN</td>\n",
       "      <td>NaN</td>\n",
       "      <td>NaN</td>\n",
       "      <td>NaN</td>\n",
       "      <td>...</td>\n",
       "      <td>NaN</td>\n",
       "      <td>NaN</td>\n",
       "      <td>9.91</td>\n",
       "      <td>75.00</td>\n",
       "      <td>13.25</td>\n",
       "      <td>50.50</td>\n",
       "      <td>71.60</td>\n",
       "      <td>NaN</td>\n",
       "      <td>45.90</td>\n",
       "      <td>50.40</td>\n",
       "    </tr>\n",
       "    <tr>\n",
       "      <th>2007-04-25</th>\n",
       "      <td>9.52</td>\n",
       "      <td>57.60</td>\n",
       "      <td>32.80</td>\n",
       "      <td>38.59</td>\n",
       "      <td>NaN</td>\n",
       "      <td>NaN</td>\n",
       "      <td>NaN</td>\n",
       "      <td>NaN</td>\n",
       "      <td>NaN</td>\n",
       "      <td>NaN</td>\n",
       "      <td>...</td>\n",
       "      <td>NaN</td>\n",
       "      <td>NaN</td>\n",
       "      <td>10.10</td>\n",
       "      <td>74.60</td>\n",
       "      <td>13.30</td>\n",
       "      <td>49.90</td>\n",
       "      <td>71.60</td>\n",
       "      <td>NaN</td>\n",
       "      <td>49.10</td>\n",
       "      <td>49.10</td>\n",
       "    </tr>\n",
       "    <tr>\n",
       "      <th>2007-04-26</th>\n",
       "      <td>9.59</td>\n",
       "      <td>57.70</td>\n",
       "      <td>32.80</td>\n",
       "      <td>38.60</td>\n",
       "      <td>NaN</td>\n",
       "      <td>NaN</td>\n",
       "      <td>NaN</td>\n",
       "      <td>NaN</td>\n",
       "      <td>NaN</td>\n",
       "      <td>NaN</td>\n",
       "      <td>...</td>\n",
       "      <td>NaN</td>\n",
       "      <td>NaN</td>\n",
       "      <td>10.80</td>\n",
       "      <td>74.50</td>\n",
       "      <td>13.25</td>\n",
       "      <td>49.50</td>\n",
       "      <td>71.00</td>\n",
       "      <td>NaN</td>\n",
       "      <td>48.90</td>\n",
       "      <td>48.00</td>\n",
       "    </tr>\n",
       "    <tr>\n",
       "      <th>2007-04-27</th>\n",
       "      <td>9.55</td>\n",
       "      <td>57.50</td>\n",
       "      <td>32.72</td>\n",
       "      <td>38.40</td>\n",
       "      <td>NaN</td>\n",
       "      <td>NaN</td>\n",
       "      <td>NaN</td>\n",
       "      <td>NaN</td>\n",
       "      <td>NaN</td>\n",
       "      <td>NaN</td>\n",
       "      <td>...</td>\n",
       "      <td>NaN</td>\n",
       "      <td>NaN</td>\n",
       "      <td>11.55</td>\n",
       "      <td>75.70</td>\n",
       "      <td>13.15</td>\n",
       "      <td>48.80</td>\n",
       "      <td>69.50</td>\n",
       "      <td>NaN</td>\n",
       "      <td>48.60</td>\n",
       "      <td>46.50</td>\n",
       "    </tr>\n",
       "  </tbody>\n",
       "</table>\n",
       "<p>5 rows × 66978 columns</p>\n",
       "</div>"
      ],
      "text/plain": [
       "               收盤價                                                           \\\n",
       "stock_id   0015 富邦 0050 元大台灣50 0051 元大中型100 0052 富邦科技 0053 元大電子 0054 元大台商50   \n",
       "date                                                                          \n",
       "2007-04-23    9.54       57.85        32.83     38.40       NaN         NaN   \n",
       "2007-04-24    9.54       58.10        32.99     38.65       NaN         NaN   \n",
       "2007-04-25    9.52       57.60        32.80     38.59       NaN         NaN   \n",
       "2007-04-26    9.59       57.70        32.80     38.60       NaN         NaN   \n",
       "2007-04-27    9.55       57.50        32.72     38.40       NaN         NaN   \n",
       "\n",
       "                                                         ...          \\\n",
       "stock_id   0055 元大MSCI金融 0056 元大高股息 0057 富邦摩台 0058 富邦發達  ... 9946 三發   \n",
       "date                                                     ...           \n",
       "2007-04-23           NaN        NaN       NaN       NaN  ...     NaN   \n",
       "2007-04-24           NaN        NaN       NaN       NaN  ...     NaN   \n",
       "2007-04-25           NaN        NaN       NaN       NaN  ...     NaN   \n",
       "2007-04-26           NaN        NaN       NaN       NaN  ...     NaN   \n",
       "2007-04-27           NaN        NaN       NaN       NaN  ...     NaN   \n",
       "\n",
       "                                                                        \\\n",
       "stock_id   9946 三發地產 9946 金革 9949 琉園 9950 萬國通 9951 皇田 9955 佳龍 9958 世紀鋼   \n",
       "date                                                                     \n",
       "2007-04-23       NaN    9.78   73.60    13.25   51.30   72.40      NaN   \n",
       "2007-04-24       NaN    9.91   75.00    13.25   50.50   71.60      NaN   \n",
       "2007-04-25       NaN   10.10   74.60    13.30   49.90   71.60      NaN   \n",
       "2007-04-26       NaN   10.80   74.50    13.25   49.50   71.00      NaN   \n",
       "2007-04-27       NaN   11.55   75.70    13.15   48.80   69.50      NaN   \n",
       "\n",
       "                             \n",
       "stock_id   9960 邁達康 9962 有益  \n",
       "date                         \n",
       "2007-04-23    46.00   49.60  \n",
       "2007-04-24    45.90   50.40  \n",
       "2007-04-25    49.10   49.10  \n",
       "2007-04-26    48.90   48.00  \n",
       "2007-04-27    48.60   46.50  \n",
       "\n",
       "[5 rows x 66978 columns]"
      ]
     },
     "execution_count": 10,
     "metadata": {},
     "output_type": "execute_result"
    }
   ],
   "source": [
    "data.head()"
   ]
  },
  {
   "cell_type": "code",
   "execution_count": 11,
   "metadata": {},
   "outputs": [],
   "source": [
    "data = data[\"收盤價\"]"
   ]
  },
  {
   "cell_type": "code",
   "execution_count": 12,
   "metadata": {},
   "outputs": [
    {
     "data": {
      "text/html": [
       "<div>\n",
       "<style scoped>\n",
       "    .dataframe tbody tr th:only-of-type {\n",
       "        vertical-align: middle;\n",
       "    }\n",
       "\n",
       "    .dataframe tbody tr th {\n",
       "        vertical-align: top;\n",
       "    }\n",
       "\n",
       "    .dataframe thead th {\n",
       "        text-align: right;\n",
       "    }\n",
       "</style>\n",
       "<table border=\"1\" class=\"dataframe\">\n",
       "  <thead>\n",
       "    <tr style=\"text-align: right;\">\n",
       "      <th>stock_id</th>\n",
       "      <th>0015 富邦</th>\n",
       "      <th>0050 元大台灣50</th>\n",
       "      <th>0051 元大中型100</th>\n",
       "      <th>0052 富邦科技</th>\n",
       "      <th>0053 元大電子</th>\n",
       "      <th>0054 元大台商50</th>\n",
       "      <th>0055 元大MSCI金融</th>\n",
       "      <th>0056 元大高股息</th>\n",
       "      <th>0057 富邦摩台</th>\n",
       "      <th>0058 富邦發達</th>\n",
       "      <th>...</th>\n",
       "      <th>9946 三發</th>\n",
       "      <th>9946 三發地產</th>\n",
       "      <th>9946 金革</th>\n",
       "      <th>9949 琉園</th>\n",
       "      <th>9950 萬國通</th>\n",
       "      <th>9951 皇田</th>\n",
       "      <th>9955 佳龍</th>\n",
       "      <th>9958 世紀鋼</th>\n",
       "      <th>9960 邁達康</th>\n",
       "      <th>9962 有益</th>\n",
       "    </tr>\n",
       "    <tr>\n",
       "      <th>date</th>\n",
       "      <th></th>\n",
       "      <th></th>\n",
       "      <th></th>\n",
       "      <th></th>\n",
       "      <th></th>\n",
       "      <th></th>\n",
       "      <th></th>\n",
       "      <th></th>\n",
       "      <th></th>\n",
       "      <th></th>\n",
       "      <th></th>\n",
       "      <th></th>\n",
       "      <th></th>\n",
       "      <th></th>\n",
       "      <th></th>\n",
       "      <th></th>\n",
       "      <th></th>\n",
       "      <th></th>\n",
       "      <th></th>\n",
       "      <th></th>\n",
       "      <th></th>\n",
       "    </tr>\n",
       "  </thead>\n",
       "  <tbody>\n",
       "    <tr>\n",
       "      <th>2020-08-10</th>\n",
       "      <td>NaN</td>\n",
       "      <td>105.60</td>\n",
       "      <td>40.35</td>\n",
       "      <td>91.30</td>\n",
       "      <td>50.70</td>\n",
       "      <td>26.10</td>\n",
       "      <td>18.21</td>\n",
       "      <td>30.60</td>\n",
       "      <td>69.40</td>\n",
       "      <td>NaN</td>\n",
       "      <td>...</td>\n",
       "      <td>NaN</td>\n",
       "      <td>18.40</td>\n",
       "      <td>NaN</td>\n",
       "      <td>12.85</td>\n",
       "      <td>9.34</td>\n",
       "      <td>77.80</td>\n",
       "      <td>20.55</td>\n",
       "      <td>98.40</td>\n",
       "      <td>29.00</td>\n",
       "      <td>9.28</td>\n",
       "    </tr>\n",
       "    <tr>\n",
       "      <th>2020-08-11</th>\n",
       "      <td>NaN</td>\n",
       "      <td>104.80</td>\n",
       "      <td>40.19</td>\n",
       "      <td>90.30</td>\n",
       "      <td>50.30</td>\n",
       "      <td>25.83</td>\n",
       "      <td>18.21</td>\n",
       "      <td>30.35</td>\n",
       "      <td>69.25</td>\n",
       "      <td>NaN</td>\n",
       "      <td>...</td>\n",
       "      <td>NaN</td>\n",
       "      <td>18.00</td>\n",
       "      <td>NaN</td>\n",
       "      <td>12.85</td>\n",
       "      <td>9.22</td>\n",
       "      <td>78.10</td>\n",
       "      <td>19.65</td>\n",
       "      <td>99.10</td>\n",
       "      <td>---</td>\n",
       "      <td>9.27</td>\n",
       "    </tr>\n",
       "    <tr>\n",
       "      <th>2020-08-12</th>\n",
       "      <td>NaN</td>\n",
       "      <td>103.25</td>\n",
       "      <td>40.26</td>\n",
       "      <td>88.45</td>\n",
       "      <td>49.36</td>\n",
       "      <td>--</td>\n",
       "      <td>18.19</td>\n",
       "      <td>30.22</td>\n",
       "      <td>68.10</td>\n",
       "      <td>NaN</td>\n",
       "      <td>...</td>\n",
       "      <td>NaN</td>\n",
       "      <td>17.95</td>\n",
       "      <td>NaN</td>\n",
       "      <td>12.75</td>\n",
       "      <td>9.20</td>\n",
       "      <td>82.00</td>\n",
       "      <td>19.35</td>\n",
       "      <td>98.20</td>\n",
       "      <td>28.55</td>\n",
       "      <td>9.25</td>\n",
       "    </tr>\n",
       "    <tr>\n",
       "      <th>2020-08-13</th>\n",
       "      <td>NaN</td>\n",
       "      <td>104.25</td>\n",
       "      <td>40.25</td>\n",
       "      <td>89.40</td>\n",
       "      <td>49.96</td>\n",
       "      <td>26.00</td>\n",
       "      <td>18.25</td>\n",
       "      <td>30.32</td>\n",
       "      <td>68.65</td>\n",
       "      <td>NaN</td>\n",
       "      <td>...</td>\n",
       "      <td>NaN</td>\n",
       "      <td>17.80</td>\n",
       "      <td>NaN</td>\n",
       "      <td>12.85</td>\n",
       "      <td>9.38</td>\n",
       "      <td>81.80</td>\n",
       "      <td>18.75</td>\n",
       "      <td>99.40</td>\n",
       "      <td>28.50</td>\n",
       "      <td>9.14</td>\n",
       "    </tr>\n",
       "    <tr>\n",
       "      <th>2020-08-14</th>\n",
       "      <td>NaN</td>\n",
       "      <td>104.50</td>\n",
       "      <td>40.70</td>\n",
       "      <td>90.00</td>\n",
       "      <td>49.90</td>\n",
       "      <td>26.01</td>\n",
       "      <td>18.25</td>\n",
       "      <td>30.63</td>\n",
       "      <td>68.75</td>\n",
       "      <td>NaN</td>\n",
       "      <td>...</td>\n",
       "      <td>NaN</td>\n",
       "      <td>17.75</td>\n",
       "      <td>NaN</td>\n",
       "      <td>12.80</td>\n",
       "      <td>9.38</td>\n",
       "      <td>81.80</td>\n",
       "      <td>19.05</td>\n",
       "      <td>98.50</td>\n",
       "      <td>---</td>\n",
       "      <td>9.05</td>\n",
       "    </tr>\n",
       "  </tbody>\n",
       "</table>\n",
       "<p>5 rows × 66978 columns</p>\n",
       "</div>"
      ],
      "text/plain": [
       "stock_id   0015 富邦 0050 元大台灣50 0051 元大中型100 0052 富邦科技 0053 元大電子 0054 元大台商50  \\\n",
       "date                                                                          \n",
       "2020-08-10     NaN      105.60        40.35     91.30     50.70       26.10   \n",
       "2020-08-11     NaN      104.80        40.19     90.30     50.30       25.83   \n",
       "2020-08-12     NaN      103.25        40.26     88.45     49.36          --   \n",
       "2020-08-13     NaN      104.25        40.25     89.40     49.96       26.00   \n",
       "2020-08-14     NaN      104.50        40.70     90.00     49.90       26.01   \n",
       "\n",
       "stock_id   0055 元大MSCI金融 0056 元大高股息 0057 富邦摩台 0058 富邦發達  ... 9946 三發  \\\n",
       "date                                                     ...           \n",
       "2020-08-10         18.21      30.60     69.40       NaN  ...     NaN   \n",
       "2020-08-11         18.21      30.35     69.25       NaN  ...     NaN   \n",
       "2020-08-12         18.19      30.22     68.10       NaN  ...     NaN   \n",
       "2020-08-13         18.25      30.32     68.65       NaN  ...     NaN   \n",
       "2020-08-14         18.25      30.63     68.75       NaN  ...     NaN   \n",
       "\n",
       "stock_id   9946 三發地產 9946 金革 9949 琉園 9950 萬國通 9951 皇田 9955 佳龍 9958 世紀鋼  \\\n",
       "date                                                                     \n",
       "2020-08-10     18.40     NaN   12.85     9.34   77.80   20.55    98.40   \n",
       "2020-08-11     18.00     NaN   12.85     9.22   78.10   19.65    99.10   \n",
       "2020-08-12     17.95     NaN   12.75     9.20   82.00   19.35    98.20   \n",
       "2020-08-13     17.80     NaN   12.85     9.38   81.80   18.75    99.40   \n",
       "2020-08-14     17.75     NaN   12.80     9.38   81.80   19.05    98.50   \n",
       "\n",
       "stock_id   9960 邁達康 9962 有益  \n",
       "date                         \n",
       "2020-08-10    29.00    9.28  \n",
       "2020-08-11      ---    9.27  \n",
       "2020-08-12    28.55    9.25  \n",
       "2020-08-13    28.50    9.14  \n",
       "2020-08-14      ---    9.05  \n",
       "\n",
       "[5 rows x 66978 columns]"
      ]
     },
     "execution_count": 12,
     "metadata": {},
     "output_type": "execute_result"
    }
   ],
   "source": [
    "data.tail()"
   ]
  },
  {
   "cell_type": "code",
   "execution_count": 13,
   "metadata": {},
   "outputs": [
    {
     "data": {
      "text/plain": [
       "Index(['0015 富邦', '0050 元大台灣50', '0051 元大中型100', '0052 富邦科技', '0053 元大電子',\n",
       "       '0054 元大台商50', '0055 元大MSCI金融', '0056 元大高股息', '0057 富邦摩台', '0058 富邦發達',\n",
       "       ...\n",
       "       '9946 三發', '9946 三發地產', '9946 金革', '9949 琉園', '9950 萬國通', '9951 皇田',\n",
       "       '9955 佳龍', '9958 世紀鋼', '9960 邁達康', '9962 有益'],\n",
       "      dtype='object', name='stock_id', length=66978)"
      ]
     },
     "execution_count": 13,
     "metadata": {},
     "output_type": "execute_result"
    }
   ],
   "source": [
    "data.columns"
   ]
  },
  {
   "cell_type": "code",
   "execution_count": 14,
   "metadata": {},
   "outputs": [
    {
     "data": {
      "text/plain": [
       "Index(['2454 聯發科'], dtype='object', name='stock_id')"
      ]
     },
     "execution_count": 14,
     "metadata": {},
     "output_type": "execute_result"
    }
   ],
   "source": [
    "#提出特定股票\n",
    "data.filter(like='聯發科').columns"
   ]
  },
  {
   "cell_type": "code",
   "execution_count": 15,
   "metadata": {},
   "outputs": [],
   "source": [
    "name = '2454 聯發科'"
   ]
  },
  {
   "cell_type": "code",
   "execution_count": 16,
   "metadata": {},
   "outputs": [],
   "source": [
    "tsmc = data[name]"
   ]
  },
  {
   "cell_type": "code",
   "execution_count": 17,
   "metadata": {},
   "outputs": [
    {
     "data": {
      "text/plain": [
       "date\n",
       "2007-04-23    400.00\n",
       "2007-04-24    409.00\n",
       "2007-04-25    409.50\n",
       "2007-04-26    406.00\n",
       "2007-04-27    406.00\n",
       "               ...  \n",
       "2020-08-10    706.00\n",
       "2020-08-11    693.00\n",
       "2020-08-12    680.00\n",
       "2020-08-13    684.00\n",
       "2020-08-14    680.00\n",
       "Name: 2454 聯發科, Length: 3290, dtype: object"
      ]
     },
     "execution_count": 17,
     "metadata": {},
     "output_type": "execute_result"
    }
   ],
   "source": [
    "tsmc"
   ]
  },
  {
   "cell_type": "code",
   "execution_count": 18,
   "metadata": {},
   "outputs": [],
   "source": [
    "tsmc = tsmc[tsmc !=\"--\"]"
   ]
  },
  {
   "cell_type": "code",
   "execution_count": 19,
   "metadata": {},
   "outputs": [
    {
     "data": {
      "text/plain": [
       "date\n",
       "2007-04-23    400.00\n",
       "2007-04-24    409.00\n",
       "2007-04-25    409.50\n",
       "2007-04-26    406.00\n",
       "2007-04-27    406.00\n",
       "               ...  \n",
       "2020-08-10    706.00\n",
       "2020-08-11    693.00\n",
       "2020-08-12    680.00\n",
       "2020-08-13    684.00\n",
       "2020-08-14    680.00\n",
       "Name: 2454 聯發科, Length: 3289, dtype: object"
      ]
     },
     "execution_count": 19,
     "metadata": {},
     "output_type": "execute_result"
    }
   ],
   "source": [
    "tsmc"
   ]
  },
  {
   "cell_type": "code",
   "execution_count": 20,
   "metadata": {},
   "outputs": [],
   "source": [
    "tsmc = tsmc.astype('float')"
   ]
  },
  {
   "cell_type": "markdown",
   "metadata": {},
   "source": [
    "## Run到這可以拿到股價資料"
   ]
  },
  {
   "cell_type": "code",
   "execution_count": null,
   "metadata": {},
   "outputs": [],
   "source": []
  },
  {
   "cell_type": "code",
   "execution_count": null,
   "metadata": {},
   "outputs": [],
   "source": []
  },
  {
   "cell_type": "code",
   "execution_count": null,
   "metadata": {},
   "outputs": [],
   "source": []
  },
  {
   "cell_type": "code",
   "execution_count": null,
   "metadata": {},
   "outputs": [],
   "source": []
  },
  {
   "cell_type": "code",
   "execution_count": null,
   "metadata": {},
   "outputs": [],
   "source": []
  },
  {
   "cell_type": "code",
   "execution_count": null,
   "metadata": {},
   "outputs": [],
   "source": []
  },
  {
   "cell_type": "code",
   "execution_count": null,
   "metadata": {},
   "outputs": [],
   "source": []
  },
  {
   "cell_type": "code",
   "execution_count": 21,
   "metadata": {},
   "outputs": [
    {
     "data": {
      "text/plain": [
       "date\n",
       "2007-04-23    400.0\n",
       "2007-04-24    409.0\n",
       "2007-04-25    409.5\n",
       "2007-04-26    406.0\n",
       "2007-04-27    406.0\n",
       "              ...  \n",
       "2020-08-10    706.0\n",
       "2020-08-11    693.0\n",
       "2020-08-12    680.0\n",
       "2020-08-13    684.0\n",
       "2020-08-14    680.0\n",
       "Name: 2454 聯發科, Length: 3289, dtype: float64"
      ]
     },
     "execution_count": 21,
     "metadata": {},
     "output_type": "execute_result"
    }
   ],
   "source": [
    "tsmc"
   ]
  },
  {
   "cell_type": "code",
   "execution_count": 22,
   "metadata": {},
   "outputs": [],
   "source": [
    "import matplotlib.pyplot as plt"
   ]
  },
  {
   "cell_type": "code",
   "execution_count": 23,
   "metadata": {
    "scrolled": true
   },
   "outputs": [
    {
     "data": {
      "text/plain": [
       "<AxesSubplot:xlabel='date'>"
      ]
     },
     "execution_count": 23,
     "metadata": {},
     "output_type": "execute_result"
    },
    {
     "data": {
      "image/png": "[encoded data removed]",
      "text/plain": [
       "<Figure size 432x288 with 1 Axes>"
      ]
     },
     "metadata": {
      "needs_background": "light"
     },
     "output_type": "display_data"
    }
   ],
   "source": [
    "#畫股價圖\n",
    "tsmc.plot()"
   ]
  },
  {
   "cell_type": "code",
   "execution_count": 24,
   "metadata": {},
   "outputs": [],
   "source": [
    "import seaborn as sns\n",
    "sns.set()"
   ]
  },
  {
   "cell_type": "code",
   "execution_count": 25,
   "metadata": {},
   "outputs": [],
   "source": [
    "#!pip install seaborn"
   ]
  },
  {
   "cell_type": "code",
   "execution_count": 26,
   "metadata": {},
   "outputs": [
    {
     "data": {
      "text/plain": [
       "<AxesSubplot:xlabel='date'>"
      ]
     },
     "execution_count": 26,
     "metadata": {},
     "output_type": "execute_result"
    },
    {
     "data": {
      "image/png": "[encoded data removed]",
      "text/plain": [
       "<Figure size 432x288 with 1 Axes>"
      ]
     },
     "metadata": {},
     "output_type": "display_data"
    }
   ],
   "source": [
    "tsmc.plot()"
   ]
  },
  {
   "cell_type": "code",
   "execution_count": 27,
   "metadata": {},
   "outputs": [],
   "source": [
    "#算每月股價變化率\n",
    "startprice = tsmc.groupby([tsmc.index.year,tsmc.index.month]).first()"
   ]
  },
  {
   "cell_type": "code",
   "execution_count": 28,
   "metadata": {},
   "outputs": [],
   "source": [
    "endprice = tsmc.groupby([tsmc.index.year,tsmc.index.month]).last()"
   ]
  },
  {
   "cell_type": "code",
   "execution_count": 29,
   "metadata": {},
   "outputs": [
    {
     "data": {
      "text/plain": [
       "date  date\n",
       "2007  4       400.0\n",
       "      5       431.0\n",
       "      6       531.0\n",
       "      7       513.0\n",
       "      8       569.0\n",
       "              ...  \n",
       "2020  4       334.0\n",
       "      5       399.5\n",
       "      6       461.5\n",
       "      7       577.0\n",
       "      8       696.0\n",
       "Name: 2454 聯發科, Length: 161, dtype: float64"
      ]
     },
     "execution_count": 29,
     "metadata": {},
     "output_type": "execute_result"
    }
   ],
   "source": [
    "startprice"
   ]
  },
  {
   "cell_type": "code",
   "execution_count": 30,
   "metadata": {},
   "outputs": [
    {
     "data": {
      "text/plain": [
       "date  date\n",
       "2007  4       418.0\n",
       "      5       523.0\n",
       "      6       512.0\n",
       "      7       593.0\n",
       "      8       560.0\n",
       "              ...  \n",
       "2020  4       415.0\n",
       "      5       463.0\n",
       "      6       579.0\n",
       "      7       701.0\n",
       "      8       680.0\n",
       "Name: 2454 聯發科, Length: 161, dtype: float64"
      ]
     },
     "execution_count": 30,
     "metadata": {},
     "output_type": "execute_result"
    }
   ],
   "source": [
    "endprice"
   ]
  },
  {
   "cell_type": "code",
   "execution_count": 31,
   "metadata": {},
   "outputs": [],
   "source": [
    "profit = endprice / startprice"
   ]
  },
  {
   "cell_type": "code",
   "execution_count": 32,
   "metadata": {},
   "outputs": [
    {
     "data": {
      "text/plain": [
       "date  date\n",
       "2007  4       1.045000\n",
       "      5       1.213457\n",
       "      6       0.964218\n",
       "      7       1.155945\n",
       "      8       0.984183\n",
       "                ...   \n",
       "2020  4       1.242515\n",
       "      5       1.158949\n",
       "      6       1.254605\n",
       "      7       1.214905\n",
       "      8       0.977011\n",
       "Name: 2454 聯發科, Length: 161, dtype: float64"
      ]
     },
     "execution_count": 32,
     "metadata": {},
     "output_type": "execute_result"
    }
   ],
   "source": [
    "profit"
   ]
  },
  {
   "cell_type": "code",
   "execution_count": 33,
   "metadata": {},
   "outputs": [],
   "source": [
    "profit.index.set_names([\"year\",\"month\"],inplace=True)"
   ]
  },
  {
   "cell_type": "code",
   "execution_count": 34,
   "metadata": {},
   "outputs": [
    {
     "data": {
      "text/plain": [
       "year  month\n",
       "2007  4        1.045000\n",
       "      5        1.213457\n",
       "      6        0.964218\n",
       "      7        1.155945\n",
       "      8        0.984183\n",
       "                 ...   \n",
       "2020  4        1.242515\n",
       "      5        1.158949\n",
       "      6        1.254605\n",
       "      7        1.214905\n",
       "      8        0.977011\n",
       "Name: 2454 聯發科, Length: 161, dtype: float64"
      ]
     },
     "execution_count": 34,
     "metadata": {},
     "output_type": "execute_result"
    }
   ],
   "source": [
    "profit"
   ]
  },
  {
   "cell_type": "code",
   "execution_count": 35,
   "metadata": {},
   "outputs": [],
   "source": [
    "profit = profit.reset_index().pivot('year','month')"
   ]
  },
  {
   "cell_type": "code",
   "execution_count": 36,
   "metadata": {},
   "outputs": [],
   "source": [
    "profit = profit[name]"
   ]
  },
  {
   "cell_type": "code",
   "execution_count": 37,
   "metadata": {},
   "outputs": [
    {
     "data": {
      "text/html": [
       "<div>\n",
       "<style scoped>\n",
       "    .dataframe tbody tr th:only-of-type {\n",
       "        vertical-align: middle;\n",
       "    }\n",
       "\n",
       "    .dataframe tbody tr th {\n",
       "        vertical-align: top;\n",
       "    }\n",
       "\n",
       "    .dataframe thead th {\n",
       "        text-align: right;\n",
       "    }\n",
       "</style>\n",
       "<table border=\"1\" class=\"dataframe\">\n",
       "  <thead>\n",
       "    <tr style=\"text-align: right;\">\n",
       "      <th>month</th>\n",
       "      <th>1</th>\n",
       "      <th>2</th>\n",
       "      <th>3</th>\n",
       "      <th>4</th>\n",
       "      <th>5</th>\n",
       "      <th>6</th>\n",
       "      <th>7</th>\n",
       "      <th>8</th>\n",
       "      <th>9</th>\n",
       "      <th>10</th>\n",
       "      <th>11</th>\n",
       "      <th>12</th>\n",
       "    </tr>\n",
       "    <tr>\n",
       "      <th>year</th>\n",
       "      <th></th>\n",
       "      <th></th>\n",
       "      <th></th>\n",
       "      <th></th>\n",
       "      <th></th>\n",
       "      <th></th>\n",
       "      <th></th>\n",
       "      <th></th>\n",
       "      <th></th>\n",
       "      <th></th>\n",
       "      <th></th>\n",
       "      <th></th>\n",
       "    </tr>\n",
       "  </thead>\n",
       "  <tbody>\n",
       "    <tr>\n",
       "      <th>2007</th>\n",
       "      <td>NaN</td>\n",
       "      <td>NaN</td>\n",
       "      <td>NaN</td>\n",
       "      <td>1.045000</td>\n",
       "      <td>1.213457</td>\n",
       "      <td>0.964218</td>\n",
       "      <td>1.155945</td>\n",
       "      <td>0.984183</td>\n",
       "      <td>1.071942</td>\n",
       "      <td>1.071066</td>\n",
       "      <td>0.659341</td>\n",
       "      <td>0.988263</td>\n",
       "    </tr>\n",
       "    <tr>\n",
       "      <th>2008</th>\n",
       "      <td>0.764634</td>\n",
       "      <td>1.202703</td>\n",
       "      <td>1.178203</td>\n",
       "      <td>0.987500</td>\n",
       "      <td>0.910180</td>\n",
       "      <td>0.951087</td>\n",
       "      <td>0.946746</td>\n",
       "      <td>1.127692</td>\n",
       "      <td>0.923295</td>\n",
       "      <td>0.910769</td>\n",
       "      <td>0.750000</td>\n",
       "      <td>0.982183</td>\n",
       "    </tr>\n",
       "    <tr>\n",
       "      <th>2009</th>\n",
       "      <td>1.019108</td>\n",
       "      <td>1.206349</td>\n",
       "      <td>1.096220</td>\n",
       "      <td>1.091918</td>\n",
       "      <td>1.085482</td>\n",
       "      <td>0.963145</td>\n",
       "      <td>1.181704</td>\n",
       "      <td>1.006316</td>\n",
       "      <td>1.048924</td>\n",
       "      <td>0.867537</td>\n",
       "      <td>1.042138</td>\n",
       "      <td>1.094118</td>\n",
       "    </tr>\n",
       "    <tr>\n",
       "      <th>2010</th>\n",
       "      <td>0.917108</td>\n",
       "      <td>1.000000</td>\n",
       "      <td>1.063707</td>\n",
       "      <td>0.943463</td>\n",
       "      <td>0.972119</td>\n",
       "      <td>0.876938</td>\n",
       "      <td>1.003472</td>\n",
       "      <td>1.013937</td>\n",
       "      <td>1.003429</td>\n",
       "      <td>0.857461</td>\n",
       "      <td>0.992376</td>\n",
       "      <td>1.066411</td>\n",
       "    </tr>\n",
       "    <tr>\n",
       "      <th>2011</th>\n",
       "      <td>0.954217</td>\n",
       "      <td>0.906377</td>\n",
       "      <td>1.030488</td>\n",
       "      <td>0.922741</td>\n",
       "      <td>0.948148</td>\n",
       "      <td>0.945455</td>\n",
       "      <td>0.824561</td>\n",
       "      <td>1.143137</td>\n",
       "      <td>1.163793</td>\n",
       "      <td>0.978462</td>\n",
       "      <td>0.874804</td>\n",
       "      <td>0.965217</td>\n",
       "    </tr>\n",
       "    <tr>\n",
       "      <th>2012</th>\n",
       "      <td>1.034799</td>\n",
       "      <td>1.045139</td>\n",
       "      <td>0.930807</td>\n",
       "      <td>0.915009</td>\n",
       "      <td>0.988764</td>\n",
       "      <td>1.060194</td>\n",
       "      <td>0.947955</td>\n",
       "      <td>1.174312</td>\n",
       "      <td>0.967187</td>\n",
       "      <td>1.038400</td>\n",
       "      <td>1.012251</td>\n",
       "      <td>0.965672</td>\n",
       "    </tr>\n",
       "    <tr>\n",
       "      <th>2013</th>\n",
       "      <td>0.993846</td>\n",
       "      <td>1.027735</td>\n",
       "      <td>1.010340</td>\n",
       "      <td>1.055718</td>\n",
       "      <td>1.016393</td>\n",
       "      <td>0.947011</td>\n",
       "      <td>1.043478</td>\n",
       "      <td>1.013812</td>\n",
       "      <td>1.020950</td>\n",
       "      <td>1.099863</td>\n",
       "      <td>1.077874</td>\n",
       "      <td>1.031395</td>\n",
       "    </tr>\n",
       "    <tr>\n",
       "      <th>2014</th>\n",
       "      <td>0.908163</td>\n",
       "      <td>1.109726</td>\n",
       "      <td>0.998889</td>\n",
       "      <td>1.018339</td>\n",
       "      <td>0.964356</td>\n",
       "      <td>1.026423</td>\n",
       "      <td>0.923228</td>\n",
       "      <td>1.006042</td>\n",
       "      <td>0.874757</td>\n",
       "      <td>0.946448</td>\n",
       "      <td>1.062857</td>\n",
       "      <td>0.997840</td>\n",
       "    </tr>\n",
       "    <tr>\n",
       "      <th>2015</th>\n",
       "      <td>1.045455</td>\n",
       "      <td>0.980311</td>\n",
       "      <td>0.887841</td>\n",
       "      <td>0.941597</td>\n",
       "      <td>1.090789</td>\n",
       "      <td>1.029268</td>\n",
       "      <td>0.776608</td>\n",
       "      <td>0.839465</td>\n",
       "      <td>0.993878</td>\n",
       "      <td>1.015968</td>\n",
       "      <td>0.964815</td>\n",
       "      <td>0.957854</td>\n",
       "    </tr>\n",
       "    <tr>\n",
       "      <th>2016</th>\n",
       "      <td>0.887755</td>\n",
       "      <td>1.123810</td>\n",
       "      <td>1.062366</td>\n",
       "      <td>0.954357</td>\n",
       "      <td>1.042654</td>\n",
       "      <td>1.099099</td>\n",
       "      <td>0.993878</td>\n",
       "      <td>1.002008</td>\n",
       "      <td>0.954183</td>\n",
       "      <td>0.995851</td>\n",
       "      <td>0.932632</td>\n",
       "      <td>0.964365</td>\n",
       "    </tr>\n",
       "    <tr>\n",
       "      <th>2017</th>\n",
       "      <td>0.979358</td>\n",
       "      <td>1.095355</td>\n",
       "      <td>0.955556</td>\n",
       "      <td>0.986364</td>\n",
       "      <td>1.038375</td>\n",
       "      <td>1.142544</td>\n",
       "      <td>0.994393</td>\n",
       "      <td>0.924786</td>\n",
       "      <td>1.071691</td>\n",
       "      <td>1.189236</td>\n",
       "      <td>0.964497</td>\n",
       "      <td>0.933333</td>\n",
       "    </tr>\n",
       "    <tr>\n",
       "      <th>2018</th>\n",
       "      <td>1.025729</td>\n",
       "      <td>0.980456</td>\n",
       "      <td>1.136895</td>\n",
       "      <td>1.010401</td>\n",
       "      <td>0.941088</td>\n",
       "      <td>0.940439</td>\n",
       "      <td>0.832787</td>\n",
       "      <td>0.914545</td>\n",
       "      <td>0.987976</td>\n",
       "      <td>0.910000</td>\n",
       "      <td>1.062640</td>\n",
       "      <td>0.934827</td>\n",
       "    </tr>\n",
       "    <tr>\n",
       "      <th>2019</th>\n",
       "      <td>1.102041</td>\n",
       "      <td>1.078998</td>\n",
       "      <td>1.019856</td>\n",
       "      <td>1.035026</td>\n",
       "      <td>1.043624</td>\n",
       "      <td>1.000000</td>\n",
       "      <td>1.001592</td>\n",
       "      <td>1.170382</td>\n",
       "      <td>0.995951</td>\n",
       "      <td>1.083665</td>\n",
       "      <td>1.040741</td>\n",
       "      <td>1.064826</td>\n",
       "    </tr>\n",
       "    <tr>\n",
       "      <th>2020</th>\n",
       "      <td>0.878822</td>\n",
       "      <td>0.942408</td>\n",
       "      <td>0.902204</td>\n",
       "      <td>1.242515</td>\n",
       "      <td>1.158949</td>\n",
       "      <td>1.254605</td>\n",
       "      <td>1.214905</td>\n",
       "      <td>0.977011</td>\n",
       "      <td>NaN</td>\n",
       "      <td>NaN</td>\n",
       "      <td>NaN</td>\n",
       "      <td>NaN</td>\n",
       "    </tr>\n",
       "  </tbody>\n",
       "</table>\n",
       "</div>"
      ],
      "text/plain": [
       "month        1         2         3         4         5         6         7   \\\n",
       "year                                                                          \n",
       "2007        NaN       NaN       NaN  1.045000  1.213457  0.964218  1.155945   \n",
       "2008   0.764634  1.202703  1.178203  0.987500  0.910180  0.951087  0.946746   \n",
       "2009   1.019108  1.206349  1.096220  1.091918  1.085482  0.963145  1.181704   \n",
       "2010   0.917108  1.000000  1.063707  0.943463  0.972119  0.876938  1.003472   \n",
       "2011   0.954217  0.906377  1.030488  0.922741  0.948148  0.945455  0.824561   \n",
       "2012   1.034799  1.045139  0.930807  0.915009  0.988764  1.060194  0.947955   \n",
       "2013   0.993846  1.027735  1.010340  1.055718  1.016393  0.947011  1.043478   \n",
       "2014   0.908163  1.109726  0.998889  1.018339  0.964356  1.026423  0.923228   \n",
       "2015   1.045455  0.980311  0.887841  0.941597  1.090789  1.029268  0.776608   \n",
       "2016   0.887755  1.123810  1.062366  0.954357  1.042654  1.099099  0.993878   \n",
       "2017   0.979358  1.095355  0.955556  0.986364  1.038375  1.142544  0.994393   \n",
       "2018   1.025729  0.980456  1.136895  1.010401  0.941088  0.940439  0.832787   \n",
       "2019   1.102041  1.078998  1.019856  1.035026  1.043624  1.000000  1.001592   \n",
       "2020   0.878822  0.942408  0.902204  1.242515  1.158949  1.254605  1.214905   \n",
       "\n",
       "month        8         9         10        11        12  \n",
       "year                                                     \n",
       "2007   0.984183  1.071942  1.071066  0.659341  0.988263  \n",
       "2008   1.127692  0.923295  0.910769  0.750000  0.982183  \n",
       "2009   1.006316  1.048924  0.867537  1.042138  1.094118  \n",
       "2010   1.013937  1.003429  0.857461  0.992376  1.066411  \n",
       "2011   1.143137  1.163793  0.978462  0.874804  0.965217  \n",
       "2012   1.174312  0.967187  1.038400  1.012251  0.965672  \n",
       "2013   1.013812  1.020950  1.099863  1.077874  1.031395  \n",
       "2014   1.006042  0.874757  0.946448  1.062857  0.997840  \n",
       "2015   0.839465  0.993878  1.015968  0.964815  0.957854  \n",
       "2016   1.002008  0.954183  0.995851  0.932632  0.964365  \n",
       "2017   0.924786  1.071691  1.189236  0.964497  0.933333  \n",
       "2018   0.914545  0.987976  0.910000  1.062640  0.934827  \n",
       "2019   1.170382  0.995951  1.083665  1.040741  1.064826  \n",
       "2020   0.977011       NaN       NaN       NaN       NaN  "
      ]
     },
     "execution_count": 37,
     "metadata": {},
     "output_type": "execute_result"
    }
   ],
   "source": [
    "#每月變化率輸出\n",
    "profit"
   ]
  },
  {
   "cell_type": "code",
   "execution_count": 38,
   "metadata": {},
   "outputs": [
    {
     "data": {
      "text/plain": [
       "<AxesSubplot:xlabel='month', ylabel='year'>"
      ]
     },
     "execution_count": 38,
     "metadata": {},
     "output_type": "execute_result"
    },
    {
     "data": {
      "image/png": "[encoded data removed]",
      "text/plain": [
       "<Figure size 432x288 with 2 Axes>"
      ]
     },
     "metadata": {},
     "output_type": "display_data"
    }
   ],
   "source": [
    "sns.heatmap(profit,cmap='autumn')"
   ]
  },
  {
   "cell_type": "code",
   "execution_count": 39,
   "metadata": {},
   "outputs": [],
   "source": [
    "plt.rcParams['figure.figsize'] = (10,10)"
   ]
  },
  {
   "cell_type": "code",
   "execution_count": 40,
   "metadata": {},
   "outputs": [
    {
     "data": {
      "text/plain": [
       "<AxesSubplot:xlabel='month', ylabel='year'>"
      ]
     },
     "execution_count": 40,
     "metadata": {},
     "output_type": "execute_result"
    },
    {
     "data": {
      "image/png": "[encoded data removed]",
      "text/plain": [
       "<Figure size 720x720 with 2 Axes>"
      ]
     },
     "metadata": {},
     "output_type": "display_data"
    }
   ],
   "source": [
    "sns.heatmap(profit,cmap='autumn')"
   ]
  },
  {
   "cell_type": "code",
   "execution_count": 41,
   "metadata": {},
   "outputs": [
    {
     "data": {
      "text/plain": [
       "date\n",
       "2007-04-23    400.0\n",
       "2007-04-24    409.0\n",
       "2007-04-25    409.5\n",
       "2007-04-26    406.0\n",
       "2007-04-27    406.0\n",
       "              ...  \n",
       "2020-08-10    706.0\n",
       "2020-08-11    693.0\n",
       "2020-08-12    680.0\n",
       "2020-08-13    684.0\n",
       "2020-08-14    680.0\n",
       "Name: 2454 聯發科, Length: 3289, dtype: float64"
      ]
     },
     "execution_count": 41,
     "metadata": {},
     "output_type": "execute_result"
    }
   ],
   "source": [
    "tsmc"
   ]
  },
  {
   "cell_type": "code",
   "execution_count": 42,
   "metadata": {},
   "outputs": [
    {
     "data": {
      "text/plain": [
       "date\n",
       "2007-04-23           NaN\n",
       "2007-04-24           NaN\n",
       "2007-04-25           NaN\n",
       "2007-04-26           NaN\n",
       "2007-04-27           NaN\n",
       "                 ...    \n",
       "2020-08-10    571.658333\n",
       "2020-08-11    576.358333\n",
       "2020-08-12    580.350000\n",
       "2020-08-13    584.050000\n",
       "2020-08-14    587.550000\n",
       "Name: 2454 聯發科, Length: 3289, dtype: float64"
      ]
     },
     "execution_count": 42,
     "metadata": {},
     "output_type": "execute_result"
    }
   ],
   "source": [
    "#算與未來60天的平均線\n",
    "tsmc.rolling(60).mean()"
   ]
  },
  {
   "cell_type": "code",
   "execution_count": 43,
   "metadata": {},
   "outputs": [],
   "source": [
    "ma60 = tsmc.rolling(60).mean()"
   ]
  },
  {
   "cell_type": "code",
   "execution_count": 44,
   "metadata": {},
   "outputs": [
    {
     "data": {
      "text/plain": [
       "date\n",
       "2007-04-23           NaN\n",
       "2007-04-24           NaN\n",
       "2007-04-25           NaN\n",
       "2007-04-26           NaN\n",
       "2007-04-27           NaN\n",
       "                 ...    \n",
       "2020-08-10    571.658333\n",
       "2020-08-11    576.358333\n",
       "2020-08-12    580.350000\n",
       "2020-08-13    584.050000\n",
       "2020-08-14    587.550000\n",
       "Name: 2454 聯發科, Length: 3289, dtype: float64"
      ]
     },
     "execution_count": 44,
     "metadata": {},
     "output_type": "execute_result"
    }
   ],
   "source": [
    "ma60"
   ]
  },
  {
   "cell_type": "code",
   "execution_count": 45,
   "metadata": {},
   "outputs": [
    {
     "data": {
      "text/plain": [
       "<AxesSubplot:xlabel='date'>"
      ]
     },
     "execution_count": 45,
     "metadata": {},
     "output_type": "execute_result"
    },
    {
     "data": {
      "image/png": "[encoded data removed]",
      "text/plain": [
       "<Figure size 720x720 with 1 Axes>"
      ]
     },
     "metadata": {},
     "output_type": "display_data"
    }
   ],
   "source": [
    "#均線股價一起畫\n",
    "tsmc['2018':].plot()\n",
    "ma60['2018':].plot()"
   ]
  },
  {
   "cell_type": "code",
   "execution_count": 46,
   "metadata": {},
   "outputs": [],
   "source": [
    "tsmc_bias = tsmc/ma60"
   ]
  },
  {
   "cell_type": "code",
   "execution_count": 47,
   "metadata": {},
   "outputs": [
    {
     "data": {
      "text/plain": [
       "<AxesSubplot:xlabel='date'>"
      ]
     },
     "execution_count": 47,
     "metadata": {},
     "output_type": "execute_result"
    },
    {
     "data": {
      "image/png": "[encoded data removed]",
      "text/plain": [
       "<Figure size 720x720 with 1 Axes>"
      ]
     },
     "metadata": {},
     "output_type": "display_data"
    }
   ],
   "source": [
    "tsmc_bias.plot()"
   ]
  },
  {
   "cell_type": "code",
   "execution_count": 48,
   "metadata": {},
   "outputs": [],
   "source": [
    "#均線股價差畫線\n",
    "tsmc60profit =  tsmc.shift(-60) - tsmc"
   ]
  },
  {
   "cell_type": "code",
   "execution_count": 49,
   "metadata": {},
   "outputs": [
    {
     "data": {
      "text/plain": [
       "<AxesSubplot:xlabel='date'>"
      ]
     },
     "execution_count": 49,
     "metadata": {},
     "output_type": "execute_result"
    },
    {
     "data": {
      "image/png": "[encoded data removed]",
      "text/plain": [
       "<Figure size 720x720 with 1 Axes>"
      ]
     },
     "metadata": {},
     "output_type": "display_data"
    }
   ],
   "source": [
    "tsmc60profit.plot()"
   ]
  },
  {
   "cell_type": "code",
   "execution_count": 50,
   "metadata": {},
   "outputs": [],
   "source": [
    "tsmc_df = pd.DataFrame({\n",
    "    'price':tsmc,\n",
    "    'ma': ma60,\n",
    "    'bias':tsmc_bias,\n",
    "    'profit':tsmc60profit,\n",
    "    'year':tsmc.index.year\n",
    "    \n",
    "})"
   ]
  },
  {
   "cell_type": "code",
   "execution_count": 51,
   "metadata": {},
   "outputs": [
    {
     "data": {
      "text/html": [
       "<div>\n",
       "<style scoped>\n",
       "    .dataframe tbody tr th:only-of-type {\n",
       "        vertical-align: middle;\n",
       "    }\n",
       "\n",
       "    .dataframe tbody tr th {\n",
       "        vertical-align: top;\n",
       "    }\n",
       "\n",
       "    .dataframe thead th {\n",
       "        text-align: right;\n",
       "    }\n",
       "</style>\n",
       "<table border=\"1\" class=\"dataframe\">\n",
       "  <thead>\n",
       "    <tr style=\"text-align: right;\">\n",
       "      <th></th>\n",
       "      <th>price</th>\n",
       "      <th>ma</th>\n",
       "      <th>bias</th>\n",
       "      <th>profit</th>\n",
       "      <th>year</th>\n",
       "    </tr>\n",
       "    <tr>\n",
       "      <th>date</th>\n",
       "      <th></th>\n",
       "      <th></th>\n",
       "      <th></th>\n",
       "      <th></th>\n",
       "      <th></th>\n",
       "    </tr>\n",
       "  </thead>\n",
       "  <tbody>\n",
       "    <tr>\n",
       "      <th>2007-04-23</th>\n",
       "      <td>400.0</td>\n",
       "      <td>NaN</td>\n",
       "      <td>NaN</td>\n",
       "      <td>175.0</td>\n",
       "      <td>2007</td>\n",
       "    </tr>\n",
       "    <tr>\n",
       "      <th>2007-04-24</th>\n",
       "      <td>409.0</td>\n",
       "      <td>NaN</td>\n",
       "      <td>NaN</td>\n",
       "      <td>190.0</td>\n",
       "      <td>2007</td>\n",
       "    </tr>\n",
       "    <tr>\n",
       "      <th>2007-04-25</th>\n",
       "      <td>409.5</td>\n",
       "      <td>NaN</td>\n",
       "      <td>NaN</td>\n",
       "      <td>203.5</td>\n",
       "      <td>2007</td>\n",
       "    </tr>\n",
       "    <tr>\n",
       "      <th>2007-04-26</th>\n",
       "      <td>406.0</td>\n",
       "      <td>NaN</td>\n",
       "      <td>NaN</td>\n",
       "      <td>213.0</td>\n",
       "      <td>2007</td>\n",
       "    </tr>\n",
       "    <tr>\n",
       "      <th>2007-04-27</th>\n",
       "      <td>406.0</td>\n",
       "      <td>NaN</td>\n",
       "      <td>NaN</td>\n",
       "      <td>222.0</td>\n",
       "      <td>2007</td>\n",
       "    </tr>\n",
       "  </tbody>\n",
       "</table>\n",
       "</div>"
      ],
      "text/plain": [
       "            price  ma  bias  profit  year\n",
       "date                                     \n",
       "2007-04-23  400.0 NaN   NaN   175.0  2007\n",
       "2007-04-24  409.0 NaN   NaN   190.0  2007\n",
       "2007-04-25  409.5 NaN   NaN   203.5  2007\n",
       "2007-04-26  406.0 NaN   NaN   213.0  2007\n",
       "2007-04-27  406.0 NaN   NaN   222.0  2007"
      ]
     },
     "execution_count": 51,
     "metadata": {},
     "output_type": "execute_result"
    }
   ],
   "source": [
    "tsmc_df.head()"
   ]
  },
  {
   "cell_type": "code",
   "execution_count": 52,
   "metadata": {},
   "outputs": [
    {
     "data": {
      "text/html": [
       "<div>\n",
       "<style scoped>\n",
       "    .dataframe tbody tr th:only-of-type {\n",
       "        vertical-align: middle;\n",
       "    }\n",
       "\n",
       "    .dataframe tbody tr th {\n",
       "        vertical-align: top;\n",
       "    }\n",
       "\n",
       "    .dataframe thead th {\n",
       "        text-align: right;\n",
       "    }\n",
       "</style>\n",
       "<table border=\"1\" class=\"dataframe\">\n",
       "  <thead>\n",
       "    <tr style=\"text-align: right;\">\n",
       "      <th></th>\n",
       "      <th>price</th>\n",
       "      <th>ma</th>\n",
       "      <th>bias</th>\n",
       "      <th>profit</th>\n",
       "      <th>year</th>\n",
       "    </tr>\n",
       "    <tr>\n",
       "      <th>date</th>\n",
       "      <th></th>\n",
       "      <th></th>\n",
       "      <th></th>\n",
       "      <th></th>\n",
       "      <th></th>\n",
       "    </tr>\n",
       "  </thead>\n",
       "  <tbody>\n",
       "    <tr>\n",
       "      <th>2020-08-10</th>\n",
       "      <td>706.0</td>\n",
       "      <td>571.658333</td>\n",
       "      <td>1.235003</td>\n",
       "      <td>NaN</td>\n",
       "      <td>2020</td>\n",
       "    </tr>\n",
       "    <tr>\n",
       "      <th>2020-08-11</th>\n",
       "      <td>693.0</td>\n",
       "      <td>576.358333</td>\n",
       "      <td>1.202377</td>\n",
       "      <td>NaN</td>\n",
       "      <td>2020</td>\n",
       "    </tr>\n",
       "    <tr>\n",
       "      <th>2020-08-12</th>\n",
       "      <td>680.0</td>\n",
       "      <td>580.350000</td>\n",
       "      <td>1.171707</td>\n",
       "      <td>NaN</td>\n",
       "      <td>2020</td>\n",
       "    </tr>\n",
       "    <tr>\n",
       "      <th>2020-08-13</th>\n",
       "      <td>684.0</td>\n",
       "      <td>584.050000</td>\n",
       "      <td>1.171133</td>\n",
       "      <td>NaN</td>\n",
       "      <td>2020</td>\n",
       "    </tr>\n",
       "    <tr>\n",
       "      <th>2020-08-14</th>\n",
       "      <td>680.0</td>\n",
       "      <td>587.550000</td>\n",
       "      <td>1.157348</td>\n",
       "      <td>NaN</td>\n",
       "      <td>2020</td>\n",
       "    </tr>\n",
       "  </tbody>\n",
       "</table>\n",
       "</div>"
      ],
      "text/plain": [
       "            price          ma      bias  profit  year\n",
       "date                                                 \n",
       "2020-08-10  706.0  571.658333  1.235003     NaN  2020\n",
       "2020-08-11  693.0  576.358333  1.202377     NaN  2020\n",
       "2020-08-12  680.0  580.350000  1.171707     NaN  2020\n",
       "2020-08-13  684.0  584.050000  1.171133     NaN  2020\n",
       "2020-08-14  680.0  587.550000  1.157348     NaN  2020"
      ]
     },
     "execution_count": 52,
     "metadata": {},
     "output_type": "execute_result"
    }
   ],
   "source": [
    "tsmc_df.tail()"
   ]
  },
  {
   "cell_type": "code",
   "execution_count": 53,
   "metadata": {},
   "outputs": [],
   "source": [
    "tsmc_df = tsmc_df.dropna()"
   ]
  },
  {
   "cell_type": "code",
   "execution_count": 54,
   "metadata": {},
   "outputs": [
    {
     "data": {
      "text/html": [
       "<div>\n",
       "<style scoped>\n",
       "    .dataframe tbody tr th:only-of-type {\n",
       "        vertical-align: middle;\n",
       "    }\n",
       "\n",
       "    .dataframe tbody tr th {\n",
       "        vertical-align: top;\n",
       "    }\n",
       "\n",
       "    .dataframe thead th {\n",
       "        text-align: right;\n",
       "    }\n",
       "</style>\n",
       "<table border=\"1\" class=\"dataframe\">\n",
       "  <thead>\n",
       "    <tr style=\"text-align: right;\">\n",
       "      <th></th>\n",
       "      <th>price</th>\n",
       "      <th>ma</th>\n",
       "      <th>bias</th>\n",
       "      <th>profit</th>\n",
       "      <th>year</th>\n",
       "    </tr>\n",
       "    <tr>\n",
       "      <th>date</th>\n",
       "      <th></th>\n",
       "      <th></th>\n",
       "      <th></th>\n",
       "      <th></th>\n",
       "      <th></th>\n",
       "    </tr>\n",
       "  </thead>\n",
       "  <tbody>\n",
       "    <tr>\n",
       "      <th>2020-05-14</th>\n",
       "      <td>411.0</td>\n",
       "      <td>363.758333</td>\n",
       "      <td>1.129871</td>\n",
       "      <td>295.0</td>\n",
       "      <td>2020</td>\n",
       "    </tr>\n",
       "    <tr>\n",
       "      <th>2020-05-15</th>\n",
       "      <td>411.0</td>\n",
       "      <td>363.975000</td>\n",
       "      <td>1.129198</td>\n",
       "      <td>282.0</td>\n",
       "      <td>2020</td>\n",
       "    </tr>\n",
       "    <tr>\n",
       "      <th>2020-05-18</th>\n",
       "      <td>440.5</td>\n",
       "      <td>364.783333</td>\n",
       "      <td>1.207566</td>\n",
       "      <td>239.5</td>\n",
       "      <td>2020</td>\n",
       "    </tr>\n",
       "    <tr>\n",
       "      <th>2020-05-19</th>\n",
       "      <td>462.0</td>\n",
       "      <td>366.008333</td>\n",
       "      <td>1.262266</td>\n",
       "      <td>222.0</td>\n",
       "      <td>2020</td>\n",
       "    </tr>\n",
       "    <tr>\n",
       "      <th>2020-05-20</th>\n",
       "      <td>470.0</td>\n",
       "      <td>367.275000</td>\n",
       "      <td>1.279695</td>\n",
       "      <td>210.0</td>\n",
       "      <td>2020</td>\n",
       "    </tr>\n",
       "  </tbody>\n",
       "</table>\n",
       "</div>"
      ],
      "text/plain": [
       "            price          ma      bias  profit  year\n",
       "date                                                 \n",
       "2020-05-14  411.0  363.758333  1.129871   295.0  2020\n",
       "2020-05-15  411.0  363.975000  1.129198   282.0  2020\n",
       "2020-05-18  440.5  364.783333  1.207566   239.5  2020\n",
       "2020-05-19  462.0  366.008333  1.262266   222.0  2020\n",
       "2020-05-20  470.0  367.275000  1.279695   210.0  2020"
      ]
     },
     "execution_count": 54,
     "metadata": {},
     "output_type": "execute_result"
    }
   ],
   "source": [
    "tsmc_df.tail()"
   ]
  },
  {
   "cell_type": "code",
   "execution_count": 55,
   "metadata": {},
   "outputs": [
    {
     "data": {
      "text/plain": [
       "<AxesSubplot:xlabel='bias', ylabel='profit'>"
      ]
     },
     "execution_count": 55,
     "metadata": {},
     "output_type": "execute_result"
    },
    {
     "data": {
      "image/png": "[encoded data removed]",
      "text/plain": [
       "<Figure size 720x720 with 1 Axes>"
      ]
     },
     "metadata": {},
     "output_type": "display_data"
    }
   ],
   "source": [
    "#看股價均線差異比 和 每月差異的關聯\n",
    "sns.scatterplot(x='bias',y='profit',data=tsmc_df[\"2018\":\"2019\"],hue='year',palette='Accent')"
   ]
  },
  {
   "cell_type": "code",
   "execution_count": null,
   "metadata": {},
   "outputs": [],
   "source": []
  },
  {
   "cell_type": "code",
   "execution_count": 56,
   "metadata": {},
   "outputs": [],
   "source": [
    "ma60 = tsmc.rolling(60).mean()\n",
    "tsmc_bias = tsmc/ma60"
   ]
  },
  {
   "cell_type": "code",
   "execution_count": 57,
   "metadata": {},
   "outputs": [
    {
     "data": {
      "text/plain": [
       "<AxesSubplot:xlabel='date'>"
      ]
     },
     "execution_count": 57,
     "metadata": {},
     "output_type": "execute_result"
    },
    {
     "data": {
      "image/png": "[encoded data removed]",
      "text/plain": [
       "<Figure size 720x720 with 1 Axes>"
      ]
     },
     "metadata": {},
     "output_type": "display_data"
    }
   ],
   "source": [
    "#畫出出手入手分界線 用均線向上下平移\n",
    "up = 1+tsmc_bias.rolling(60).std() * 1.5\n",
    "low = 1-tsmc_bias.rolling(60).std() * 1.5\n",
    "up[\"2018\":].plot()\n",
    "low[\"2018\":].plot()\n",
    "tsmc_bias[\"2018\":].plot()"
   ]
  },
  {
   "cell_type": "markdown",
   "metadata": {},
   "source": [
    "# 工人策略(乖離率策略)"
   ]
  },
  {
   "cell_type": "code",
   "execution_count": 101,
   "metadata": {},
   "outputs": [],
   "source": [
    "#決定出入手時間\n",
    "buy = (tsmc_bias< low)\n",
    "sell = (tsmc_bias > up)"
   ]
  },
  {
   "cell_type": "code",
   "execution_count": 102,
   "metadata": {},
   "outputs": [],
   "source": [
    "#算每60天後出手所獲得的利潤\n",
    "tsmc60profit =  tsmc.shift(-60) - tsmc"
   ]
  },
  {
   "cell_type": "code",
   "execution_count": 103,
   "metadata": {},
   "outputs": [
    {
     "data": {
      "text/plain": [
       "<AxesSubplot:xlabel='date'>"
      ]
     },
     "execution_count": 103,
     "metadata": {},
     "output_type": "execute_result"
    },
    {
     "data": {
      "image/png": "[encoded data removed]",
      "text/plain": [
       "<Figure size 720x720 with 1 Axes>"
      ]
     },
     "metadata": {},
     "output_type": "display_data"
    }
   ],
   "source": [
    "tsmc60profit.plot()"
   ]
  },
  {
   "cell_type": "code",
   "execution_count": null,
   "metadata": {},
   "outputs": [],
   "source": []
  },
  {
   "cell_type": "code",
   "execution_count": 104,
   "metadata": {},
   "outputs": [
    {
     "data": {
      "text/plain": [
       "date\n",
       "2007-04-23         NaN\n",
       "2007-04-24         NaN\n",
       "2007-04-25         NaN\n",
       "2007-04-26         NaN\n",
       "2007-04-27         NaN\n",
       "                ...   \n",
       "2020-08-10    0.921958\n",
       "2020-08-11    0.926128\n",
       "2020-08-12    0.924481\n",
       "2020-08-13    0.921687\n",
       "2020-08-14    0.918292\n",
       "Name: 2454 聯發科, Length: 3289, dtype: float64"
      ]
     },
     "execution_count": 104,
     "metadata": {},
     "output_type": "execute_result"
    }
   ],
   "source": [
    "low"
   ]
  },
  {
   "cell_type": "code",
   "execution_count": 105,
   "metadata": {},
   "outputs": [
    {
     "data": {
      "text/plain": [
       "date\n",
       "2007-04-23    False\n",
       "2007-04-24    False\n",
       "2007-04-25    False\n",
       "2007-04-26    False\n",
       "2007-04-27    False\n",
       "              ...  \n",
       "2020-08-10     True\n",
       "2020-08-11     True\n",
       "2020-08-12     True\n",
       "2020-08-13     True\n",
       "2020-08-14     True\n",
       "Name: 2454 聯發科, Length: 3289, dtype: bool"
      ]
     },
     "execution_count": 105,
     "metadata": {},
     "output_type": "execute_result"
    }
   ],
   "source": [
    "tsmc_bias > up"
   ]
  },
  {
   "cell_type": "code",
   "execution_count": 106,
   "metadata": {},
   "outputs": [
    {
     "data": {
      "text/plain": [
       "date\n",
       "2007-04-23    False\n",
       "2007-04-24    False\n",
       "2007-04-25    False\n",
       "2007-04-26    False\n",
       "2007-04-27    False\n",
       "              ...  \n",
       "2020-08-10    False\n",
       "2020-08-11    False\n",
       "2020-08-12    False\n",
       "2020-08-13    False\n",
       "2020-08-14    False\n",
       "Name: 2454 聯發科, Length: 3289, dtype: bool"
      ]
     },
     "execution_count": 106,
     "metadata": {},
     "output_type": "execute_result"
    }
   ],
   "source": [
    "buy"
   ]
  },
  {
   "cell_type": "code",
   "execution_count": 107,
   "metadata": {},
   "outputs": [],
   "source": [
    "hold = pd.Series(np.nan,index=tsmc.index)"
   ]
  },
  {
   "cell_type": "code",
   "execution_count": 108,
   "metadata": {},
   "outputs": [
    {
     "data": {
      "text/plain": [
       "date\n",
       "2007-04-23   NaN\n",
       "2007-04-24   NaN\n",
       "2007-04-25   NaN\n",
       "2007-04-26   NaN\n",
       "2007-04-27   NaN\n",
       "dtype: float64"
      ]
     },
     "execution_count": 108,
     "metadata": {},
     "output_type": "execute_result"
    }
   ],
   "source": [
    "hold.head()"
   ]
  },
  {
   "cell_type": "code",
   "execution_count": 109,
   "metadata": {},
   "outputs": [
    {
     "data": {
      "text/plain": [
       "date\n",
       "2020-08-10   NaN\n",
       "2020-08-11   NaN\n",
       "2020-08-12   NaN\n",
       "2020-08-13   NaN\n",
       "2020-08-14   NaN\n",
       "dtype: float64"
      ]
     },
     "execution_count": 109,
     "metadata": {},
     "output_type": "execute_result"
    }
   ],
   "source": [
    "hold.tail()"
   ]
  },
  {
   "cell_type": "code",
   "execution_count": 110,
   "metadata": {},
   "outputs": [],
   "source": [
    "hold[buy] = 1\n",
    "hold[sell] = 0"
   ]
  },
  {
   "cell_type": "code",
   "execution_count": 111,
   "metadata": {},
   "outputs": [
    {
     "name": "stdout",
     "output_type": "stream",
     "text": [
      "date\n",
      "2017-01-03    1.0\n",
      "2017-01-04    1.0\n",
      "2017-01-05    1.0\n",
      "2017-01-06    NaN\n",
      "2017-01-09    1.0\n",
      "2017-01-10    1.0\n",
      "2017-01-11    1.0\n",
      "2017-01-12    1.0\n",
      "2017-01-13    1.0\n",
      "2017-01-16    1.0\n",
      "2017-01-17    1.0\n",
      "2017-01-18    1.0\n",
      "2017-01-19    1.0\n",
      "2017-01-20    1.0\n",
      "2017-01-23    1.0\n",
      "2017-01-24    1.0\n",
      "dtype: float64\n",
      "-------------------\n",
      "date\n",
      "2018-01-02    0.929503\n",
      "2018-01-03    0.957718\n",
      "2018-01-04    0.978382\n",
      "2018-01-05    0.956251\n",
      "2018-01-08    0.951089\n",
      "2018-01-09    0.971375\n",
      "2018-01-10    0.989556\n",
      "2018-01-11    0.978808\n",
      "2018-01-12    0.990374\n",
      "2018-01-15    1.001573\n",
      "2018-01-16    0.998826\n",
      "2018-01-17    0.982005\n",
      "2018-01-18    1.024121\n",
      "2018-01-19    1.023584\n",
      "2018-01-22    1.024187\n",
      "2018-01-23    1.021878\n",
      "2018-01-24    0.989993\n",
      "2018-01-25    0.985272\n",
      "2018-01-26    0.994832\n",
      "2018-01-29    0.996280\n",
      "2018-01-30    0.968683\n",
      "2018-01-31    0.970700\n",
      "Name: 2454 聯發科, dtype: float64\n"
     ]
    },
    {
     "data": {
      "text/plain": [
       "<bound method Series.sum of date\n",
       "2007-04-23    NaN\n",
       "2007-04-24    NaN\n",
       "2007-04-25    NaN\n",
       "2007-04-26    NaN\n",
       "2007-04-27    NaN\n",
       "             ... \n",
       "2020-08-10    0.0\n",
       "2020-08-11    0.0\n",
       "2020-08-12    0.0\n",
       "2020-08-13    0.0\n",
       "2020-08-14    0.0\n",
       "Length: 3289, dtype: float64>"
      ]
     },
     "execution_count": 111,
     "metadata": {},
     "output_type": "execute_result"
    }
   ],
   "source": [
    "print(hold[\"2017-1\"])\n",
    "print(\"-------------------\")\n",
    "print(tsmc_bias[\"2018-01\"])\n",
    "hold.sum"
   ]
  },
  {
   "cell_type": "code",
   "execution_count": 112,
   "metadata": {
    "scrolled": true
   },
   "outputs": [
    {
     "data": {
      "text/plain": [
       "126"
      ]
     },
     "execution_count": 112,
     "metadata": {},
     "output_type": "execute_result"
    }
   ],
   "source": [
    "hold = hold.ffill()\n",
    "hold.isna().sum()\n",
    "#len(hold)"
   ]
  },
  {
   "cell_type": "code",
   "execution_count": 113,
   "metadata": {},
   "outputs": [
    {
     "data": {
      "text/html": [
       "<div>\n",
       "<style scoped>\n",
       "    .dataframe tbody tr th:only-of-type {\n",
       "        vertical-align: middle;\n",
       "    }\n",
       "\n",
       "    .dataframe tbody tr th {\n",
       "        vertical-align: top;\n",
       "    }\n",
       "\n",
       "    .dataframe thead th {\n",
       "        text-align: right;\n",
       "    }\n",
       "</style>\n",
       "<table border=\"1\" class=\"dataframe\">\n",
       "  <thead>\n",
       "    <tr style=\"text-align: right;\">\n",
       "      <th></th>\n",
       "      <th>A</th>\n",
       "      <th>B</th>\n",
       "      <th>C</th>\n",
       "      <th>D</th>\n",
       "    </tr>\n",
       "  </thead>\n",
       "  <tbody>\n",
       "    <tr>\n",
       "      <th>0</th>\n",
       "      <td>5.0</td>\n",
       "      <td>NaN</td>\n",
       "      <td>4</td>\n",
       "      <td>5.0</td>\n",
       "    </tr>\n",
       "    <tr>\n",
       "      <th>1</th>\n",
       "      <td>3.0</td>\n",
       "      <td>2.0</td>\n",
       "      <td>3</td>\n",
       "      <td>4.0</td>\n",
       "    </tr>\n",
       "    <tr>\n",
       "      <th>2</th>\n",
       "      <td>NaN</td>\n",
       "      <td>4.0</td>\n",
       "      <td>8</td>\n",
       "      <td>2.0</td>\n",
       "    </tr>\n",
       "    <tr>\n",
       "      <th>3</th>\n",
       "      <td>4.0</td>\n",
       "      <td>3.0</td>\n",
       "      <td>5</td>\n",
       "      <td>NaN</td>\n",
       "    </tr>\n",
       "  </tbody>\n",
       "</table>\n",
       "</div>"
      ],
      "text/plain": [
       "     A    B  C    D\n",
       "0  5.0  NaN  4  5.0\n",
       "1  3.0  2.0  3  4.0\n",
       "2  NaN  4.0  8  2.0\n",
       "3  4.0  3.0  5  NaN"
      ]
     },
     "execution_count": 113,
     "metadata": {},
     "output_type": "execute_result"
    }
   ],
   "source": [
    "# Creating the dataframe  \n",
    "df=pd.DataFrame({\"A\":[5,3,None,4], \n",
    "                 \"B\":[None,2,4,3], \n",
    "                 \"C\":[4,3,8,5], \n",
    "                 \"D\":[5,4,2,None]}) \n",
    "  \n",
    "# Print the dataframe \n",
    "df "
   ]
  },
  {
   "cell_type": "code",
   "execution_count": 114,
   "metadata": {},
   "outputs": [
    {
     "data": {
      "text/html": [
       "<div>\n",
       "<style scoped>\n",
       "    .dataframe tbody tr th:only-of-type {\n",
       "        vertical-align: middle;\n",
       "    }\n",
       "\n",
       "    .dataframe tbody tr th {\n",
       "        vertical-align: top;\n",
       "    }\n",
       "\n",
       "    .dataframe thead th {\n",
       "        text-align: right;\n",
       "    }\n",
       "</style>\n",
       "<table border=\"1\" class=\"dataframe\">\n",
       "  <thead>\n",
       "    <tr style=\"text-align: right;\">\n",
       "      <th></th>\n",
       "      <th>A</th>\n",
       "      <th>B</th>\n",
       "      <th>C</th>\n",
       "      <th>D</th>\n",
       "    </tr>\n",
       "  </thead>\n",
       "  <tbody>\n",
       "    <tr>\n",
       "      <th>0</th>\n",
       "      <td>5.0</td>\n",
       "      <td>NaN</td>\n",
       "      <td>4</td>\n",
       "      <td>5.0</td>\n",
       "    </tr>\n",
       "    <tr>\n",
       "      <th>1</th>\n",
       "      <td>3.0</td>\n",
       "      <td>2.0</td>\n",
       "      <td>3</td>\n",
       "      <td>4.0</td>\n",
       "    </tr>\n",
       "    <tr>\n",
       "      <th>2</th>\n",
       "      <td>3.0</td>\n",
       "      <td>4.0</td>\n",
       "      <td>8</td>\n",
       "      <td>2.0</td>\n",
       "    </tr>\n",
       "    <tr>\n",
       "      <th>3</th>\n",
       "      <td>4.0</td>\n",
       "      <td>3.0</td>\n",
       "      <td>5</td>\n",
       "      <td>2.0</td>\n",
       "    </tr>\n",
       "  </tbody>\n",
       "</table>\n",
       "</div>"
      ],
      "text/plain": [
       "     A    B  C    D\n",
       "0  5.0  NaN  4  5.0\n",
       "1  3.0  2.0  3  4.0\n",
       "2  3.0  4.0  8  2.0\n",
       "3  4.0  3.0  5  2.0"
      ]
     },
     "execution_count": 114,
     "metadata": {},
     "output_type": "execute_result"
    }
   ],
   "source": [
    "#把na填掉\n",
    "df.ffill()"
   ]
  },
  {
   "cell_type": "code",
   "execution_count": 115,
   "metadata": {},
   "outputs": [],
   "source": [
    "hold.fillna(value=0, inplace=True)"
   ]
  },
  {
   "cell_type": "code",
   "execution_count": 116,
   "metadata": {},
   "outputs": [
    {
     "data": {
      "text/plain": [
       "date\n",
       "2007-04-23    0.0\n",
       "2007-04-24    0.0\n",
       "2007-04-25    0.0\n",
       "2007-04-26    0.0\n",
       "2007-04-27    0.0\n",
       "             ... \n",
       "2020-08-10    0.0\n",
       "2020-08-11    0.0\n",
       "2020-08-12    0.0\n",
       "2020-08-13    0.0\n",
       "2020-08-14    0.0\n",
       "Length: 3289, dtype: float64"
      ]
     },
     "execution_count": 116,
     "metadata": {},
     "output_type": "execute_result"
    }
   ],
   "source": [
    "hold"
   ]
  },
  {
   "cell_type": "code",
   "execution_count": 117,
   "metadata": {},
   "outputs": [
    {
     "data": {
      "text/plain": [
       "date\n",
       "2020-08-03    0.0\n",
       "2020-08-04    0.0\n",
       "2020-08-05    0.0\n",
       "2020-08-06    0.0\n",
       "2020-08-07    0.0\n",
       "2020-08-10    0.0\n",
       "2020-08-11    0.0\n",
       "2020-08-12    0.0\n",
       "2020-08-13    0.0\n",
       "2020-08-14    0.0\n",
       "dtype: float64"
      ]
     },
     "execution_count": 117,
     "metadata": {},
     "output_type": "execute_result"
    }
   ],
   "source": [
    "hold[\"2020-08\"]"
   ]
  },
  {
   "cell_type": "code",
   "execution_count": 118,
   "metadata": {},
   "outputs": [],
   "source": [
    "#hold = hold.dropna()\n",
    "#不可直接去掉NA 回測有bug"
   ]
  },
  {
   "cell_type": "code",
   "execution_count": null,
   "metadata": {},
   "outputs": [],
   "source": []
  },
  {
   "cell_type": "code",
   "execution_count": 119,
   "metadata": {},
   "outputs": [
    {
     "data": {
      "text/plain": [
       "date\n",
       "2007-04-23    0.0\n",
       "2007-04-24    0.0\n",
       "2007-04-25    0.0\n",
       "2007-04-26    0.0\n",
       "2007-04-27    0.0\n",
       "             ... \n",
       "2020-08-10    0.0\n",
       "2020-08-11    0.0\n",
       "2020-08-12    0.0\n",
       "2020-08-13    0.0\n",
       "2020-08-14    0.0\n",
       "Length: 3289, dtype: float64"
      ]
     },
     "execution_count": 119,
     "metadata": {},
     "output_type": "execute_result"
    }
   ],
   "source": [
    "hold"
   ]
  },
  {
   "cell_type": "code",
   "execution_count": 120,
   "metadata": {},
   "outputs": [],
   "source": [
    "change = (tsmc.shift(-1)-tsmc).shift(1)"
   ]
  },
  {
   "cell_type": "code",
   "execution_count": 121,
   "metadata": {},
   "outputs": [
    {
     "data": {
      "text/plain": [
       "date\n",
       "2007-04-23    400.0\n",
       "2007-04-24    409.0\n",
       "2007-04-25    409.5\n",
       "2007-04-26    406.0\n",
       "2007-04-27    406.0\n",
       "              ...  \n",
       "2020-08-10    706.0\n",
       "2020-08-11    693.0\n",
       "2020-08-12    680.0\n",
       "2020-08-13    684.0\n",
       "2020-08-14    680.0\n",
       "Name: 2454 聯發科, Length: 3289, dtype: float64"
      ]
     },
     "execution_count": 121,
     "metadata": {},
     "output_type": "execute_result"
    }
   ],
   "source": [
    "tsmc"
   ]
  },
  {
   "cell_type": "code",
   "execution_count": 122,
   "metadata": {},
   "outputs": [
    {
     "data": {
      "text/plain": [
       "<AxesSubplot:xlabel='date'>"
      ]
     },
     "execution_count": 122,
     "metadata": {},
     "output_type": "execute_result"
    },
    {
     "data": {
      "image/png": "[encoded data removed]",
      "text/plain": [
       "<Figure size 720x720 with 1 Axes>"
      ]
     },
     "metadata": {},
     "output_type": "display_data"
    }
   ],
   "source": [
    "(change.cumsum()).plot()"
   ]
  },
  {
   "cell_type": "code",
   "execution_count": 123,
   "metadata": {},
   "outputs": [
    {
     "data": {
      "text/plain": [
       "<AxesSubplot:xlabel='date'>"
      ]
     },
     "execution_count": 123,
     "metadata": {},
     "output_type": "execute_result"
    },
    {
     "data": {
      "image/png": "[encoded data removed]",
      "text/plain": [
       "<Figure size 720x720 with 1 Axes>"
      ]
     },
     "metadata": {},
     "output_type": "display_data"
    }
   ],
   "source": [
    "tsmc.plot()"
   ]
  },
  {
   "cell_type": "code",
   "execution_count": 124,
   "metadata": {},
   "outputs": [
    {
     "data": {
      "text/plain": [
       "3289"
      ]
     },
     "execution_count": 124,
     "metadata": {},
     "output_type": "execute_result"
    }
   ],
   "source": [
    "len(change)"
   ]
  },
  {
   "cell_type": "code",
   "execution_count": 125,
   "metadata": {},
   "outputs": [
    {
     "data": {
      "text/plain": [
       "3289"
      ]
     },
     "execution_count": 125,
     "metadata": {},
     "output_type": "execute_result"
    }
   ],
   "source": [
    "len(hold)"
   ]
  },
  {
   "cell_type": "code",
   "execution_count": 126,
   "metadata": {},
   "outputs": [
    {
     "data": {
      "text/plain": [
       "1655"
      ]
     },
     "execution_count": 126,
     "metadata": {},
     "output_type": "execute_result"
    }
   ],
   "source": [
    "(hold==1).sum()"
   ]
  },
  {
   "cell_type": "code",
   "execution_count": 127,
   "metadata": {},
   "outputs": [
    {
     "data": {
      "text/plain": [
       "1634"
      ]
     },
     "execution_count": 127,
     "metadata": {},
     "output_type": "execute_result"
    }
   ],
   "source": [
    "(hold==0).sum()"
   ]
  },
  {
   "cell_type": "code",
   "execution_count": 128,
   "metadata": {},
   "outputs": [],
   "source": [
    "change[hold==0] = 0"
   ]
  },
  {
   "cell_type": "code",
   "execution_count": 129,
   "metadata": {},
   "outputs": [
    {
     "data": {
      "text/plain": [
       "date\n",
       "2007-04-23    0.0\n",
       "2007-04-24    0.0\n",
       "2007-04-25    0.0\n",
       "2007-04-26    0.0\n",
       "2007-04-27    0.0\n",
       "             ... \n",
       "2020-08-10    0.0\n",
       "2020-08-11    0.0\n",
       "2020-08-12    0.0\n",
       "2020-08-13    0.0\n",
       "2020-08-14    0.0\n",
       "Name: 2454 聯發科, Length: 3289, dtype: float64"
      ]
     },
     "execution_count": 129,
     "metadata": {},
     "output_type": "execute_result"
    }
   ],
   "source": [
    "change"
   ]
  },
  {
   "cell_type": "code",
   "execution_count": 130,
   "metadata": {},
   "outputs": [],
   "source": [
    "myprofit = change.cumsum()"
   ]
  },
  {
   "cell_type": "code",
   "execution_count": 131,
   "metadata": {},
   "outputs": [
    {
     "name": "stdout",
     "output_type": "stream",
     "text": [
      "96.0\n"
     ]
    }
   ],
   "source": [
    "#扣稅和交易費\n",
    "fee_once = 3 #預估每次三元\n",
    "fee = (hold.astype(int).diff().abs().fillna(0)*fee_once).sum()#算出共交易幾次\n",
    "print(fee)"
   ]
  },
  {
   "cell_type": "code",
   "execution_count": 133,
   "metadata": {},
   "outputs": [
    {
     "data": {
      "text/plain": [
       "<AxesSubplot:xlabel='date'>"
      ]
     },
     "execution_count": 133,
     "metadata": {},
     "output_type": "execute_result"
    },
    {
     "data": {
      "image/png": "[encoded data removed]",
      "text/plain": [
       "<Figure size 720x720 with 1 Axes>"
      ]
     },
     "metadata": {},
     "output_type": "display_data"
    }
   ],
   "source": [
    "myprofit.plot()"
   ]
  },
  {
   "cell_type": "markdown",
   "metadata": {},
   "source": [
    "# 寫成function"
   ]
  },
  {
   "cell_type": "code",
   "execution_count": 134,
   "metadata": {},
   "outputs": [],
   "source": [
    "def bia_strategy_best(p1,p2,p3,p4,isPlot=False):\n",
    "    ma = tsmc.rolling(p1).mean()\n",
    "    bias = tsmc/ma\n",
    "    up = 1 + bias.rolling(p2).std() * p3\n",
    "    lb = 1 - bias.rolling(p2).std() * p4\n",
    "    #看好\n",
    "    #buy =  (bias<lb)\n",
    "    #sell = (bias > up)\n",
    "    #看壞\n",
    "    buy =  (bias>lb)\n",
    "    sell = (bias < up)\n",
    "    \n",
    "    hold= pd.Series(np.nan,index=tsmc.index)\n",
    "    hold[buy]=1\n",
    "    hold[sell]=0\n",
    "    hold = hold.ffill()\n",
    "    hold.fillna(0,inplace = True)\n",
    "    \n",
    "    #扣稅和交易費\n",
    "    fee_once = 3 #預估每次三元\n",
    "    fee = (hold.astype(int).diff().abs().fillna(0)*fee_once).sum()#算出共交易幾次\n",
    "    print(fee)\n",
    "    \n",
    "    change = (tsmc.shift(-1)-tsmc).shift(1)    \n",
    "    change[hold==0]=0\n",
    "    cum_profit = change.cumsum()\n",
    "    if isPlot:\n",
    "        cum_profit.plot()\n",
    "    return cum_profit[-1]"
   ]
  },
  {
   "cell_type": "code",
   "execution_count": null,
   "metadata": {},
   "outputs": [],
   "source": []
  },
  {
   "cell_type": "code",
   "execution_count": 135,
   "metadata": {},
   "outputs": [
    {
     "name": "stdout",
     "output_type": "stream",
     "text": [
      "1530.0\n"
     ]
    },
    {
     "data": {
      "text/plain": [
       "4434.0"
      ]
     },
     "execution_count": 135,
     "metadata": {},
     "output_type": "execute_result"
    }
   ],
   "source": [
    "bia_strategy_best(10,10,1.0,1.0)"
   ]
  },
  {
   "cell_type": "code",
   "execution_count": null,
   "metadata": {},
   "outputs": [],
   "source": []
  },
  {
   "cell_type": "code",
   "execution_count": 136,
   "metadata": {},
   "outputs": [
    {
     "name": "stdout",
     "output_type": "stream",
     "text": [
      "1530.0\n",
      "4434.0 => 10 10\n",
      "1434.0\n",
      "1392.0\n",
      "1320.0\n",
      "1362.0\n",
      "1284.0\n",
      "1260.0\n",
      "1260.0\n",
      "1218.0\n",
      "1218.0\n",
      "1158.0\n",
      "1188.0\n",
      "1164.0\n",
      "1152.0\n",
      "1152.0\n",
      "1104.0\n",
      "1092.0\n",
      "1104.0\n",
      "1092.0\n",
      "1092.0\n",
      "1092.0\n",
      "1074.0\n",
      "1356.0\n",
      "1290.0\n",
      "1272.0\n",
      "1206.0\n",
      "1116.0\n",
      "1158.0\n",
      "1098.0\n",
      "1056.0\n",
      "1044.0\n",
      "1032.0\n",
      "996.0\n",
      "996.0\n",
      "966.0\n",
      "1008.0\n",
      "978.0\n",
      "972.0\n",
      "942.0\n",
      "972.0\n",
      "960.0\n",
      "972.0\n",
      "954.0\n",
      "960.0\n",
      "1212.0\n",
      "1200.0\n",
      "1140.0\n",
      "1164.0\n",
      "1068.0\n",
      "1020.0\n",
      "1008.0\n",
      "1002.0\n",
      "978.0\n",
      "972.0\n",
      "942.0\n",
      "918.0\n",
      "924.0\n",
      "876.0\n",
      "900.0\n",
      "918.0\n",
      "918.0\n",
      "942.0\n",
      "936.0\n",
      "918.0\n",
      "912.0\n",
      "882.0\n",
      "1068.0\n",
      "1056.0\n",
      "1074.0\n",
      "1074.0\n",
      "1050.0\n",
      "1020.0\n",
      "996.0\n",
      "990.0\n",
      "960.0\n",
      "930.0\n",
      "936.0\n",
      "918.0\n",
      "924.0\n",
      "942.0\n",
      "930.0\n",
      "900.0\n",
      "894.0\n",
      "870.0\n",
      "876.0\n",
      "852.0\n",
      "858.0\n",
      "864.0\n",
      "936.0\n",
      "894.0\n",
      "882.0\n",
      "870.0\n",
      "918.0\n",
      "924.0\n",
      "900.0\n",
      "888.0\n",
      "906.0\n",
      "894.0\n",
      "906.0\n",
      "912.0\n",
      "906.0\n",
      "852.0\n",
      "852.0\n",
      "870.0\n",
      "828.0\n",
      "816.0\n",
      "804.0\n",
      "798.0\n",
      "786.0\n",
      "786.0\n",
      "828.0\n",
      "804.0\n",
      "792.0\n",
      "828.0\n",
      "846.0\n",
      "888.0\n",
      "858.0\n",
      "888.0\n",
      "834.0\n",
      "828.0\n",
      "798.0\n",
      "750.0\n",
      "780.0\n",
      "774.0\n",
      "750.0\n",
      "744.0\n",
      "768.0\n",
      "750.0\n",
      "702.0\n",
      "702.0\n",
      "702.0\n",
      "684.0\n",
      "777.0\n",
      "771.0\n",
      "783.0\n",
      "765.0\n",
      "801.0\n",
      "747.0\n",
      "837.0\n",
      "813.0\n",
      "777.0\n",
      "807.0\n",
      "813.0\n",
      "807.0\n",
      "789.0\n",
      "747.0\n",
      "735.0\n",
      "732.0\n",
      "726.0\n",
      "672.0\n",
      "684.0\n",
      "672.0\n",
      "648.0\n",
      "672.0\n",
      "777.0\n",
      "723.0\n",
      "753.0\n",
      "747.0\n",
      "747.0\n",
      "753.0\n",
      "729.0\n",
      "717.0\n",
      "735.0\n",
      "771.0\n",
      "741.0\n",
      "789.0\n",
      "747.0\n",
      "729.0\n",
      "765.0\n",
      "753.0\n",
      "747.0\n",
      "708.0\n",
      "714.0\n",
      "690.0\n",
      "702.0\n",
      "696.0\n",
      "693.0\n",
      "705.0\n",
      "735.0\n",
      "669.0\n",
      "687.0\n",
      "711.0\n",
      "717.0\n",
      "729.0\n",
      "729.0\n",
      "705.0\n",
      "687.0\n",
      "711.0\n",
      "729.0\n",
      "711.0\n",
      "699.0\n",
      "681.0\n",
      "675.0\n",
      "714.0\n",
      "708.0\n",
      "696.0\n",
      "696.0\n",
      "702.0\n",
      "651.0\n",
      "639.0\n",
      "639.0\n",
      "567.0\n",
      "573.0\n",
      "645.0\n",
      "651.0\n",
      "687.0\n",
      "669.0\n",
      "693.0\n",
      "675.0\n",
      "651.0\n",
      "645.0\n",
      "609.0\n",
      "603.0\n",
      "585.0\n",
      "609.0\n",
      "561.0\n",
      "606.0\n",
      "588.0\n",
      "624.0\n",
      "624.0\n",
      "657.0\n",
      "579.0\n",
      "549.0\n",
      "555.0\n",
      "525.0\n",
      "591.0\n",
      "573.0\n",
      "627.0\n",
      "621.0\n",
      "627.0\n",
      "627.0\n",
      "621.0\n",
      "651.0\n",
      "657.0\n",
      "633.0\n",
      "603.0\n",
      "627.0\n",
      "609.0\n",
      "591.0\n",
      "576.0\n",
      "582.0\n",
      "582.0\n",
      "597.0\n",
      "531.0\n",
      "495.0\n",
      "519.0\n",
      "537.0\n",
      "555.0\n",
      "549.0\n",
      "603.0\n",
      "561.0\n",
      "555.0\n",
      "603.0\n",
      "543.0\n",
      "537.0\n",
      "555.0\n",
      "561.0\n",
      "531.0\n",
      "567.0\n",
      "603.0\n",
      "573.0\n",
      "552.0\n",
      "546.0\n",
      "552.0\n",
      "531.0\n",
      "525.0\n",
      "489.0\n",
      "465.0\n",
      "465.0\n",
      "423.0\n",
      "471.0\n",
      "507.0\n",
      "513.0\n",
      "519.0\n",
      "525.0\n",
      "561.0\n",
      "531.0\n",
      "561.0\n",
      "555.0\n",
      "531.0\n",
      "531.0\n",
      "507.0\n",
      "507.0\n",
      "477.0\n",
      "498.0\n",
      "504.0\n",
      "519.0\n",
      "507.0\n",
      "489.0\n",
      "471.0\n",
      "459.0\n",
      "405.0\n",
      "483.0\n",
      "471.0\n",
      "477.0\n",
      "471.0\n",
      "489.0\n",
      "525.0\n",
      "561.0\n",
      "549.0\n",
      "561.0\n",
      "507.0\n",
      "489.0\n",
      "471.0\n",
      "453.0\n",
      "471.0\n",
      "483.0\n",
      "483.0\n",
      "495.0\n",
      "525.0\n",
      "435.0\n",
      "447.0\n",
      "393.0\n",
      "411.0\n",
      "411.0\n",
      "447.0\n",
      "447.0\n",
      "441.0\n",
      "435.0\n",
      "459.0\n",
      "453.0\n",
      "495.0\n",
      "477.0\n",
      "495.0\n",
      "441.0\n",
      "441.0\n",
      "441.0\n",
      "441.0\n",
      "459.0\n",
      "447.0\n",
      "447.0\n",
      "459.0\n",
      "411.0\n",
      "405.0\n",
      "375.0\n",
      "375.0\n",
      "405.0\n",
      "411.0\n",
      "429.0\n",
      "417.0\n",
      "387.0\n",
      "411.0\n",
      "411.0\n",
      "417.0\n",
      "411.0\n",
      "423.0\n",
      "447.0\n",
      "417.0\n",
      "417.0\n",
      "435.0\n",
      "423.0\n",
      "429.0\n",
      "453.0\n",
      "423.0\n",
      "399.0\n",
      "387.0\n",
      "381.0\n",
      "363.0\n",
      "387.0\n",
      "387.0\n",
      "399.0\n",
      "405.0\n",
      "387.0\n",
      "393.0\n",
      "417.0\n",
      "405.0\n",
      "411.0\n",
      "417.0\n",
      "417.0\n",
      "429.0\n",
      "405.0\n",
      "417.0\n",
      "441.0\n",
      "423.0\n",
      "423.0\n",
      "375.0\n",
      "381.0\n",
      "405.0\n",
      "405.0\n",
      "387.0\n",
      "369.0\n",
      "417.0\n",
      "399.0\n",
      "369.0\n",
      "423.0\n",
      "423.0\n",
      "405.0\n",
      "411.0\n",
      "411.0\n",
      "417.0\n",
      "447.0\n",
      "429.0\n",
      "429.0\n",
      "429.0\n",
      "447.0\n",
      "453.0\n",
      "399.0\n",
      "369.0\n",
      "339.0\n",
      "357.0\n",
      "363.0\n",
      "369.0\n",
      "345.0\n",
      "387.0\n",
      "423.0\n",
      "405.0\n",
      "429.0\n",
      "435.0\n",
      "423.0\n",
      "387.0\n",
      "393.0\n",
      "417.0\n",
      "399.0\n",
      "411.0\n",
      "423.0\n",
      "423.0\n",
      "417.0\n",
      "423.0\n",
      "393.0\n",
      "363.0\n",
      "375.0\n",
      "321.0\n",
      "345.0\n",
      "333.0\n",
      "375.0\n",
      "351.0\n",
      "411.0\n",
      "423.0\n",
      "393.0\n",
      "369.0\n",
      "411.0\n",
      "405.0\n",
      "405.0\n",
      "381.0\n",
      "375.0\n",
      "375.0\n",
      "393.0\n",
      "411.0\n",
      "405.0\n",
      "435.0\n",
      "351.0\n",
      "339.0\n",
      "363.0\n",
      "345.0\n",
      "333.0\n",
      "321.0\n",
      "375.0\n",
      "357.0\n",
      "381.0\n",
      "375.0\n",
      "363.0\n",
      "369.0\n",
      "381.0\n",
      "375.0\n",
      "339.0\n",
      "387.0\n",
      "393.0\n",
      "393.0\n",
      "423.0\n",
      "399.0\n",
      "405.0\n",
      "429.0\n",
      "363.0\n",
      "387.0\n",
      "387.0\n",
      "327.0\n",
      "315.0\n",
      "315.0\n",
      "345.0\n",
      "369.0\n",
      "357.0\n",
      "387.0\n",
      "405.0\n",
      "387.0\n",
      "381.0\n",
      "375.0\n",
      "369.0\n",
      "375.0\n",
      "399.0\n",
      "387.0\n",
      "369.0\n",
      "405.0\n",
      "405.0\n",
      "441.0\n",
      "a:10 b:10\n"
     ]
    }
   ],
   "source": [
    "vmax = 0\n",
    "best_a = 0\n",
    "best_b = 0\n",
    "for a in range(10,120,5):\n",
    "    for b in range(10,120,5):\n",
    "        v = bia_strategy_best(a,b,1.0,1.0)\n",
    "        if v > vmax :\n",
    "            vmax = v\n",
    "            best_a = a\n",
    "            best_b = b\n",
    "            print(vmax,\"=>\",a,b)\n",
    "print('a:'+str(best_a),'b:'+ str(best_b))"
   ]
  },
  {
   "cell_type": "code",
   "execution_count": 137,
   "metadata": {
    "scrolled": true
   },
   "outputs": [
    {
     "name": "stdout",
     "output_type": "stream",
     "text": [
      "1530.0\n"
     ]
    },
    {
     "data": {
      "text/plain": [
       "4434.0"
      ]
     },
     "execution_count": 137,
     "metadata": {},
     "output_type": "execute_result"
    },
    {
     "data": {
      "image/png": "[encoded data removed]",
      "text/plain": [
       "<Figure size 720x720 with 1 Axes>"
      ]
     },
     "metadata": {},
     "output_type": "display_data"
    }
   ],
   "source": [
    "bia_strategy_best(10 ,10 ,1.0,1.0,True)"
   ]
  },
  {
   "cell_type": "code",
   "execution_count": null,
   "metadata": {},
   "outputs": [],
   "source": []
  }
 ],
 "metadata": {
  "kernelspec": {
   "display_name": "Python 3",
   "language": "python",
   "name": "python3"
  },
  "language_info": {
   "codemirror_mode": {
    "name": "ipython",
    "version": 3
   },
   "file_extension": ".py",
   "mimetype": "text/x-python",
   "name": "python",
   "nbconvert_exporter": "python",
   "pygments_lexer": "ipython3",
   "version": "3.7.7"
  }
 },
 "nbformat": 4,
 "nbformat_minor": 4
}

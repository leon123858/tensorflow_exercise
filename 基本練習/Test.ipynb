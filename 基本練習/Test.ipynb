{
 "cells": [
  {
   "cell_type": "markdown",
   "metadata": {},
   "source": [
    "# 本程式目的為下載套件 順便測試"
   ]
  },
  {
   "cell_type": "code",
   "execution_count": 1,
   "metadata": {},
   "outputs": [
    {
     "name": "stdout",
     "output_type": "stream",
     "text": [
      "Hello DL\n"
     ]
    }
   ],
   "source": [
    "print('Hello DL')"
   ]
  },
  {
   "cell_type": "code",
   "execution_count": 4,
   "metadata": {},
   "outputs": [
    {
     "name": "stdout",
     "output_type": "stream",
     "text": [
      "Requirement already satisfied: flit in c:\\users\\a0970\\anaconda3\\envs\\tensorflow\\lib\\site-packages (2.3.0)\n",
      "Requirement already satisfied: flit_core>=2.3.0 in c:\\users\\a0970\\anaconda3\\envs\\tensorflow\\lib\\site-packages (from flit) (2.3.0)\n",
      "Requirement already satisfied: requests in c:\\users\\a0970\\anaconda3\\envs\\tensorflow\\lib\\site-packages (from flit) (2.24.0)\n",
      "Requirement already satisfied: docutils in c:\\users\\a0970\\anaconda3\\envs\\tensorflow\\lib\\site-packages (from flit) (0.16)\n",
      "Requirement already satisfied: pytoml in c:\\users\\a0970\\anaconda3\\envs\\tensorflow\\lib\\site-packages (from flit) (0.1.21)\n",
      "Requirement already satisfied: certifi>=2017.4.17 in c:\\users\\a0970\\anaconda3\\envs\\tensorflow\\lib\\site-packages (from requests->flit) (2020.6.20)\n",
      "Requirement already satisfied: urllib3!=1.25.0,!=1.25.1,<1.26,>=1.21.1 in c:\\users\\a0970\\anaconda3\\envs\\tensorflow\\lib\\site-packages (from requests->flit) (1.25.10)\n",
      "Requirement already satisfied: chardet<4,>=3.0.2 in c:\\users\\a0970\\anaconda3\\envs\\tensorflow\\lib\\site-packages (from requests->flit) (3.0.4)\n",
      "Requirement already satisfied: idna<3,>=2.5 in c:\\users\\a0970\\anaconda3\\envs\\tensorflow\\lib\\site-packages (from requests->flit) (2.10)\n",
      "Collecting twstock\n",
      "  Downloading twstock-1.3.1-py3-none-any.whl (1.9 MB)\n",
      "Requirement already satisfied: requests in c:\\users\\a0970\\anaconda3\\envs\\tensorflow\\lib\\site-packages (from twstock) (2.24.0)\n",
      "Requirement already satisfied: certifi>=2017.4.17 in c:\\users\\a0970\\anaconda3\\envs\\tensorflow\\lib\\site-packages (from requests->twstock) (2020.6.20)\n",
      "Requirement already satisfied: idna<3,>=2.5 in c:\\users\\a0970\\anaconda3\\envs\\tensorflow\\lib\\site-packages (from requests->twstock) (2.10)\n",
      "Requirement already satisfied: chardet<4,>=3.0.2 in c:\\users\\a0970\\anaconda3\\envs\\tensorflow\\lib\\site-packages (from requests->twstock) (3.0.4)\n",
      "Requirement already satisfied: urllib3!=1.25.0,!=1.25.1,<1.26,>=1.21.1 in c:\\users\\a0970\\anaconda3\\envs\\tensorflow\\lib\\site-packages (from requests->twstock) (1.25.10)\n",
      "Installing collected packages: twstock\n",
      "Successfully installed twstock-1.3.1\n",
      "Requirement already satisfied: lxml in c:\\users\\a0970\\anaconda3\\envs\\tensorflow\\lib\\site-packages (4.5.2)\n"
     ]
    }
   ],
   "source": [
    "# twstock 一個專門抓台灣股市的爬蟲套件\n",
    "!pip install flit\n",
    "!pip install twstock \n",
    "!pip install lxml"
   ]
  },
  {
   "cell_type": "code",
   "execution_count": 5,
   "metadata": {},
   "outputs": [],
   "source": [
    "#https://twstock.readthedocs.io/zh_TW/latest/quickstart.html\n",
    "import twstock"
   ]
  },
  {
   "cell_type": "code",
   "execution_count": 6,
   "metadata": {},
   "outputs": [],
   "source": [
    "stock = twstock.Stock('2330')"
   ]
  },
  {
   "cell_type": "code",
   "execution_count": 7,
   "metadata": {},
   "outputs": [
    {
     "data": {
      "text/plain": [
       "'2330'"
      ]
     },
     "execution_count": 7,
     "metadata": {},
     "output_type": "execute_result"
    }
   ],
   "source": [
    "stock.sid"
   ]
  },
  {
   "cell_type": "code",
   "execution_count": 8,
   "metadata": {},
   "outputs": [
    {
     "data": {
      "text/plain": [
       "[370.0,\n",
       " 361.0,\n",
       " 369.0,\n",
       " 370.0,\n",
       " 387.0,\n",
       " 386.0,\n",
       " 383.0,\n",
       " 395.0,\n",
       " 424.5,\n",
       " 466.5,\n",
       " 431.5,\n",
       " 441.0,\n",
       " 432.0,\n",
       " 424.0,\n",
       " 425.5,\n",
       " 433.5,\n",
       " 438.0,\n",
       " 434.0,\n",
       " 437.5,\n",
       " 435.0,\n",
       " 423.5,\n",
       " 429.0,\n",
       " 428.0,\n",
       " 435.0,\n",
       " 440.5,\n",
       " 436.5,\n",
       " 427.5,\n",
       " 427.0,\n",
       " 434.5,\n",
       " 436.0,\n",
       " 442.0]"
      ]
     },
     "execution_count": 8,
     "metadata": {},
     "output_type": "execute_result"
    }
   ],
   "source": [
    "stock.high"
   ]
  },
  {
   "cell_type": "code",
   "execution_count": 9,
   "metadata": {},
   "outputs": [],
   "source": [
    "tsmc = stock.fetch_from(2020, 6) #抓到2020年6月"
   ]
  },
  {
   "cell_type": "code",
   "execution_count": 16,
   "metadata": {},
   "outputs": [
    {
     "name": "stdout",
     "output_type": "stream",
     "text": [
      "Collecting matplotlib==3.3.0\n",
      "  Downloading matplotlib-3.3.0-cp37-cp37m-win_amd64.whl (8.8 MB)\n",
      "Requirement already satisfied: numpy>=1.15 in c:\\users\\a0970\\anaconda3\\envs\\tensorflow\\lib\\site-packages (from matplotlib==3.3.0) (1.19.1)\n",
      "Collecting cycler>=0.10\n",
      "  Downloading cycler-0.10.0-py2.py3-none-any.whl (6.5 kB)\n",
      "Requirement already satisfied: pyparsing!=2.0.4,!=2.1.2,!=2.1.6,>=2.0.3 in c:\\users\\a0970\\anaconda3\\envs\\tensorflow\\lib\\site-packages (from matplotlib==3.3.0) (2.4.7)\n",
      "Collecting kiwisolver>=1.0.1\n",
      "  Downloading kiwisolver-1.2.0-cp37-none-win_amd64.whl (57 kB)\n",
      "Collecting pillow>=6.2.0\n",
      "  Downloading Pillow-7.2.0-cp37-cp37m-win_amd64.whl (2.1 MB)\n",
      "Requirement already satisfied: python-dateutil>=2.1 in c:\\users\\a0970\\anaconda3\\envs\\tensorflow\\lib\\site-packages (from matplotlib==3.3.0) (2.8.1)\n",
      "Requirement already satisfied: six in c:\\users\\a0970\\anaconda3\\envs\\tensorflow\\lib\\site-packages (from cycler>=0.10->matplotlib==3.3.0) (1.15.0)\n",
      "Installing collected packages: cycler, kiwisolver, pillow, matplotlib\n",
      "Successfully installed cycler-0.10.0 kiwisolver-1.2.0 matplotlib-3.3.0 pillow-7.2.0\n"
     ]
    }
   ],
   "source": [
    "!pip install matplotlib==3.3.0"
   ]
  },
  {
   "cell_type": "code",
   "execution_count": 17,
   "metadata": {},
   "outputs": [],
   "source": [
    "import matplotlib"
   ]
  },
  {
   "cell_type": "code",
   "execution_count": 18,
   "metadata": {},
   "outputs": [
    {
     "name": "stdout",
     "output_type": "stream",
     "text": [
      "Collecting seaborn\n",
      "  Downloading seaborn-0.10.1-py3-none-any.whl (215 kB)\n",
      "Requirement already satisfied: matplotlib>=2.1.2 in c:\\users\\a0970\\anaconda3\\envs\\tensorflow\\lib\\site-packages (from seaborn) (3.3.0)\n",
      "Requirement already satisfied: numpy>=1.13.3 in c:\\users\\a0970\\anaconda3\\envs\\tensorflow\\lib\\site-packages (from seaborn) (1.19.1)\n",
      "Requirement already satisfied: scipy>=1.0.1 in c:\\users\\a0970\\anaconda3\\envs\\tensorflow\\lib\\site-packages (from seaborn) (1.5.2)\n",
      "Collecting pandas>=0.22.0\n",
      "  Downloading pandas-1.1.1-cp37-cp37m-win_amd64.whl (9.4 MB)\n",
      "Requirement already satisfied: pyparsing!=2.0.4,!=2.1.2,!=2.1.6,>=2.0.3 in c:\\users\\a0970\\anaconda3\\envs\\tensorflow\\lib\\site-packages (from matplotlib>=2.1.2->seaborn) (2.4.7)\n",
      "Requirement already satisfied: pillow>=6.2.0 in c:\\users\\a0970\\anaconda3\\envs\\tensorflow\\lib\\site-packages (from matplotlib>=2.1.2->seaborn) (7.2.0)\n",
      "Requirement already satisfied: python-dateutil>=2.1 in c:\\users\\a0970\\anaconda3\\envs\\tensorflow\\lib\\site-packages (from matplotlib>=2.1.2->seaborn) (2.8.1)\n",
      "Requirement already satisfied: cycler>=0.10 in c:\\users\\a0970\\anaconda3\\envs\\tensorflow\\lib\\site-packages (from matplotlib>=2.1.2->seaborn) (0.10.0)\n",
      "Requirement already satisfied: kiwisolver>=1.0.1 in c:\\users\\a0970\\anaconda3\\envs\\tensorflow\\lib\\site-packages (from matplotlib>=2.1.2->seaborn) (1.2.0)\n",
      "Requirement already satisfied: pytz>=2017.2 in c:\\users\\a0970\\anaconda3\\envs\\tensorflow\\lib\\site-packages (from pandas>=0.22.0->seaborn) (2020.1)\n",
      "Requirement already satisfied: six>=1.5 in c:\\users\\a0970\\anaconda3\\envs\\tensorflow\\lib\\site-packages (from python-dateutil>=2.1->matplotlib>=2.1.2->seaborn) (1.15.0)\n",
      "Installing collected packages: pandas, seaborn\n",
      "Successfully installed pandas-1.1.1 seaborn-0.10.1\n"
     ]
    }
   ],
   "source": [
    "!pip install seaborn"
   ]
  },
  {
   "cell_type": "code",
   "execution_count": 19,
   "metadata": {},
   "outputs": [
    {
     "name": "stdout",
     "output_type": "stream",
     "text": [
      "Requirement already satisfied: pandas in c:\\users\\a0970\\anaconda3\\envs\\tensorflow\\lib\\site-packages (1.1.1)\n",
      "Requirement already satisfied: pytz>=2017.2 in c:\\users\\a0970\\anaconda3\\envs\\tensorflow\\lib\\site-packages (from pandas) (2020.1)\n",
      "Requirement already satisfied: numpy>=1.15.4 in c:\\users\\a0970\\anaconda3\\envs\\tensorflow\\lib\\site-packages (from pandas) (1.19.1)\n",
      "Requirement already satisfied: python-dateutil>=2.7.3 in c:\\users\\a0970\\anaconda3\\envs\\tensorflow\\lib\\site-packages (from pandas) (2.8.1)\n",
      "Requirement already satisfied: six>=1.5 in c:\\users\\a0970\\anaconda3\\envs\\tensorflow\\lib\\site-packages (from python-dateutil>=2.7.3->pandas) (1.15.0)\n",
      "Requirement already satisfied: numpy in c:\\users\\a0970\\anaconda3\\envs\\tensorflow\\lib\\site-packages (1.19.1)\n"
     ]
    }
   ],
   "source": [
    "!pip install pandas\n",
    "!pip install numpy"
   ]
  },
  {
   "cell_type": "code",
   "execution_count": 20,
   "metadata": {},
   "outputs": [],
   "source": [
    "import seaborn as sns\n",
    "import matplotlib.pyplot as plt\n",
    "sns.set()"
   ]
  },
  {
   "cell_type": "code",
   "execution_count": 21,
   "metadata": {},
   "outputs": [],
   "source": [
    "import pandas as pd\n",
    "import numpy as np"
   ]
  },
  {
   "cell_type": "code",
   "execution_count": 22,
   "metadata": {},
   "outputs": [
    {
     "data": {
      "text/plain": [
       "list"
      ]
     },
     "execution_count": 22,
     "metadata": {},
     "output_type": "execute_result"
    }
   ],
   "source": [
    "type(tsmc)"
   ]
  },
  {
   "cell_type": "code",
   "execution_count": 23,
   "metadata": {},
   "outputs": [
    {
     "data": {
      "text/plain": [
       "[Data(date=datetime.datetime(2020, 6, 1, 0, 0), capacity=37936214, turnover=11205227094, open=294.0, high=296.5, low=293.5, close=295.5, change=3.5, transaction=15502),\n",
       " Data(date=datetime.datetime(2020, 6, 2, 0, 0), capacity=26663587, turnover=7908476089, open=296.0, high=297.5, low=296.0, close=296.5, change=1.0, transaction=9743),\n",
       " Data(date=datetime.datetime(2020, 6, 3, 0, 0), capacity=67894337, turnover=20354971677, open=300.0, high=301.0, low=298.0, close=301.0, change=4.5, transaction=33062),\n",
       " Data(date=datetime.datetime(2020, 6, 4, 0, 0), capacity=47225322, turnover=14414983532, open=305.0, high=306.0, low=304.0, close=306.0, change=5.0, transaction=24482),\n",
       " Data(date=datetime.datetime(2020, 6, 5, 0, 0), capacity=44077262, turnover=13655618646, open=308.5, high=312.0, low=308.0, close=311.5, change=5.5, transaction=24096),\n",
       " Data(date=datetime.datetime(2020, 6, 8, 0, 0), capacity=52042921, turnover=16500836851, open=316.0, high=319.0, low=315.0, close=318.0, change=6.5, transaction=28581),\n",
       " Data(date=datetime.datetime(2020, 6, 9, 0, 0), capacity=37068082, turnover=11746874522, open=316.5, high=319.0, low=314.0, close=319.0, change=1.0, transaction=19981),\n",
       " Data(date=datetime.datetime(2020, 6, 10, 0, 0), capacity=42207259, turnover=13566733306, open=319.0, high=324.0, low=318.0, close=322.5, change=3.5, transaction=22670),\n",
       " Data(date=datetime.datetime(2020, 6, 11, 0, 0), capacity=50612255, turnover=16340456218, open=325.5, high=327.0, low=318.5, close=320.5, change=-2.0, transaction=27061),\n",
       " Data(date=datetime.datetime(2020, 6, 12, 0, 0), capacity=46970918, turnover=14811252573, open=313.0, high=317.5, low=312.5, close=316.0, change=-4.5, transaction=25263),\n",
       " Data(date=datetime.datetime(2020, 6, 15, 0, 0), capacity=51032404, turnover=15955585136, open=316.0, high=317.5, low=308.5, close=309.5, change=-6.5, transaction=29255),\n",
       " Data(date=datetime.datetime(2020, 6, 16, 0, 0), capacity=40725216, turnover=12823172756, open=317.0, high=317.0, low=314.0, close=315.0, change=5.5, transaction=19377),\n",
       " Data(date=datetime.datetime(2020, 6, 17, 0, 0), capacity=34692968, turnover=10922017056, open=316.5, high=317.0, low=313.5, close=315.0, change=0.0, transaction=16218),\n",
       " Data(date=datetime.datetime(2020, 6, 18, 0, 0), capacity=35443474, turnover=11123108346, open=314.5, high=315.0, low=313.0, close=314.5, change=0.0, transaction=11897),\n",
       " Data(date=datetime.datetime(2020, 6, 19, 0, 0), capacity=48130280, turnover=15102300186, open=314.0, high=314.5, low=312.0, close=314.5, change=0.0, transaction=12915),\n",
       " Data(date=datetime.datetime(2020, 6, 22, 0, 0), capacity=37374616, turnover=11722688924, open=314.5, high=316.5, low=312.0, close=312.0, change=-2.5, transaction=18836),\n",
       " Data(date=datetime.datetime(2020, 6, 23, 0, 0), capacity=41300084, turnover=12981121544, open=316.0, high=316.5, low=312.5, close=315.0, change=3.0, transaction=15959),\n",
       " Data(date=datetime.datetime(2020, 6, 24, 0, 0), capacity=55464024, turnover=17641164202, open=319.0, high=320.0, low=316.0, close=317.5, change=2.5, transaction=27086),\n",
       " Data(date=datetime.datetime(2020, 6, 29, 0, 0), capacity=56672892, turnover=17695228688, open=314.0, high=315.0, low=310.0, close=312.0, change=-5.5, transaction=30558),\n",
       " Data(date=datetime.datetime(2020, 6, 30, 0, 0), capacity=49241860, turnover=15386428040, open=313.5, high=314.0, low=311.0, close=313.0, change=1.0, transaction=16165),\n",
       " Data(date=datetime.datetime(2020, 7, 1, 0, 0), capacity=29685342, turnover=9400765756, open=315.0, high=318.0, low=314.0, close=317.5, change=4.5, transaction=15617),\n",
       " Data(date=datetime.datetime(2020, 7, 2, 0, 0), capacity=37789178, turnover=12119073560, open=319.0, high=322.0, low=318.0, close=322.0, change=4.5, transaction=18355),\n",
       " Data(date=datetime.datetime(2020, 7, 3, 0, 0), capacity=55656987, turnover=18280314743, open=327.0, high=330.5, low=326.5, close=329.5, change=7.5, transaction=30235),\n",
       " Data(date=datetime.datetime(2020, 7, 6, 0, 0), capacity=57256220, turnover=19200718243, open=332.5, high=338.0, low=332.0, close=338.0, change=8.5, transaction=31866),\n",
       " Data(date=datetime.datetime(2020, 7, 7, 0, 0), capacity=59046323, turnover=20143258406, open=343.5, high=346.0, low=338.0, close=338.5, change=0.5, transaction=32076),\n",
       " Data(date=datetime.datetime(2020, 7, 8, 0, 0), capacity=33813218, turnover=11522915649, open=337.5, high=342.5, low=337.5, close=341.0, change=2.5, transaction=16673),\n",
       " Data(date=datetime.datetime(2020, 7, 9, 0, 0), capacity=37410376, turnover=12912747970, open=346.0, high=347.0, low=343.0, close=345.0, change=4.0, transaction=20205),\n",
       " Data(date=datetime.datetime(2020, 7, 10, 0, 0), capacity=60902108, turnover=21298923681, open=352.5, high=353.0, low=345.5, close=348.5, change=3.5, transaction=32227),\n",
       " Data(date=datetime.datetime(2020, 7, 13, 0, 0), capacity=49459523, turnover=17425372488, open=351.0, high=354.5, low=350.5, close=354.5, change=6.0, transaction=23217),\n",
       " Data(date=datetime.datetime(2020, 7, 14, 0, 0), capacity=63030150, turnover=22602878292, open=355.0, high=364.0, low=354.5, close=363.5, change=9.0, transaction=30996),\n",
       " Data(date=datetime.datetime(2020, 7, 15, 0, 0), capacity=75105362, turnover=27486789803, open=366.0, high=370.0, low=361.0, close=363.0, change=-0.5, transaction=37607),\n",
       " Data(date=datetime.datetime(2020, 7, 16, 0, 0), capacity=68582512, turnover=24506038172, open=359.0, high=361.0, low=353.5, close=357.5, change=-5.5, transaction=35598),\n",
       " Data(date=datetime.datetime(2020, 7, 17, 0, 0), capacity=66403485, turnover=24244495853, open=361.0, high=369.0, low=360.0, close=367.0, change=9.5, transaction=36729),\n",
       " Data(date=datetime.datetime(2020, 7, 20, 0, 0), capacity=44940238, turnover=16487970674, open=370.0, high=370.0, low=362.5, close=366.0, change=-1.0, transaction=23335),\n",
       " Data(date=datetime.datetime(2020, 7, 21, 0, 0), capacity=64440128, turnover=24491627162, open=372.5, high=387.0, low=371.5, close=383.0, change=17.0, transaction=40266),\n",
       " Data(date=datetime.datetime(2020, 7, 22, 0, 0), capacity=43959670, turnover=16844625030, open=381.0, high=386.0, low=379.0, close=384.0, change=1.0, transaction=25530),\n",
       " Data(date=datetime.datetime(2020, 7, 23, 0, 0), capacity=45397282, turnover=17302637512, open=382.0, high=383.0, low=379.0, close=381.5, change=-2.5, transaction=22916),\n",
       " Data(date=datetime.datetime(2020, 7, 24, 0, 0), capacity=90988734, turnover=35368857726, open=390.0, high=395.0, low=382.0, close=386.0, change=4.5, transaction=45099),\n",
       " Data(date=datetime.datetime(2020, 7, 27, 0, 0), capacity=103315640, turnover=43637877952, open=420.5, high=424.5, low=416.5, close=424.5, change=38.5, transaction=49294),\n",
       " Data(date=datetime.datetime(2020, 7, 28, 0, 0), capacity=172157746, turnover=77804668620, open=464.0, high=466.5, low=428.5, close=435.0, change=10.5, transaction=92239),\n",
       " Data(date=datetime.datetime(2020, 7, 29, 0, 0), capacity=88641166, turnover=37649278004, open=428.0, high=431.5, low=419.5, close=422.0, change=-13.0, transaction=53111),\n",
       " Data(date=datetime.datetime(2020, 7, 30, 0, 0), capacity=69936949, turnover=30329225735, open=436.5, high=441.0, low=428.5, close=434.0, change=12.0, transaction=36627),\n",
       " Data(date=datetime.datetime(2020, 7, 31, 0, 0), capacity=50484674, turnover=21567922126, open=426.0, high=432.0, low=425.5, close=425.5, change=-8.5, transaction=27653),\n",
       " Data(date=datetime.datetime(2020, 8, 3, 0, 0), capacity=77288571, turnover=32339719000, open=420.5, high=424.0, low=415.0, close=416.0, change=-9.5, transaction=43360),\n",
       " Data(date=datetime.datetime(2020, 8, 4, 0, 0), capacity=41697445, turnover=17600499460, open=421.5, high=425.5, low=418.5, close=425.5, change=9.5, transaction=22250),\n",
       " Data(date=datetime.datetime(2020, 8, 5, 0, 0), capacity=47460834, turnover=20356413204, open=430.5, high=433.5, low=426.0, close=429.0, change=3.5, transaction=24715),\n",
       " Data(date=datetime.datetime(2020, 8, 6, 0, 0), capacity=43443627, turnover=18877761758, open=437.5, high=438.0, low=431.0, close=435.0, change=6.0, transaction=22414),\n",
       " Data(date=datetime.datetime(2020, 8, 7, 0, 0), capacity=37611388, turnover=16218241255, open=433.5, high=434.0, low=428.0, close=433.0, change=-2.0, transaction=19739),\n",
       " Data(date=datetime.datetime(2020, 8, 10, 0, 0), capacity=36067500, turnover=15674843876, open=427.5, high=437.5, low=427.5, close=435.5, change=2.5, transaction=21342),\n",
       " Data(date=datetime.datetime(2020, 8, 11, 0, 0), capacity=34545313, turnover=14918017903, open=432.0, high=435.0, low=429.0, close=429.0, change=-6.5, transaction=20297),\n",
       " Data(date=datetime.datetime(2020, 8, 12, 0, 0), capacity=53980474, turnover=22721731886, open=422.0, high=423.5, low=419.0, close=419.0, change=-10.0, transaction=32761),\n",
       " Data(date=datetime.datetime(2020, 8, 13, 0, 0), capacity=45669335, turnover=19514322038, open=428.0, high=429.0, low=424.5, close=429.0, change=10.0, transaction=21499),\n",
       " Data(date=datetime.datetime(2020, 8, 14, 0, 0), capacity=24259947, turnover=10332447763, open=424.0, high=428.0, low=423.0, close=427.0, change=-2.0, transaction=12642),\n",
       " Data(date=datetime.datetime(2020, 8, 17, 0, 0), capacity=34607731, turnover=14930831216, open=427.0, high=435.0, low=425.5, close=435.0, change=8.0, transaction=20823),\n",
       " Data(date=datetime.datetime(2020, 8, 18, 0, 0), capacity=45504160, turnover=19824413320, open=440.0, high=440.5, low=432.0, close=433.0, change=-2.0, transaction=21119),\n",
       " Data(date=datetime.datetime(2020, 8, 19, 0, 0), capacity=31486800, turnover=13574970200, open=436.0, high=436.5, low=427.5, close=427.5, change=-5.5, transaction=18279),\n",
       " Data(date=datetime.datetime(2020, 8, 20, 0, 0), capacity=75155235, turnover=31353886930, open=427.0, high=427.5, low=401.0, close=415.0, change=-12.5, transaction=45670),\n",
       " Data(date=datetime.datetime(2020, 8, 21, 0, 0), capacity=41956467, turnover=17770610338, open=421.5, high=427.0, low=420.0, close=424.5, change=9.5, transaction=23059),\n",
       " Data(date=datetime.datetime(2020, 8, 24, 0, 0), capacity=49199406, turnover=21139093710, open=427.5, high=434.5, low=425.0, close=428.0, change=3.5, transaction=24672),\n",
       " Data(date=datetime.datetime(2020, 8, 25, 0, 0), capacity=37024899, turnover=16076146369, open=433.5, high=436.0, low=430.5, close=434.5, change=6.5, transaction=22035),\n",
       " Data(date=datetime.datetime(2020, 8, 26, 0, 0), capacity=41406340, turnover=18169230108, open=435.5, high=442.0, low=435.0, close=442.0, change=7.5, transaction=25305)]"
      ]
     },
     "execution_count": 23,
     "metadata": {},
     "output_type": "execute_result"
    }
   ],
   "source": [
    "tsmc"
   ]
  },
  {
   "cell_type": "code",
   "execution_count": 24,
   "metadata": {},
   "outputs": [],
   "source": [
    "df = pd.DataFrame(tsmc)"
   ]
  },
  {
   "cell_type": "code",
   "execution_count": 25,
   "metadata": {},
   "outputs": [
    {
     "data": {
      "text/plain": [
       "0    2020-06-01\n",
       "1    2020-06-02\n",
       "2    2020-06-03\n",
       "3    2020-06-04\n",
       "4    2020-06-05\n",
       "        ...    \n",
       "56   2020-08-20\n",
       "57   2020-08-21\n",
       "58   2020-08-24\n",
       "59   2020-08-25\n",
       "60   2020-08-26\n",
       "Name: date, Length: 61, dtype: datetime64[ns]"
      ]
     },
     "execution_count": 25,
     "metadata": {},
     "output_type": "execute_result"
    }
   ],
   "source": [
    "df['date']"
   ]
  },
  {
   "cell_type": "code",
   "execution_count": 26,
   "metadata": {},
   "outputs": [],
   "source": [
    "df.set_index(df[\"date\"],inplace=True)"
   ]
  },
  {
   "cell_type": "code",
   "execution_count": 27,
   "metadata": {},
   "outputs": [
    {
     "data": {
      "text/html": [
       "<div>\n",
       "<style scoped>\n",
       "    .dataframe tbody tr th:only-of-type {\n",
       "        vertical-align: middle;\n",
       "    }\n",
       "\n",
       "    .dataframe tbody tr th {\n",
       "        vertical-align: top;\n",
       "    }\n",
       "\n",
       "    .dataframe thead th {\n",
       "        text-align: right;\n",
       "    }\n",
       "</style>\n",
       "<table border=\"1\" class=\"dataframe\">\n",
       "  <thead>\n",
       "    <tr style=\"text-align: right;\">\n",
       "      <th></th>\n",
       "      <th>date</th>\n",
       "      <th>capacity</th>\n",
       "      <th>turnover</th>\n",
       "      <th>open</th>\n",
       "      <th>high</th>\n",
       "      <th>low</th>\n",
       "      <th>close</th>\n",
       "      <th>change</th>\n",
       "      <th>transaction</th>\n",
       "    </tr>\n",
       "    <tr>\n",
       "      <th>date</th>\n",
       "      <th></th>\n",
       "      <th></th>\n",
       "      <th></th>\n",
       "      <th></th>\n",
       "      <th></th>\n",
       "      <th></th>\n",
       "      <th></th>\n",
       "      <th></th>\n",
       "      <th></th>\n",
       "    </tr>\n",
       "  </thead>\n",
       "  <tbody>\n",
       "    <tr>\n",
       "      <th>2020-06-01</th>\n",
       "      <td>2020-06-01</td>\n",
       "      <td>37936214</td>\n",
       "      <td>11205227094</td>\n",
       "      <td>294.0</td>\n",
       "      <td>296.5</td>\n",
       "      <td>293.5</td>\n",
       "      <td>295.5</td>\n",
       "      <td>3.5</td>\n",
       "      <td>15502</td>\n",
       "    </tr>\n",
       "    <tr>\n",
       "      <th>2020-06-02</th>\n",
       "      <td>2020-06-02</td>\n",
       "      <td>26663587</td>\n",
       "      <td>7908476089</td>\n",
       "      <td>296.0</td>\n",
       "      <td>297.5</td>\n",
       "      <td>296.0</td>\n",
       "      <td>296.5</td>\n",
       "      <td>1.0</td>\n",
       "      <td>9743</td>\n",
       "    </tr>\n",
       "    <tr>\n",
       "      <th>2020-06-03</th>\n",
       "      <td>2020-06-03</td>\n",
       "      <td>67894337</td>\n",
       "      <td>20354971677</td>\n",
       "      <td>300.0</td>\n",
       "      <td>301.0</td>\n",
       "      <td>298.0</td>\n",
       "      <td>301.0</td>\n",
       "      <td>4.5</td>\n",
       "      <td>33062</td>\n",
       "    </tr>\n",
       "    <tr>\n",
       "      <th>2020-06-04</th>\n",
       "      <td>2020-06-04</td>\n",
       "      <td>47225322</td>\n",
       "      <td>14414983532</td>\n",
       "      <td>305.0</td>\n",
       "      <td>306.0</td>\n",
       "      <td>304.0</td>\n",
       "      <td>306.0</td>\n",
       "      <td>5.0</td>\n",
       "      <td>24482</td>\n",
       "    </tr>\n",
       "    <tr>\n",
       "      <th>2020-06-05</th>\n",
       "      <td>2020-06-05</td>\n",
       "      <td>44077262</td>\n",
       "      <td>13655618646</td>\n",
       "      <td>308.5</td>\n",
       "      <td>312.0</td>\n",
       "      <td>308.0</td>\n",
       "      <td>311.5</td>\n",
       "      <td>5.5</td>\n",
       "      <td>24096</td>\n",
       "    </tr>\n",
       "    <tr>\n",
       "      <th>...</th>\n",
       "      <td>...</td>\n",
       "      <td>...</td>\n",
       "      <td>...</td>\n",
       "      <td>...</td>\n",
       "      <td>...</td>\n",
       "      <td>...</td>\n",
       "      <td>...</td>\n",
       "      <td>...</td>\n",
       "      <td>...</td>\n",
       "    </tr>\n",
       "    <tr>\n",
       "      <th>2020-08-20</th>\n",
       "      <td>2020-08-20</td>\n",
       "      <td>75155235</td>\n",
       "      <td>31353886930</td>\n",
       "      <td>427.0</td>\n",
       "      <td>427.5</td>\n",
       "      <td>401.0</td>\n",
       "      <td>415.0</td>\n",
       "      <td>-12.5</td>\n",
       "      <td>45670</td>\n",
       "    </tr>\n",
       "    <tr>\n",
       "      <th>2020-08-21</th>\n",
       "      <td>2020-08-21</td>\n",
       "      <td>41956467</td>\n",
       "      <td>17770610338</td>\n",
       "      <td>421.5</td>\n",
       "      <td>427.0</td>\n",
       "      <td>420.0</td>\n",
       "      <td>424.5</td>\n",
       "      <td>9.5</td>\n",
       "      <td>23059</td>\n",
       "    </tr>\n",
       "    <tr>\n",
       "      <th>2020-08-24</th>\n",
       "      <td>2020-08-24</td>\n",
       "      <td>49199406</td>\n",
       "      <td>21139093710</td>\n",
       "      <td>427.5</td>\n",
       "      <td>434.5</td>\n",
       "      <td>425.0</td>\n",
       "      <td>428.0</td>\n",
       "      <td>3.5</td>\n",
       "      <td>24672</td>\n",
       "    </tr>\n",
       "    <tr>\n",
       "      <th>2020-08-25</th>\n",
       "      <td>2020-08-25</td>\n",
       "      <td>37024899</td>\n",
       "      <td>16076146369</td>\n",
       "      <td>433.5</td>\n",
       "      <td>436.0</td>\n",
       "      <td>430.5</td>\n",
       "      <td>434.5</td>\n",
       "      <td>6.5</td>\n",
       "      <td>22035</td>\n",
       "    </tr>\n",
       "    <tr>\n",
       "      <th>2020-08-26</th>\n",
       "      <td>2020-08-26</td>\n",
       "      <td>41406340</td>\n",
       "      <td>18169230108</td>\n",
       "      <td>435.5</td>\n",
       "      <td>442.0</td>\n",
       "      <td>435.0</td>\n",
       "      <td>442.0</td>\n",
       "      <td>7.5</td>\n",
       "      <td>25305</td>\n",
       "    </tr>\n",
       "  </tbody>\n",
       "</table>\n",
       "<p>61 rows × 9 columns</p>\n",
       "</div>"
      ],
      "text/plain": [
       "                 date  capacity     turnover   open   high    low  close  \\\n",
       "date                                                                       \n",
       "2020-06-01 2020-06-01  37936214  11205227094  294.0  296.5  293.5  295.5   \n",
       "2020-06-02 2020-06-02  26663587   7908476089  296.0  297.5  296.0  296.5   \n",
       "2020-06-03 2020-06-03  67894337  20354971677  300.0  301.0  298.0  301.0   \n",
       "2020-06-04 2020-06-04  47225322  14414983532  305.0  306.0  304.0  306.0   \n",
       "2020-06-05 2020-06-05  44077262  13655618646  308.5  312.0  308.0  311.5   \n",
       "...               ...       ...          ...    ...    ...    ...    ...   \n",
       "2020-08-20 2020-08-20  75155235  31353886930  427.0  427.5  401.0  415.0   \n",
       "2020-08-21 2020-08-21  41956467  17770610338  421.5  427.0  420.0  424.5   \n",
       "2020-08-24 2020-08-24  49199406  21139093710  427.5  434.5  425.0  428.0   \n",
       "2020-08-25 2020-08-25  37024899  16076146369  433.5  436.0  430.5  434.5   \n",
       "2020-08-26 2020-08-26  41406340  18169230108  435.5  442.0  435.0  442.0   \n",
       "\n",
       "            change  transaction  \n",
       "date                             \n",
       "2020-06-01     3.5        15502  \n",
       "2020-06-02     1.0         9743  \n",
       "2020-06-03     4.5        33062  \n",
       "2020-06-04     5.0        24482  \n",
       "2020-06-05     5.5        24096  \n",
       "...            ...          ...  \n",
       "2020-08-20   -12.5        45670  \n",
       "2020-08-21     9.5        23059  \n",
       "2020-08-24     3.5        24672  \n",
       "2020-08-25     6.5        22035  \n",
       "2020-08-26     7.5        25305  \n",
       "\n",
       "[61 rows x 9 columns]"
      ]
     },
     "execution_count": 27,
     "metadata": {},
     "output_type": "execute_result"
    }
   ],
   "source": [
    "df"
   ]
  },
  {
   "cell_type": "code",
   "execution_count": 28,
   "metadata": {},
   "outputs": [
    {
     "data": {
      "text/plain": [
       "<AxesSubplot:xlabel='date'>"
      ]
     },
     "execution_count": 28,
     "metadata": {},
     "output_type": "execute_result"
    },
    {
     "data": {
      "image/png": "[encoded data removed]",
      "text/plain": [
       "<Figure size 432x288 with 1 Axes>"
      ]
     },
     "metadata": {},
     "output_type": "display_data"
    }
   ],
   "source": [
    "df['close'].plot()"
   ]
  },
  {
   "cell_type": "code",
   "execution_count": null,
   "metadata": {},
   "outputs": [],
   "source": []
  }
 ],
 "metadata": {
  "kernelspec": {
   "display_name": "Python 3",
   "language": "python",
   "name": "python3"
  },
  "language_info": {
   "codemirror_mode": {
    "name": "ipython",
    "version": 3
   },
   "file_extension": ".py",
   "mimetype": "text/x-python",
   "name": "python",
   "nbconvert_exporter": "python",
   "pygments_lexer": "ipython3",
   "version": "3.7.7"
  }
 },
 "nbformat": 4,
 "nbformat_minor": 4
}

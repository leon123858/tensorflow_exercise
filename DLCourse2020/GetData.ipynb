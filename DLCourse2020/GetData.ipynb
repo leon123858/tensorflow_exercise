{
 "cells": [
  {
   "cell_type": "code",
   "execution_count": 11,
   "metadata": {},
   "outputs": [],
   "source": [
    "import pandas as pd\n",
    "import numpy as np"
   ]
  },
  {
   "cell_type": "code",
   "execution_count": 12,
   "metadata": {},
   "outputs": [],
   "source": [
    "#讀取data\n",
    "df = pd.read_pickle(\"stockprice.pkl\")"
   ]
  },
  {
   "cell_type": "code",
   "execution_count": 13,
   "metadata": {},
   "outputs": [
    {
     "data": {
      "text/html": [
       "<div>\n",
       "<style scoped>\n",
       "    .dataframe tbody tr th:only-of-type {\n",
       "        vertical-align: middle;\n",
       "    }\n",
       "\n",
       "    .dataframe tbody tr th {\n",
       "        vertical-align: top;\n",
       "    }\n",
       "\n",
       "    .dataframe thead th {\n",
       "        text-align: right;\n",
       "    }\n",
       "</style>\n",
       "<table border=\"1\" class=\"dataframe\">\n",
       "  <thead>\n",
       "    <tr style=\"text-align: right;\">\n",
       "      <th></th>\n",
       "      <th></th>\n",
       "      <th>收盤價</th>\n",
       "      <th>開盤價</th>\n",
       "      <th>最低價</th>\n",
       "      <th>最高價</th>\n",
       "      <th>成交股數</th>\n",
       "    </tr>\n",
       "    <tr>\n",
       "      <th>stock_id</th>\n",
       "      <th>date</th>\n",
       "      <th></th>\n",
       "      <th></th>\n",
       "      <th></th>\n",
       "      <th></th>\n",
       "      <th></th>\n",
       "    </tr>\n",
       "  </thead>\n",
       "  <tbody>\n",
       "    <tr>\n",
       "      <th rowspan=\"5\" valign=\"top\">0015 富邦</th>\n",
       "      <th>2007-04-23</th>\n",
       "      <td>9.54</td>\n",
       "      <td>9.45</td>\n",
       "      <td>9.45</td>\n",
       "      <td>9.55</td>\n",
       "      <td>104000</td>\n",
       "    </tr>\n",
       "    <tr>\n",
       "      <th>2007-04-24</th>\n",
       "      <td>9.54</td>\n",
       "      <td>9.54</td>\n",
       "      <td>9.50</td>\n",
       "      <td>9.54</td>\n",
       "      <td>187000</td>\n",
       "    </tr>\n",
       "    <tr>\n",
       "      <th>2007-04-25</th>\n",
       "      <td>9.52</td>\n",
       "      <td>9.50</td>\n",
       "      <td>9.50</td>\n",
       "      <td>9.53</td>\n",
       "      <td>90000</td>\n",
       "    </tr>\n",
       "    <tr>\n",
       "      <th>2007-04-26</th>\n",
       "      <td>9.59</td>\n",
       "      <td>9.53</td>\n",
       "      <td>9.53</td>\n",
       "      <td>9.60</td>\n",
       "      <td>102000</td>\n",
       "    </tr>\n",
       "    <tr>\n",
       "      <th>2007-04-27</th>\n",
       "      <td>9.55</td>\n",
       "      <td>9.55</td>\n",
       "      <td>9.55</td>\n",
       "      <td>9.55</td>\n",
       "      <td>26000</td>\n",
       "    </tr>\n",
       "  </tbody>\n",
       "</table>\n",
       "</div>"
      ],
      "text/plain": [
       "                      收盤價   開盤價   最低價   最高價    成交股數\n",
       "stock_id date                                      \n",
       "0015 富邦  2007-04-23  9.54  9.45  9.45  9.55  104000\n",
       "         2007-04-24  9.54  9.54  9.50  9.54  187000\n",
       "         2007-04-25  9.52  9.50  9.50  9.53   90000\n",
       "         2007-04-26  9.59  9.53  9.53  9.60  102000\n",
       "         2007-04-27  9.55  9.55  9.55  9.55   26000"
      ]
     },
     "execution_count": 13,
     "metadata": {},
     "output_type": "execute_result"
    }
   ],
   "source": [
    "#看一下長怎樣\n",
    "df.head()"
   ]
  },
  {
   "cell_type": "code",
   "execution_count": 14,
   "metadata": {},
   "outputs": [
    {
     "data": {
      "text/html": [
       "<div>\n",
       "<style scoped>\n",
       "    .dataframe tbody tr th:only-of-type {\n",
       "        vertical-align: middle;\n",
       "    }\n",
       "\n",
       "    .dataframe tbody tr th {\n",
       "        vertical-align: top;\n",
       "    }\n",
       "\n",
       "    .dataframe thead th {\n",
       "        text-align: right;\n",
       "    }\n",
       "</style>\n",
       "<table border=\"1\" class=\"dataframe\">\n",
       "  <thead>\n",
       "    <tr style=\"text-align: right;\">\n",
       "      <th></th>\n",
       "      <th></th>\n",
       "      <th>收盤價</th>\n",
       "      <th>開盤價</th>\n",
       "      <th>最低價</th>\n",
       "      <th>最高價</th>\n",
       "      <th>成交股數</th>\n",
       "    </tr>\n",
       "    <tr>\n",
       "      <th>stock_id</th>\n",
       "      <th>date</th>\n",
       "      <th></th>\n",
       "      <th></th>\n",
       "      <th></th>\n",
       "      <th></th>\n",
       "      <th></th>\n",
       "    </tr>\n",
       "  </thead>\n",
       "  <tbody>\n",
       "    <tr>\n",
       "      <th rowspan=\"5\" valign=\"top\">9962 有益</th>\n",
       "      <th>2020-08-10</th>\n",
       "      <td>9.28</td>\n",
       "      <td>9.29</td>\n",
       "      <td>9.16</td>\n",
       "      <td>9.30</td>\n",
       "      <td>20450</td>\n",
       "    </tr>\n",
       "    <tr>\n",
       "      <th>2020-08-11</th>\n",
       "      <td>9.27</td>\n",
       "      <td>9.27</td>\n",
       "      <td>9.27</td>\n",
       "      <td>9.27</td>\n",
       "      <td>10000</td>\n",
       "    </tr>\n",
       "    <tr>\n",
       "      <th>2020-08-12</th>\n",
       "      <td>9.25</td>\n",
       "      <td>9.12</td>\n",
       "      <td>9.10</td>\n",
       "      <td>9.25</td>\n",
       "      <td>22000</td>\n",
       "    </tr>\n",
       "    <tr>\n",
       "      <th>2020-08-13</th>\n",
       "      <td>9.14</td>\n",
       "      <td>9.15</td>\n",
       "      <td>8.83</td>\n",
       "      <td>9.15</td>\n",
       "      <td>35000</td>\n",
       "    </tr>\n",
       "    <tr>\n",
       "      <th>2020-08-14</th>\n",
       "      <td>9.05</td>\n",
       "      <td>9.04</td>\n",
       "      <td>9.00</td>\n",
       "      <td>9.11</td>\n",
       "      <td>30600</td>\n",
       "    </tr>\n",
       "  </tbody>\n",
       "</table>\n",
       "</div>"
      ],
      "text/plain": [
       "                      收盤價   開盤價   最低價   最高價   成交股數\n",
       "stock_id date                                     \n",
       "9962 有益  2020-08-10  9.28  9.29  9.16  9.30  20450\n",
       "         2020-08-11  9.27  9.27  9.27  9.27  10000\n",
       "         2020-08-12  9.25  9.12  9.10  9.25  22000\n",
       "         2020-08-13  9.14  9.15  8.83  9.15  35000\n",
       "         2020-08-14  9.05  9.04  9.00  9.11  30600"
      ]
     },
     "execution_count": 14,
     "metadata": {},
     "output_type": "execute_result"
    }
   ],
   "source": [
    "df.tail()"
   ]
  },
  {
   "cell_type": "code",
   "execution_count": 15,
   "metadata": {},
   "outputs": [
    {
     "data": {
      "text/plain": [
       "stock_id  date      \n",
       "0015 富邦   2007-04-23    9.54\n",
       "          2007-04-24    9.54\n",
       "          2007-04-25    9.52\n",
       "          2007-04-26    9.59\n",
       "          2007-04-27    9.55\n",
       "                        ... \n",
       "9962 有益   2020-08-10    9.28\n",
       "          2020-08-11    9.27\n",
       "          2020-08-12    9.25\n",
       "          2020-08-13    9.14\n",
       "          2020-08-14    9.05\n",
       "Name: 收盤價, Length: 13091721, dtype: object"
      ]
     },
     "execution_count": 15,
     "metadata": {},
     "output_type": "execute_result"
    }
   ],
   "source": [
    "#只取收盤價\n",
    "df['收盤價']"
   ]
  },
  {
   "cell_type": "code",
   "execution_count": 16,
   "metadata": {},
   "outputs": [
    {
     "data": {
      "text/html": [
       "<div>\n",
       "<style scoped>\n",
       "    .dataframe tbody tr th:only-of-type {\n",
       "        vertical-align: middle;\n",
       "    }\n",
       "\n",
       "    .dataframe tbody tr th {\n",
       "        vertical-align: top;\n",
       "    }\n",
       "\n",
       "    .dataframe thead th {\n",
       "        text-align: right;\n",
       "    }\n",
       "</style>\n",
       "<table border=\"1\" class=\"dataframe\">\n",
       "  <thead>\n",
       "    <tr style=\"text-align: right;\">\n",
       "      <th></th>\n",
       "      <th>stock_id</th>\n",
       "      <th>date</th>\n",
       "      <th>收盤價</th>\n",
       "    </tr>\n",
       "  </thead>\n",
       "  <tbody>\n",
       "    <tr>\n",
       "      <th>0</th>\n",
       "      <td>0015 富邦</td>\n",
       "      <td>2007-04-23</td>\n",
       "      <td>9.54</td>\n",
       "    </tr>\n",
       "    <tr>\n",
       "      <th>1</th>\n",
       "      <td>0015 富邦</td>\n",
       "      <td>2007-04-24</td>\n",
       "      <td>9.54</td>\n",
       "    </tr>\n",
       "    <tr>\n",
       "      <th>2</th>\n",
       "      <td>0015 富邦</td>\n",
       "      <td>2007-04-25</td>\n",
       "      <td>9.52</td>\n",
       "    </tr>\n",
       "    <tr>\n",
       "      <th>3</th>\n",
       "      <td>0015 富邦</td>\n",
       "      <td>2007-04-26</td>\n",
       "      <td>9.59</td>\n",
       "    </tr>\n",
       "    <tr>\n",
       "      <th>4</th>\n",
       "      <td>0015 富邦</td>\n",
       "      <td>2007-04-27</td>\n",
       "      <td>9.55</td>\n",
       "    </tr>\n",
       "    <tr>\n",
       "      <th>...</th>\n",
       "      <td>...</td>\n",
       "      <td>...</td>\n",
       "      <td>...</td>\n",
       "    </tr>\n",
       "    <tr>\n",
       "      <th>13091716</th>\n",
       "      <td>9962 有益</td>\n",
       "      <td>2020-08-10</td>\n",
       "      <td>9.28</td>\n",
       "    </tr>\n",
       "    <tr>\n",
       "      <th>13091717</th>\n",
       "      <td>9962 有益</td>\n",
       "      <td>2020-08-11</td>\n",
       "      <td>9.27</td>\n",
       "    </tr>\n",
       "    <tr>\n",
       "      <th>13091718</th>\n",
       "      <td>9962 有益</td>\n",
       "      <td>2020-08-12</td>\n",
       "      <td>9.25</td>\n",
       "    </tr>\n",
       "    <tr>\n",
       "      <th>13091719</th>\n",
       "      <td>9962 有益</td>\n",
       "      <td>2020-08-13</td>\n",
       "      <td>9.14</td>\n",
       "    </tr>\n",
       "    <tr>\n",
       "      <th>13091720</th>\n",
       "      <td>9962 有益</td>\n",
       "      <td>2020-08-14</td>\n",
       "      <td>9.05</td>\n",
       "    </tr>\n",
       "  </tbody>\n",
       "</table>\n",
       "<p>13091721 rows × 3 columns</p>\n",
       "</div>"
      ],
      "text/plain": [
       "         stock_id       date   收盤價\n",
       "0         0015 富邦 2007-04-23  9.54\n",
       "1         0015 富邦 2007-04-24  9.54\n",
       "2         0015 富邦 2007-04-25  9.52\n",
       "3         0015 富邦 2007-04-26  9.59\n",
       "4         0015 富邦 2007-04-27  9.55\n",
       "...           ...        ...   ...\n",
       "13091716  9962 有益 2020-08-10  9.28\n",
       "13091717  9962 有益 2020-08-11  9.27\n",
       "13091718  9962 有益 2020-08-12  9.25\n",
       "13091719  9962 有益 2020-08-13  9.14\n",
       "13091720  9962 有益 2020-08-14  9.05\n",
       "\n",
       "[13091721 rows x 3 columns]"
      ]
     },
     "execution_count": 16,
     "metadata": {},
     "output_type": "execute_result"
    }
   ],
   "source": [
    "#依據收盤價壓成2D表格\n",
    "df['收盤價'].reset_index()"
   ]
  },
  {
   "cell_type": "code",
   "execution_count": 17,
   "metadata": {},
   "outputs": [],
   "source": [
    "#轉換表格至特定X,y,value\n",
    "data = df['收盤價'].reset_index().pivot(\"date\",\"stock_id\")"
   ]
  },
  {
   "cell_type": "code",
   "execution_count": 18,
   "metadata": {},
   "outputs": [
    {
     "data": {
      "text/html": [
       "<div>\n",
       "<style scoped>\n",
       "    .dataframe tbody tr th:only-of-type {\n",
       "        vertical-align: middle;\n",
       "    }\n",
       "\n",
       "    .dataframe tbody tr th {\n",
       "        vertical-align: top;\n",
       "    }\n",
       "\n",
       "    .dataframe thead tr th {\n",
       "        text-align: left;\n",
       "    }\n",
       "\n",
       "    .dataframe thead tr:last-of-type th {\n",
       "        text-align: right;\n",
       "    }\n",
       "</style>\n",
       "<table border=\"1\" class=\"dataframe\">\n",
       "  <thead>\n",
       "    <tr>\n",
       "      <th></th>\n",
       "      <th colspan=\"21\" halign=\"left\">收盤價</th>\n",
       "    </tr>\n",
       "    <tr>\n",
       "      <th>stock_id</th>\n",
       "      <th>0015 富邦</th>\n",
       "      <th>0050 元大台灣50</th>\n",
       "      <th>0051 元大中型100</th>\n",
       "      <th>0052 富邦科技</th>\n",
       "      <th>0053 元大電子</th>\n",
       "      <th>0054 元大台商50</th>\n",
       "      <th>0055 元大MSCI金融</th>\n",
       "      <th>0056 元大高股息</th>\n",
       "      <th>0057 富邦摩台</th>\n",
       "      <th>0058 富邦發達</th>\n",
       "      <th>...</th>\n",
       "      <th>9946 三發</th>\n",
       "      <th>9946 三發地產</th>\n",
       "      <th>9946 金革</th>\n",
       "      <th>9949 琉園</th>\n",
       "      <th>9950 萬國通</th>\n",
       "      <th>9951 皇田</th>\n",
       "      <th>9955 佳龍</th>\n",
       "      <th>9958 世紀鋼</th>\n",
       "      <th>9960 邁達康</th>\n",
       "      <th>9962 有益</th>\n",
       "    </tr>\n",
       "    <tr>\n",
       "      <th>date</th>\n",
       "      <th></th>\n",
       "      <th></th>\n",
       "      <th></th>\n",
       "      <th></th>\n",
       "      <th></th>\n",
       "      <th></th>\n",
       "      <th></th>\n",
       "      <th></th>\n",
       "      <th></th>\n",
       "      <th></th>\n",
       "      <th></th>\n",
       "      <th></th>\n",
       "      <th></th>\n",
       "      <th></th>\n",
       "      <th></th>\n",
       "      <th></th>\n",
       "      <th></th>\n",
       "      <th></th>\n",
       "      <th></th>\n",
       "      <th></th>\n",
       "      <th></th>\n",
       "    </tr>\n",
       "  </thead>\n",
       "  <tbody>\n",
       "    <tr>\n",
       "      <th>2007-04-23</th>\n",
       "      <td>9.54</td>\n",
       "      <td>57.85</td>\n",
       "      <td>32.83</td>\n",
       "      <td>38.40</td>\n",
       "      <td>NaN</td>\n",
       "      <td>NaN</td>\n",
       "      <td>NaN</td>\n",
       "      <td>NaN</td>\n",
       "      <td>NaN</td>\n",
       "      <td>NaN</td>\n",
       "      <td>...</td>\n",
       "      <td>NaN</td>\n",
       "      <td>NaN</td>\n",
       "      <td>9.78</td>\n",
       "      <td>73.60</td>\n",
       "      <td>13.25</td>\n",
       "      <td>51.30</td>\n",
       "      <td>72.40</td>\n",
       "      <td>NaN</td>\n",
       "      <td>46.00</td>\n",
       "      <td>49.60</td>\n",
       "    </tr>\n",
       "    <tr>\n",
       "      <th>2007-04-24</th>\n",
       "      <td>9.54</td>\n",
       "      <td>58.10</td>\n",
       "      <td>32.99</td>\n",
       "      <td>38.65</td>\n",
       "      <td>NaN</td>\n",
       "      <td>NaN</td>\n",
       "      <td>NaN</td>\n",
       "      <td>NaN</td>\n",
       "      <td>NaN</td>\n",
       "      <td>NaN</td>\n",
       "      <td>...</td>\n",
       "      <td>NaN</td>\n",
       "      <td>NaN</td>\n",
       "      <td>9.91</td>\n",
       "      <td>75.00</td>\n",
       "      <td>13.25</td>\n",
       "      <td>50.50</td>\n",
       "      <td>71.60</td>\n",
       "      <td>NaN</td>\n",
       "      <td>45.90</td>\n",
       "      <td>50.40</td>\n",
       "    </tr>\n",
       "    <tr>\n",
       "      <th>2007-04-25</th>\n",
       "      <td>9.52</td>\n",
       "      <td>57.60</td>\n",
       "      <td>32.80</td>\n",
       "      <td>38.59</td>\n",
       "      <td>NaN</td>\n",
       "      <td>NaN</td>\n",
       "      <td>NaN</td>\n",
       "      <td>NaN</td>\n",
       "      <td>NaN</td>\n",
       "      <td>NaN</td>\n",
       "      <td>...</td>\n",
       "      <td>NaN</td>\n",
       "      <td>NaN</td>\n",
       "      <td>10.10</td>\n",
       "      <td>74.60</td>\n",
       "      <td>13.30</td>\n",
       "      <td>49.90</td>\n",
       "      <td>71.60</td>\n",
       "      <td>NaN</td>\n",
       "      <td>49.10</td>\n",
       "      <td>49.10</td>\n",
       "    </tr>\n",
       "    <tr>\n",
       "      <th>2007-04-26</th>\n",
       "      <td>9.59</td>\n",
       "      <td>57.70</td>\n",
       "      <td>32.80</td>\n",
       "      <td>38.60</td>\n",
       "      <td>NaN</td>\n",
       "      <td>NaN</td>\n",
       "      <td>NaN</td>\n",
       "      <td>NaN</td>\n",
       "      <td>NaN</td>\n",
       "      <td>NaN</td>\n",
       "      <td>...</td>\n",
       "      <td>NaN</td>\n",
       "      <td>NaN</td>\n",
       "      <td>10.80</td>\n",
       "      <td>74.50</td>\n",
       "      <td>13.25</td>\n",
       "      <td>49.50</td>\n",
       "      <td>71.00</td>\n",
       "      <td>NaN</td>\n",
       "      <td>48.90</td>\n",
       "      <td>48.00</td>\n",
       "    </tr>\n",
       "    <tr>\n",
       "      <th>2007-04-27</th>\n",
       "      <td>9.55</td>\n",
       "      <td>57.50</td>\n",
       "      <td>32.72</td>\n",
       "      <td>38.40</td>\n",
       "      <td>NaN</td>\n",
       "      <td>NaN</td>\n",
       "      <td>NaN</td>\n",
       "      <td>NaN</td>\n",
       "      <td>NaN</td>\n",
       "      <td>NaN</td>\n",
       "      <td>...</td>\n",
       "      <td>NaN</td>\n",
       "      <td>NaN</td>\n",
       "      <td>11.55</td>\n",
       "      <td>75.70</td>\n",
       "      <td>13.15</td>\n",
       "      <td>48.80</td>\n",
       "      <td>69.50</td>\n",
       "      <td>NaN</td>\n",
       "      <td>48.60</td>\n",
       "      <td>46.50</td>\n",
       "    </tr>\n",
       "  </tbody>\n",
       "</table>\n",
       "<p>5 rows × 66978 columns</p>\n",
       "</div>"
      ],
      "text/plain": [
       "               收盤價                                                           \\\n",
       "stock_id   0015 富邦 0050 元大台灣50 0051 元大中型100 0052 富邦科技 0053 元大電子 0054 元大台商50   \n",
       "date                                                                          \n",
       "2007-04-23    9.54       57.85        32.83     38.40       NaN         NaN   \n",
       "2007-04-24    9.54       58.10        32.99     38.65       NaN         NaN   \n",
       "2007-04-25    9.52       57.60        32.80     38.59       NaN         NaN   \n",
       "2007-04-26    9.59       57.70        32.80     38.60       NaN         NaN   \n",
       "2007-04-27    9.55       57.50        32.72     38.40       NaN         NaN   \n",
       "\n",
       "                                                         ...          \\\n",
       "stock_id   0055 元大MSCI金融 0056 元大高股息 0057 富邦摩台 0058 富邦發達  ... 9946 三發   \n",
       "date                                                     ...           \n",
       "2007-04-23           NaN        NaN       NaN       NaN  ...     NaN   \n",
       "2007-04-24           NaN        NaN       NaN       NaN  ...     NaN   \n",
       "2007-04-25           NaN        NaN       NaN       NaN  ...     NaN   \n",
       "2007-04-26           NaN        NaN       NaN       NaN  ...     NaN   \n",
       "2007-04-27           NaN        NaN       NaN       NaN  ...     NaN   \n",
       "\n",
       "                                                                        \\\n",
       "stock_id   9946 三發地產 9946 金革 9949 琉園 9950 萬國通 9951 皇田 9955 佳龍 9958 世紀鋼   \n",
       "date                                                                     \n",
       "2007-04-23       NaN    9.78   73.60    13.25   51.30   72.40      NaN   \n",
       "2007-04-24       NaN    9.91   75.00    13.25   50.50   71.60      NaN   \n",
       "2007-04-25       NaN   10.10   74.60    13.30   49.90   71.60      NaN   \n",
       "2007-04-26       NaN   10.80   74.50    13.25   49.50   71.00      NaN   \n",
       "2007-04-27       NaN   11.55   75.70    13.15   48.80   69.50      NaN   \n",
       "\n",
       "                             \n",
       "stock_id   9960 邁達康 9962 有益  \n",
       "date                         \n",
       "2007-04-23    46.00   49.60  \n",
       "2007-04-24    45.90   50.40  \n",
       "2007-04-25    49.10   49.10  \n",
       "2007-04-26    48.90   48.00  \n",
       "2007-04-27    48.60   46.50  \n",
       "\n",
       "[5 rows x 66978 columns]"
      ]
     },
     "execution_count": 18,
     "metadata": {},
     "output_type": "execute_result"
    }
   ],
   "source": [
    "data.head()"
   ]
  },
  {
   "cell_type": "code",
   "execution_count": 19,
   "metadata": {},
   "outputs": [],
   "source": [
    "#轉換表格 資料多一層, 要換回來\n",
    "data = data['收盤價']"
   ]
  },
  {
   "cell_type": "code",
   "execution_count": 20,
   "metadata": {},
   "outputs": [
    {
     "data": {
      "text/html": [
       "<div>\n",
       "<style scoped>\n",
       "    .dataframe tbody tr th:only-of-type {\n",
       "        vertical-align: middle;\n",
       "    }\n",
       "\n",
       "    .dataframe tbody tr th {\n",
       "        vertical-align: top;\n",
       "    }\n",
       "\n",
       "    .dataframe thead th {\n",
       "        text-align: right;\n",
       "    }\n",
       "</style>\n",
       "<table border=\"1\" class=\"dataframe\">\n",
       "  <thead>\n",
       "    <tr style=\"text-align: right;\">\n",
       "      <th>stock_id</th>\n",
       "      <th>0015 富邦</th>\n",
       "      <th>0050 元大台灣50</th>\n",
       "      <th>0051 元大中型100</th>\n",
       "      <th>0052 富邦科技</th>\n",
       "      <th>0053 元大電子</th>\n",
       "      <th>0054 元大台商50</th>\n",
       "      <th>0055 元大MSCI金融</th>\n",
       "      <th>0056 元大高股息</th>\n",
       "      <th>0057 富邦摩台</th>\n",
       "      <th>0058 富邦發達</th>\n",
       "      <th>...</th>\n",
       "      <th>9946 三發</th>\n",
       "      <th>9946 三發地產</th>\n",
       "      <th>9946 金革</th>\n",
       "      <th>9949 琉園</th>\n",
       "      <th>9950 萬國通</th>\n",
       "      <th>9951 皇田</th>\n",
       "      <th>9955 佳龍</th>\n",
       "      <th>9958 世紀鋼</th>\n",
       "      <th>9960 邁達康</th>\n",
       "      <th>9962 有益</th>\n",
       "    </tr>\n",
       "    <tr>\n",
       "      <th>date</th>\n",
       "      <th></th>\n",
       "      <th></th>\n",
       "      <th></th>\n",
       "      <th></th>\n",
       "      <th></th>\n",
       "      <th></th>\n",
       "      <th></th>\n",
       "      <th></th>\n",
       "      <th></th>\n",
       "      <th></th>\n",
       "      <th></th>\n",
       "      <th></th>\n",
       "      <th></th>\n",
       "      <th></th>\n",
       "      <th></th>\n",
       "      <th></th>\n",
       "      <th></th>\n",
       "      <th></th>\n",
       "      <th></th>\n",
       "      <th></th>\n",
       "      <th></th>\n",
       "    </tr>\n",
       "  </thead>\n",
       "  <tbody>\n",
       "    <tr>\n",
       "      <th>2020-08-10</th>\n",
       "      <td>NaN</td>\n",
       "      <td>105.60</td>\n",
       "      <td>40.35</td>\n",
       "      <td>91.30</td>\n",
       "      <td>50.70</td>\n",
       "      <td>26.10</td>\n",
       "      <td>18.21</td>\n",
       "      <td>30.60</td>\n",
       "      <td>69.40</td>\n",
       "      <td>NaN</td>\n",
       "      <td>...</td>\n",
       "      <td>NaN</td>\n",
       "      <td>18.40</td>\n",
       "      <td>NaN</td>\n",
       "      <td>12.85</td>\n",
       "      <td>9.34</td>\n",
       "      <td>77.80</td>\n",
       "      <td>20.55</td>\n",
       "      <td>98.40</td>\n",
       "      <td>29.00</td>\n",
       "      <td>9.28</td>\n",
       "    </tr>\n",
       "    <tr>\n",
       "      <th>2020-08-11</th>\n",
       "      <td>NaN</td>\n",
       "      <td>104.80</td>\n",
       "      <td>40.19</td>\n",
       "      <td>90.30</td>\n",
       "      <td>50.30</td>\n",
       "      <td>25.83</td>\n",
       "      <td>18.21</td>\n",
       "      <td>30.35</td>\n",
       "      <td>69.25</td>\n",
       "      <td>NaN</td>\n",
       "      <td>...</td>\n",
       "      <td>NaN</td>\n",
       "      <td>18.00</td>\n",
       "      <td>NaN</td>\n",
       "      <td>12.85</td>\n",
       "      <td>9.22</td>\n",
       "      <td>78.10</td>\n",
       "      <td>19.65</td>\n",
       "      <td>99.10</td>\n",
       "      <td>---</td>\n",
       "      <td>9.27</td>\n",
       "    </tr>\n",
       "    <tr>\n",
       "      <th>2020-08-12</th>\n",
       "      <td>NaN</td>\n",
       "      <td>103.25</td>\n",
       "      <td>40.26</td>\n",
       "      <td>88.45</td>\n",
       "      <td>49.36</td>\n",
       "      <td>--</td>\n",
       "      <td>18.19</td>\n",
       "      <td>30.22</td>\n",
       "      <td>68.10</td>\n",
       "      <td>NaN</td>\n",
       "      <td>...</td>\n",
       "      <td>NaN</td>\n",
       "      <td>17.95</td>\n",
       "      <td>NaN</td>\n",
       "      <td>12.75</td>\n",
       "      <td>9.20</td>\n",
       "      <td>82.00</td>\n",
       "      <td>19.35</td>\n",
       "      <td>98.20</td>\n",
       "      <td>28.55</td>\n",
       "      <td>9.25</td>\n",
       "    </tr>\n",
       "    <tr>\n",
       "      <th>2020-08-13</th>\n",
       "      <td>NaN</td>\n",
       "      <td>104.25</td>\n",
       "      <td>40.25</td>\n",
       "      <td>89.40</td>\n",
       "      <td>49.96</td>\n",
       "      <td>26.00</td>\n",
       "      <td>18.25</td>\n",
       "      <td>30.32</td>\n",
       "      <td>68.65</td>\n",
       "      <td>NaN</td>\n",
       "      <td>...</td>\n",
       "      <td>NaN</td>\n",
       "      <td>17.80</td>\n",
       "      <td>NaN</td>\n",
       "      <td>12.85</td>\n",
       "      <td>9.38</td>\n",
       "      <td>81.80</td>\n",
       "      <td>18.75</td>\n",
       "      <td>99.40</td>\n",
       "      <td>28.50</td>\n",
       "      <td>9.14</td>\n",
       "    </tr>\n",
       "    <tr>\n",
       "      <th>2020-08-14</th>\n",
       "      <td>NaN</td>\n",
       "      <td>104.50</td>\n",
       "      <td>40.70</td>\n",
       "      <td>90.00</td>\n",
       "      <td>49.90</td>\n",
       "      <td>26.01</td>\n",
       "      <td>18.25</td>\n",
       "      <td>30.63</td>\n",
       "      <td>68.75</td>\n",
       "      <td>NaN</td>\n",
       "      <td>...</td>\n",
       "      <td>NaN</td>\n",
       "      <td>17.75</td>\n",
       "      <td>NaN</td>\n",
       "      <td>12.80</td>\n",
       "      <td>9.38</td>\n",
       "      <td>81.80</td>\n",
       "      <td>19.05</td>\n",
       "      <td>98.50</td>\n",
       "      <td>---</td>\n",
       "      <td>9.05</td>\n",
       "    </tr>\n",
       "  </tbody>\n",
       "</table>\n",
       "<p>5 rows × 66978 columns</p>\n",
       "</div>"
      ],
      "text/plain": [
       "stock_id   0015 富邦 0050 元大台灣50 0051 元大中型100 0052 富邦科技 0053 元大電子 0054 元大台商50  \\\n",
       "date                                                                          \n",
       "2020-08-10     NaN      105.60        40.35     91.30     50.70       26.10   \n",
       "2020-08-11     NaN      104.80        40.19     90.30     50.30       25.83   \n",
       "2020-08-12     NaN      103.25        40.26     88.45     49.36          --   \n",
       "2020-08-13     NaN      104.25        40.25     89.40     49.96       26.00   \n",
       "2020-08-14     NaN      104.50        40.70     90.00     49.90       26.01   \n",
       "\n",
       "stock_id   0055 元大MSCI金融 0056 元大高股息 0057 富邦摩台 0058 富邦發達  ... 9946 三發  \\\n",
       "date                                                     ...           \n",
       "2020-08-10         18.21      30.60     69.40       NaN  ...     NaN   \n",
       "2020-08-11         18.21      30.35     69.25       NaN  ...     NaN   \n",
       "2020-08-12         18.19      30.22     68.10       NaN  ...     NaN   \n",
       "2020-08-13         18.25      30.32     68.65       NaN  ...     NaN   \n",
       "2020-08-14         18.25      30.63     68.75       NaN  ...     NaN   \n",
       "\n",
       "stock_id   9946 三發地產 9946 金革 9949 琉園 9950 萬國通 9951 皇田 9955 佳龍 9958 世紀鋼  \\\n",
       "date                                                                     \n",
       "2020-08-10     18.40     NaN   12.85     9.34   77.80   20.55    98.40   \n",
       "2020-08-11     18.00     NaN   12.85     9.22   78.10   19.65    99.10   \n",
       "2020-08-12     17.95     NaN   12.75     9.20   82.00   19.35    98.20   \n",
       "2020-08-13     17.80     NaN   12.85     9.38   81.80   18.75    99.40   \n",
       "2020-08-14     17.75     NaN   12.80     9.38   81.80   19.05    98.50   \n",
       "\n",
       "stock_id   9960 邁達康 9962 有益  \n",
       "date                         \n",
       "2020-08-10    29.00    9.28  \n",
       "2020-08-11      ---    9.27  \n",
       "2020-08-12    28.55    9.25  \n",
       "2020-08-13    28.50    9.14  \n",
       "2020-08-14      ---    9.05  \n",
       "\n",
       "[5 rows x 66978 columns]"
      ]
     },
     "execution_count": 20,
     "metadata": {},
     "output_type": "execute_result"
    }
   ],
   "source": [
    "data.tail()"
   ]
  },
  {
   "cell_type": "code",
   "execution_count": 21,
   "metadata": {},
   "outputs": [
    {
     "data": {
      "text/plain": [
       "Index(['0015 富邦', '0050 元大台灣50', '0051 元大中型100', '0052 富邦科技', '0053 元大電子',\n",
       "       '0054 元大台商50', '0055 元大MSCI金融', '0056 元大高股息', '0057 富邦摩台', '0058 富邦發達',\n",
       "       ...\n",
       "       '9946 三發', '9946 三發地產', '9946 金革', '9949 琉園', '9950 萬國通', '9951 皇田',\n",
       "       '9955 佳龍', '9958 世紀鋼', '9960 邁達康', '9962 有益'],\n",
       "      dtype='object', name='stock_id', length=66978)"
      ]
     },
     "execution_count": 21,
     "metadata": {},
     "output_type": "execute_result"
    }
   ],
   "source": [
    "data.columns"
   ]
  },
  {
   "cell_type": "code",
   "execution_count": 22,
   "metadata": {},
   "outputs": [
    {
     "data": {
      "text/plain": [
       "Index(['2330 台積電'], dtype='object', name='stock_id')"
      ]
     },
     "execution_count": 22,
     "metadata": {},
     "output_type": "execute_result"
    }
   ],
   "source": [
    "#找特定值\n",
    "data.filter(like = '台積電').columns"
   ]
  },
  {
   "cell_type": "code",
   "execution_count": 23,
   "metadata": {},
   "outputs": [
    {
     "name": "stdout",
     "output_type": "stream",
     "text": [
      "date\n",
      "2007-04-23     68.60\n",
      "2007-04-24     69.80\n",
      "2007-04-25     69.30\n",
      "2007-04-26     69.90\n",
      "2007-04-27     69.00\n",
      "               ...  \n",
      "2020-08-10    435.50\n",
      "2020-08-11    429.00\n",
      "2020-08-12    419.00\n",
      "2020-08-13    429.00\n",
      "2020-08-14    427.00\n",
      "Name: 2330 台積電, Length: 3290, dtype: object\n"
     ]
    }
   ],
   "source": [
    "tsmc = data['2330 台積電']\n",
    "print(tsmc)"
   ]
  },
  {
   "cell_type": "code",
   "execution_count": 24,
   "metadata": {},
   "outputs": [
    {
     "data": {
      "text/plain": [
       "<AxesSubplot:xlabel='date'>"
      ]
     },
     "execution_count": 24,
     "metadata": {},
     "output_type": "execute_result"
    },
    {
     "data": {
      "image/png": "[encoded data removed]",
      "text/plain": [
       "<Figure size 432x288 with 1 Axes>"
      ]
     },
     "metadata": {
      "needs_background": "light"
     },
     "output_type": "display_data"
    }
   ],
   "source": [
    "import matplotlib.pyplot as plt\n",
    "tsmc = tsmc.astype('float')\n",
    "tsmc.plot()"
   ]
  },
  {
   "cell_type": "code",
   "execution_count": 25,
   "metadata": {},
   "outputs": [],
   "source": [
    "import seaborn as sns\n",
    "sns.set()"
   ]
  },
  {
   "cell_type": "code",
   "execution_count": 26,
   "metadata": {},
   "outputs": [
    {
     "data": {
      "text/plain": [
       "<AxesSubplot:xlabel='date'>"
      ]
     },
     "execution_count": 26,
     "metadata": {},
     "output_type": "execute_result"
    },
    {
     "data": {
      "image/png": "[encoded data removed]",
      "text/plain": [
       "<Figure size 432x288 with 1 Axes>"
      ]
     },
     "metadata": {},
     "output_type": "display_data"
    }
   ],
   "source": [
    "tsmc.plot()"
   ]
  },
  {
   "cell_type": "code",
   "execution_count": 27,
   "metadata": {},
   "outputs": [],
   "source": [
    "#取年月及其對應值的首筆\n",
    "startprice = tsmc.groupby([tsmc.index.year,tsmc.index.month]).first()"
   ]
  },
  {
   "cell_type": "code",
   "execution_count": 28,
   "metadata": {},
   "outputs": [],
   "source": [
    "#取年月及其對應值的尾筆\n",
    "endprice = tsmc.groupby([tsmc.index.year,tsmc.index.month]).last()"
   ]
  },
  {
   "cell_type": "code",
   "execution_count": 29,
   "metadata": {},
   "outputs": [
    {
     "name": "stdout",
     "output_type": "stream",
     "text": [
      "date  date\n",
      "2007  4        68.6\n",
      "      5        68.0\n",
      "      6        68.8\n",
      "      7        71.0\n",
      "      8        61.3\n",
      "              ...  \n",
      "2020  4       271.5\n",
      "      5       295.0\n",
      "      6       295.5\n",
      "      7       317.5\n",
      "      8       416.0\n",
      "Name: 2330 台積電, Length: 161, dtype: float64\n",
      "date  date\n",
      "2007  4        68.7\n",
      "      5        68.2\n",
      "      6        70.9\n",
      "      7        65.0\n",
      "      8        62.7\n",
      "              ...  \n",
      "2020  4       304.5\n",
      "      5       292.0\n",
      "      6       313.0\n",
      "      7       425.5\n",
      "      8       427.0\n",
      "Name: 2330 台積電, Length: 161, dtype: float64\n"
     ]
    }
   ],
   "source": [
    "print(startprice)\n",
    "print(endprice)"
   ]
  },
  {
   "cell_type": "code",
   "execution_count": 30,
   "metadata": {},
   "outputs": [
    {
     "name": "stdout",
     "output_type": "stream",
     "text": [
      "date  date\n",
      "2007  4       1.001458\n",
      "      5       1.002941\n",
      "      6       1.030523\n",
      "      7       0.915493\n",
      "      8       1.022838\n",
      "                ...   \n",
      "2020  4       1.121547\n",
      "      5       0.989831\n",
      "      6       1.059222\n",
      "      7       1.340157\n",
      "      8       1.026442\n",
      "Name: 2330 台積電, Length: 161, dtype: float64\n"
     ]
    }
   ],
   "source": [
    "#算獲利比\n",
    "profit = endprice / startprice\n",
    "print(profit)"
   ]
  },
  {
   "cell_type": "code",
   "execution_count": 31,
   "metadata": {},
   "outputs": [],
   "source": [
    "profit.index.set_names([\"year\",\"month\"],inplace=True)"
   ]
  },
  {
   "cell_type": "code",
   "execution_count": 32,
   "metadata": {},
   "outputs": [
    {
     "data": {
      "text/plain": [
       "year  month\n",
       "2007  4        1.001458\n",
       "      5        1.002941\n",
       "      6        1.030523\n",
       "      7        0.915493\n",
       "      8        1.022838\n",
       "                 ...   \n",
       "2020  4        1.121547\n",
       "      5        0.989831\n",
       "      6        1.059222\n",
       "      7        1.340157\n",
       "      8        1.026442\n",
       "Name: 2330 台積電, Length: 161, dtype: float64"
      ]
     },
     "execution_count": 32,
     "metadata": {},
     "output_type": "execute_result"
    }
   ],
   "source": [
    "profit"
   ]
  },
  {
   "cell_type": "code",
   "execution_count": 33,
   "metadata": {},
   "outputs": [
    {
     "data": {
      "text/html": [
       "<div>\n",
       "<style scoped>\n",
       "    .dataframe tbody tr th:only-of-type {\n",
       "        vertical-align: middle;\n",
       "    }\n",
       "\n",
       "    .dataframe tbody tr th {\n",
       "        vertical-align: top;\n",
       "    }\n",
       "\n",
       "    .dataframe thead th {\n",
       "        text-align: right;\n",
       "    }\n",
       "</style>\n",
       "<table border=\"1\" class=\"dataframe\">\n",
       "  <thead>\n",
       "    <tr style=\"text-align: right;\">\n",
       "      <th>month</th>\n",
       "      <th>1</th>\n",
       "      <th>2</th>\n",
       "      <th>3</th>\n",
       "      <th>4</th>\n",
       "      <th>5</th>\n",
       "      <th>6</th>\n",
       "      <th>7</th>\n",
       "      <th>8</th>\n",
       "      <th>9</th>\n",
       "      <th>10</th>\n",
       "      <th>11</th>\n",
       "      <th>12</th>\n",
       "    </tr>\n",
       "    <tr>\n",
       "      <th>year</th>\n",
       "      <th></th>\n",
       "      <th></th>\n",
       "      <th></th>\n",
       "      <th></th>\n",
       "      <th></th>\n",
       "      <th></th>\n",
       "      <th></th>\n",
       "      <th></th>\n",
       "      <th></th>\n",
       "      <th></th>\n",
       "      <th></th>\n",
       "      <th></th>\n",
       "    </tr>\n",
       "  </thead>\n",
       "  <tbody>\n",
       "    <tr>\n",
       "      <th>2007</th>\n",
       "      <td>NaN</td>\n",
       "      <td>NaN</td>\n",
       "      <td>NaN</td>\n",
       "      <td>1.001458</td>\n",
       "      <td>1.002941</td>\n",
       "      <td>1.030523</td>\n",
       "      <td>0.915493</td>\n",
       "      <td>1.022838</td>\n",
       "      <td>1.011182</td>\n",
       "      <td>0.998435</td>\n",
       "      <td>0.943925</td>\n",
       "      <td>1.036789</td>\n",
       "    </tr>\n",
       "    <tr>\n",
       "      <th>2008</th>\n",
       "      <td>0.990083</td>\n",
       "      <td>1.003257</td>\n",
       "      <td>1.039539</td>\n",
       "      <td>1.079288</td>\n",
       "      <td>0.964706</td>\n",
       "      <td>0.961538</td>\n",
       "      <td>0.875389</td>\n",
       "      <td>1.051786</td>\n",
       "      <td>0.927562</td>\n",
       "      <td>0.914286</td>\n",
       "      <td>0.868085</td>\n",
       "      <td>1.088235</td>\n",
       "    </tr>\n",
       "    <tr>\n",
       "      <th>2009</th>\n",
       "      <td>0.869189</td>\n",
       "      <td>1.075359</td>\n",
       "      <td>1.148603</td>\n",
       "      <td>1.088757</td>\n",
       "      <td>1.023729</td>\n",
       "      <td>0.927119</td>\n",
       "      <td>1.070909</td>\n",
       "      <td>1.015437</td>\n",
       "      <td>1.057377</td>\n",
       "      <td>0.923077</td>\n",
       "      <td>1.021739</td>\n",
       "      <td>1.062603</td>\n",
       "    </tr>\n",
       "    <tr>\n",
       "      <th>2010</th>\n",
       "      <td>0.947612</td>\n",
       "      <td>0.983278</td>\n",
       "      <td>1.031879</td>\n",
       "      <td>0.995169</td>\n",
       "      <td>0.977273</td>\n",
       "      <td>1.013378</td>\n",
       "      <td>1.040000</td>\n",
       "      <td>0.945425</td>\n",
       "      <td>1.049069</td>\n",
       "      <td>1.012903</td>\n",
       "      <td>0.998425</td>\n",
       "      <td>1.099071</td>\n",
       "    </tr>\n",
       "    <tr>\n",
       "      <th>2011</th>\n",
       "      <td>1.073136</td>\n",
       "      <td>0.933775</td>\n",
       "      <td>0.988796</td>\n",
       "      <td>1.035361</td>\n",
       "      <td>1.028150</td>\n",
       "      <td>0.937662</td>\n",
       "      <td>0.989011</td>\n",
       "      <td>0.955923</td>\n",
       "      <td>1.020408</td>\n",
       "      <td>1.072886</td>\n",
       "      <td>1.010840</td>\n",
       "      <td>0.989556</td>\n",
       "    </tr>\n",
       "    <tr>\n",
       "      <th>2012</th>\n",
       "      <td>1.046667</td>\n",
       "      <td>1.053247</td>\n",
       "      <td>1.059925</td>\n",
       "      <td>1.019976</td>\n",
       "      <td>0.962670</td>\n",
       "      <td>1.017522</td>\n",
       "      <td>0.972389</td>\n",
       "      <td>1.041250</td>\n",
       "      <td>1.070322</td>\n",
       "      <td>0.997750</td>\n",
       "      <td>1.106502</td>\n",
       "      <td>0.990807</td>\n",
       "    </tr>\n",
       "    <tr>\n",
       "      <th>2013</th>\n",
       "      <td>1.019076</td>\n",
       "      <td>1.029557</td>\n",
       "      <td>0.957143</td>\n",
       "      <td>1.084158</td>\n",
       "      <td>0.990950</td>\n",
       "      <td>1.032558</td>\n",
       "      <td>0.949074</td>\n",
       "      <td>1.000000</td>\n",
       "      <td>0.985294</td>\n",
       "      <td>1.078818</td>\n",
       "      <td>0.958904</td>\n",
       "      <td>1.009569</td>\n",
       "    </tr>\n",
       "    <tr>\n",
       "      <th>2014</th>\n",
       "      <td>1.004785</td>\n",
       "      <td>1.074627</td>\n",
       "      <td>1.097222</td>\n",
       "      <td>0.991632</td>\n",
       "      <td>1.012712</td>\n",
       "      <td>1.032653</td>\n",
       "      <td>0.945312</td>\n",
       "      <td>1.033333</td>\n",
       "      <td>0.933852</td>\n",
       "      <td>1.074074</td>\n",
       "      <td>1.080153</td>\n",
       "      <td>1.007143</td>\n",
       "    </tr>\n",
       "    <tr>\n",
       "      <th>2015</th>\n",
       "      <td>1.010753</td>\n",
       "      <td>1.056140</td>\n",
       "      <td>0.976510</td>\n",
       "      <td>1.020833</td>\n",
       "      <td>0.989831</td>\n",
       "      <td>0.968966</td>\n",
       "      <td>0.989362</td>\n",
       "      <td>0.959108</td>\n",
       "      <td>1.048387</td>\n",
       "      <td>1.022472</td>\n",
       "      <td>1.010909</td>\n",
       "      <td>1.003509</td>\n",
       "    </tr>\n",
       "    <tr>\n",
       "      <th>2016</th>\n",
       "      <td>1.017921</td>\n",
       "      <td>1.034722</td>\n",
       "      <td>1.065789</td>\n",
       "      <td>0.946372</td>\n",
       "      <td>1.061017</td>\n",
       "      <td>1.022013</td>\n",
       "      <td>1.039157</td>\n",
       "      <td>0.994350</td>\n",
       "      <td>1.051873</td>\n",
       "      <td>1.013441</td>\n",
       "      <td>0.965699</td>\n",
       "      <td>0.991803</td>\n",
       "    </tr>\n",
       "    <tr>\n",
       "      <th>2017</th>\n",
       "      <td>1.013661</td>\n",
       "      <td>1.024390</td>\n",
       "      <td>1.016129</td>\n",
       "      <td>1.007772</td>\n",
       "      <td>1.033079</td>\n",
       "      <td>1.007246</td>\n",
       "      <td>1.026316</td>\n",
       "      <td>1.021226</td>\n",
       "      <td>1.000000</td>\n",
       "      <td>1.102041</td>\n",
       "      <td>0.931959</td>\n",
       "      <td>0.993506</td>\n",
       "    </tr>\n",
       "    <tr>\n",
       "      <th>2018</th>\n",
       "      <td>1.096774</td>\n",
       "      <td>0.947977</td>\n",
       "      <td>1.018519</td>\n",
       "      <td>0.920892</td>\n",
       "      <td>1.004484</td>\n",
       "      <td>0.966518</td>\n",
       "      <td>1.149533</td>\n",
       "      <td>1.032258</td>\n",
       "      <td>1.021401</td>\n",
       "      <td>0.889734</td>\n",
       "      <td>0.957537</td>\n",
       "      <td>0.959574</td>\n",
       "    </tr>\n",
       "    <tr>\n",
       "      <th>2019</th>\n",
       "      <td>1.006834</td>\n",
       "      <td>1.048246</td>\n",
       "      <td>1.042463</td>\n",
       "      <td>1.054990</td>\n",
       "      <td>0.909266</td>\n",
       "      <td>1.004202</td>\n",
       "      <td>1.044266</td>\n",
       "      <td>1.009747</td>\n",
       "      <td>1.056311</td>\n",
       "      <td>1.066071</td>\n",
       "      <td>1.020067</td>\n",
       "      <td>1.076423</td>\n",
       "    </tr>\n",
       "    <tr>\n",
       "      <th>2020</th>\n",
       "      <td>0.943953</td>\n",
       "      <td>1.003175</td>\n",
       "      <td>0.881029</td>\n",
       "      <td>1.121547</td>\n",
       "      <td>0.989831</td>\n",
       "      <td>1.059222</td>\n",
       "      <td>1.340157</td>\n",
       "      <td>1.026442</td>\n",
       "      <td>NaN</td>\n",
       "      <td>NaN</td>\n",
       "      <td>NaN</td>\n",
       "      <td>NaN</td>\n",
       "    </tr>\n",
       "  </tbody>\n",
       "</table>\n",
       "</div>"
      ],
      "text/plain": [
       "month        1         2         3         4         5         6         7   \\\n",
       "year                                                                          \n",
       "2007        NaN       NaN       NaN  1.001458  1.002941  1.030523  0.915493   \n",
       "2008   0.990083  1.003257  1.039539  1.079288  0.964706  0.961538  0.875389   \n",
       "2009   0.869189  1.075359  1.148603  1.088757  1.023729  0.927119  1.070909   \n",
       "2010   0.947612  0.983278  1.031879  0.995169  0.977273  1.013378  1.040000   \n",
       "2011   1.073136  0.933775  0.988796  1.035361  1.028150  0.937662  0.989011   \n",
       "2012   1.046667  1.053247  1.059925  1.019976  0.962670  1.017522  0.972389   \n",
       "2013   1.019076  1.029557  0.957143  1.084158  0.990950  1.032558  0.949074   \n",
       "2014   1.004785  1.074627  1.097222  0.991632  1.012712  1.032653  0.945312   \n",
       "2015   1.010753  1.056140  0.976510  1.020833  0.989831  0.968966  0.989362   \n",
       "2016   1.017921  1.034722  1.065789  0.946372  1.061017  1.022013  1.039157   \n",
       "2017   1.013661  1.024390  1.016129  1.007772  1.033079  1.007246  1.026316   \n",
       "2018   1.096774  0.947977  1.018519  0.920892  1.004484  0.966518  1.149533   \n",
       "2019   1.006834  1.048246  1.042463  1.054990  0.909266  1.004202  1.044266   \n",
       "2020   0.943953  1.003175  0.881029  1.121547  0.989831  1.059222  1.340157   \n",
       "\n",
       "month        8         9         10        11        12  \n",
       "year                                                     \n",
       "2007   1.022838  1.011182  0.998435  0.943925  1.036789  \n",
       "2008   1.051786  0.927562  0.914286  0.868085  1.088235  \n",
       "2009   1.015437  1.057377  0.923077  1.021739  1.062603  \n",
       "2010   0.945425  1.049069  1.012903  0.998425  1.099071  \n",
       "2011   0.955923  1.020408  1.072886  1.010840  0.989556  \n",
       "2012   1.041250  1.070322  0.997750  1.106502  0.990807  \n",
       "2013   1.000000  0.985294  1.078818  0.958904  1.009569  \n",
       "2014   1.033333  0.933852  1.074074  1.080153  1.007143  \n",
       "2015   0.959108  1.048387  1.022472  1.010909  1.003509  \n",
       "2016   0.994350  1.051873  1.013441  0.965699  0.991803  \n",
       "2017   1.021226  1.000000  1.102041  0.931959  0.993506  \n",
       "2018   1.032258  1.021401  0.889734  0.957537  0.959574  \n",
       "2019   1.009747  1.056311  1.066071  1.020067  1.076423  \n",
       "2020   1.026442       NaN       NaN       NaN       NaN  "
      ]
     },
     "execution_count": 33,
     "metadata": {},
     "output_type": "execute_result"
    }
   ],
   "source": [
    "#再度重製表格\n",
    "profit = profit.reset_index().pivot('year','month')\n",
    "profit = profit[\"2330 台積電\"]\n",
    "profit"
   ]
  },
  {
   "cell_type": "code",
   "execution_count": 34,
   "metadata": {},
   "outputs": [
    {
     "data": {
      "text/plain": [
       "<AxesSubplot:xlabel='month', ylabel='year'>"
      ]
     },
     "execution_count": 34,
     "metadata": {},
     "output_type": "execute_result"
    },
    {
     "data": {
      "image/png": "[encoded data removed]",
      "text/plain": [
       "<Figure size 432x288 with 2 Axes>"
      ]
     },
     "metadata": {},
     "output_type": "display_data"
    }
   ],
   "source": [
    "sns.heatmap(profit,cmap='autumn')"
   ]
  },
  {
   "cell_type": "code",
   "execution_count": 35,
   "metadata": {},
   "outputs": [],
   "source": [
    "ma60 = tsmc.rolling(60).mean()"
   ]
  },
  {
   "cell_type": "code",
   "execution_count": 36,
   "metadata": {},
   "outputs": [
    {
     "data": {
      "text/plain": [
       "date\n",
       "2007-04-23           NaN\n",
       "2007-04-24           NaN\n",
       "2007-04-25           NaN\n",
       "2007-04-26           NaN\n",
       "2007-04-27           NaN\n",
       "                 ...    \n",
       "2020-08-10    342.975000\n",
       "2020-08-11    345.158333\n",
       "2020-08-12    347.308333\n",
       "2020-08-13    349.600000\n",
       "2020-08-14    351.816667\n",
       "Name: 2330 台積電, Length: 3290, dtype: float64"
      ]
     },
     "execution_count": 36,
     "metadata": {},
     "output_type": "execute_result"
    }
   ],
   "source": [
    "ma60#均線 60天平均"
   ]
  },
  {
   "cell_type": "code",
   "execution_count": 37,
   "metadata": {},
   "outputs": [
    {
     "data": {
      "text/plain": [
       "<AxesSubplot:xlabel='date'>"
      ]
     },
     "execution_count": 37,
     "metadata": {},
     "output_type": "execute_result"
    },
    {
     "data": {
      "image/png": "[encoded data removed]",
      "text/plain": [
       "<Figure size 432x288 with 1 Axes>"
      ]
     },
     "metadata": {},
     "output_type": "display_data"
    }
   ],
   "source": [
    "tsmc['2020':].plot()\n",
    "ma60['2020':].plot()"
   ]
  },
  {
   "cell_type": "code",
   "execution_count": 38,
   "metadata": {},
   "outputs": [
    {
     "data": {
      "text/plain": [
       "<AxesSubplot:xlabel='date'>"
      ]
     },
     "execution_count": 38,
     "metadata": {},
     "output_type": "execute_result"
    },
    {
     "data": {
      "image/png": "[encoded data removed]",
      "text/plain": [
       "<Figure size 432x288 with 1 Axes>"
      ]
     },
     "metadata": {},
     "output_type": "display_data"
    }
   ],
   "source": [
    "tsmc_bias = tsmc/ma60 #與60天平均的比例差異\n",
    "tsmc_bias.plot()"
   ]
  },
  {
   "cell_type": "code",
   "execution_count": 39,
   "metadata": {},
   "outputs": [],
   "source": [
    "tsmc60profit = tsmc.shift(-60) - tsmc #60天后的價格與今天之比較"
   ]
  },
  {
   "cell_type": "code",
   "execution_count": 40,
   "metadata": {},
   "outputs": [
    {
     "data": {
      "text/plain": [
       "<AxesSubplot:xlabel='date'>"
      ]
     },
     "execution_count": 40,
     "metadata": {},
     "output_type": "execute_result"
    },
    {
     "data": {
      "image/png": "[encoded data removed]",
      "text/plain": [
       "<Figure size 432x288 with 1 Axes>"
      ]
     },
     "metadata": {},
     "output_type": "display_data"
    }
   ],
   "source": [
    "tsmc60profit.plot() #因此可以知道60天後是賺是賠"
   ]
  },
  {
   "cell_type": "code",
   "execution_count": 41,
   "metadata": {},
   "outputs": [],
   "source": [
    "tsmc_df = pd.DataFrame({\n",
    "    'price':tsmc,\n",
    "    'ma':ma60,\n",
    "    'bias':tsmc_bias,\n",
    "    'profit':tsmc60profit,\n",
    "    'year':tsmc.index.year\n",
    "})"
   ]
  },
  {
   "cell_type": "code",
   "execution_count": 42,
   "metadata": {},
   "outputs": [
    {
     "data": {
      "text/html": [
       "<div>\n",
       "<style scoped>\n",
       "    .dataframe tbody tr th:only-of-type {\n",
       "        vertical-align: middle;\n",
       "    }\n",
       "\n",
       "    .dataframe tbody tr th {\n",
       "        vertical-align: top;\n",
       "    }\n",
       "\n",
       "    .dataframe thead th {\n",
       "        text-align: right;\n",
       "    }\n",
       "</style>\n",
       "<table border=\"1\" class=\"dataframe\">\n",
       "  <thead>\n",
       "    <tr style=\"text-align: right;\">\n",
       "      <th></th>\n",
       "      <th>price</th>\n",
       "      <th>ma</th>\n",
       "      <th>bias</th>\n",
       "      <th>profit</th>\n",
       "      <th>year</th>\n",
       "    </tr>\n",
       "    <tr>\n",
       "      <th>date</th>\n",
       "      <th></th>\n",
       "      <th></th>\n",
       "      <th></th>\n",
       "      <th></th>\n",
       "      <th></th>\n",
       "    </tr>\n",
       "  </thead>\n",
       "  <tbody>\n",
       "    <tr>\n",
       "      <th>2007-04-23</th>\n",
       "      <td>68.6</td>\n",
       "      <td>NaN</td>\n",
       "      <td>NaN</td>\n",
       "      <td>2.4</td>\n",
       "      <td>2007</td>\n",
       "    </tr>\n",
       "    <tr>\n",
       "      <th>2007-04-24</th>\n",
       "      <td>69.8</td>\n",
       "      <td>NaN</td>\n",
       "      <td>NaN</td>\n",
       "      <td>0.2</td>\n",
       "      <td>2007</td>\n",
       "    </tr>\n",
       "    <tr>\n",
       "      <th>2007-04-25</th>\n",
       "      <td>69.3</td>\n",
       "      <td>NaN</td>\n",
       "      <td>NaN</td>\n",
       "      <td>0.1</td>\n",
       "      <td>2007</td>\n",
       "    </tr>\n",
       "    <tr>\n",
       "      <th>2007-04-26</th>\n",
       "      <td>69.9</td>\n",
       "      <td>NaN</td>\n",
       "      <td>NaN</td>\n",
       "      <td>-1.2</td>\n",
       "      <td>2007</td>\n",
       "    </tr>\n",
       "    <tr>\n",
       "      <th>2007-04-27</th>\n",
       "      <td>69.0</td>\n",
       "      <td>NaN</td>\n",
       "      <td>NaN</td>\n",
       "      <td>2.3</td>\n",
       "      <td>2007</td>\n",
       "    </tr>\n",
       "  </tbody>\n",
       "</table>\n",
       "</div>"
      ],
      "text/plain": [
       "            price  ma  bias  profit  year\n",
       "date                                     \n",
       "2007-04-23   68.6 NaN   NaN     2.4  2007\n",
       "2007-04-24   69.8 NaN   NaN     0.2  2007\n",
       "2007-04-25   69.3 NaN   NaN     0.1  2007\n",
       "2007-04-26   69.9 NaN   NaN    -1.2  2007\n",
       "2007-04-27   69.0 NaN   NaN     2.3  2007"
      ]
     },
     "execution_count": 42,
     "metadata": {},
     "output_type": "execute_result"
    }
   ],
   "source": [
    "tsmc_df.head()"
   ]
  },
  {
   "cell_type": "code",
   "execution_count": 43,
   "metadata": {},
   "outputs": [],
   "source": [
    "tsmc_df = tsmc_df.dropna()"
   ]
  },
  {
   "cell_type": "code",
   "execution_count": 44,
   "metadata": {},
   "outputs": [
    {
     "data": {
      "text/html": [
       "<div>\n",
       "<style scoped>\n",
       "    .dataframe tbody tr th:only-of-type {\n",
       "        vertical-align: middle;\n",
       "    }\n",
       "\n",
       "    .dataframe tbody tr th {\n",
       "        vertical-align: top;\n",
       "    }\n",
       "\n",
       "    .dataframe thead th {\n",
       "        text-align: right;\n",
       "    }\n",
       "</style>\n",
       "<table border=\"1\" class=\"dataframe\">\n",
       "  <thead>\n",
       "    <tr style=\"text-align: right;\">\n",
       "      <th></th>\n",
       "      <th>price</th>\n",
       "      <th>ma</th>\n",
       "      <th>bias</th>\n",
       "      <th>profit</th>\n",
       "      <th>year</th>\n",
       "    </tr>\n",
       "    <tr>\n",
       "      <th>date</th>\n",
       "      <th></th>\n",
       "      <th></th>\n",
       "      <th></th>\n",
       "      <th></th>\n",
       "      <th></th>\n",
       "    </tr>\n",
       "  </thead>\n",
       "  <tbody>\n",
       "    <tr>\n",
       "      <th>2020-05-14</th>\n",
       "      <td>293.0</td>\n",
       "      <td>294.641667</td>\n",
       "      <td>0.994428</td>\n",
       "      <td>142.5</td>\n",
       "      <td>2020</td>\n",
       "    </tr>\n",
       "    <tr>\n",
       "      <th>2020-05-15</th>\n",
       "      <td>298.0</td>\n",
       "      <td>294.083333</td>\n",
       "      <td>1.013318</td>\n",
       "      <td>131.0</td>\n",
       "      <td>2020</td>\n",
       "    </tr>\n",
       "    <tr>\n",
       "      <th>2020-05-18</th>\n",
       "      <td>290.0</td>\n",
       "      <td>293.550000</td>\n",
       "      <td>0.987907</td>\n",
       "      <td>129.0</td>\n",
       "      <td>2020</td>\n",
       "    </tr>\n",
       "    <tr>\n",
       "      <th>2020-05-19</th>\n",
       "      <td>291.5</td>\n",
       "      <td>292.966667</td>\n",
       "      <td>0.994994</td>\n",
       "      <td>137.5</td>\n",
       "      <td>2020</td>\n",
       "    </tr>\n",
       "    <tr>\n",
       "      <th>2020-05-20</th>\n",
       "      <td>294.0</td>\n",
       "      <td>292.441667</td>\n",
       "      <td>1.005329</td>\n",
       "      <td>133.0</td>\n",
       "      <td>2020</td>\n",
       "    </tr>\n",
       "  </tbody>\n",
       "</table>\n",
       "</div>"
      ],
      "text/plain": [
       "            price          ma      bias  profit  year\n",
       "date                                                 \n",
       "2020-05-14  293.0  294.641667  0.994428   142.5  2020\n",
       "2020-05-15  298.0  294.083333  1.013318   131.0  2020\n",
       "2020-05-18  290.0  293.550000  0.987907   129.0  2020\n",
       "2020-05-19  291.5  292.966667  0.994994   137.5  2020\n",
       "2020-05-20  294.0  292.441667  1.005329   133.0  2020"
      ]
     },
     "execution_count": 44,
     "metadata": {},
     "output_type": "execute_result"
    }
   ],
   "source": [
    "tsmc_df.tail()"
   ]
  },
  {
   "cell_type": "code",
   "execution_count": 45,
   "metadata": {},
   "outputs": [
    {
     "data": {
      "text/plain": [
       "<AxesSubplot:xlabel='bias', ylabel='profit'>"
      ]
     },
     "execution_count": 45,
     "metadata": {},
     "output_type": "execute_result"
    },
    {
     "data": {
      "image/png": "[encoded data removed]",
      "text/plain": [
       "<Figure size 432x288 with 1 Axes>"
      ]
     },
     "metadata": {},
     "output_type": "display_data"
    }
   ],
   "source": [
    "sns.scatterplot(x='bias',y='profit',data=tsmc_df[\"2018\":],hue='year',palette='Accent')"
   ]
  },
  {
   "cell_type": "code",
   "execution_count": 46,
   "metadata": {},
   "outputs": [
    {
     "data": {
      "text/plain": [
       "<AxesSubplot:xlabel='date'>"
      ]
     },
     "execution_count": 46,
     "metadata": {},
     "output_type": "execute_result"
    },
    {
     "data": {
      "image/png": "[encoded data removed]",
      "text/plain": [
       "<Figure size 432x288 with 1 Axes>"
      ]
     },
     "metadata": {},
     "output_type": "display_data"
    }
   ],
   "source": [
    "up = 1+tsmc_bias.rolling(60).std() * 1.5\n",
    "low = 1-tsmc_bias.rolling(60).std() * 1.5\n",
    "up.plot()\n",
    "low.plot()\n",
    "tsmc_bias.plot()"
   ]
  },
  {
   "cell_type": "markdown",
   "metadata": {},
   "source": [
    "# 工人策略(乖離率策略)"
   ]
  },
  {
   "cell_type": "code",
   "execution_count": 47,
   "metadata": {},
   "outputs": [],
   "source": [
    "buy = (tsmc_bias< low)\n",
    "sell = (tsmc_bias > up)"
   ]
  },
  {
   "cell_type": "code",
   "execution_count": 48,
   "metadata": {},
   "outputs": [
    {
     "data": {
      "text/plain": [
       "date\n",
       "2007-04-23    False\n",
       "2007-04-24    False\n",
       "2007-04-25    False\n",
       "2007-04-26    False\n",
       "2007-04-27    False\n",
       "              ...  \n",
       "2020-08-10    False\n",
       "2020-08-11    False\n",
       "2020-08-12    False\n",
       "2020-08-13    False\n",
       "2020-08-14    False\n",
       "Name: 2330 台積電, Length: 3290, dtype: bool"
      ]
     },
     "execution_count": 48,
     "metadata": {},
     "output_type": "execute_result"
    }
   ],
   "source": [
    "buy"
   ]
  },
  {
   "cell_type": "code",
   "execution_count": 49,
   "metadata": {},
   "outputs": [],
   "source": [
    "hold = pd.Series(np.nan,index=tsmc.index)"
   ]
  },
  {
   "cell_type": "code",
   "execution_count": 50,
   "metadata": {},
   "outputs": [
    {
     "name": "stdout",
     "output_type": "stream",
     "text": [
      "date\n",
      "2007-04-23   NaN\n",
      "2007-04-24   NaN\n",
      "2007-04-25   NaN\n",
      "2007-04-26   NaN\n",
      "2007-04-27   NaN\n",
      "dtype: float64\n",
      "date\n",
      "2020-08-10   NaN\n",
      "2020-08-11   NaN\n",
      "2020-08-12   NaN\n",
      "2020-08-13   NaN\n",
      "2020-08-14   NaN\n",
      "dtype: float64\n"
     ]
    }
   ],
   "source": [
    "print(hold.head())\n",
    "print(hold.tail())"
   ]
  },
  {
   "cell_type": "code",
   "execution_count": 51,
   "metadata": {},
   "outputs": [],
   "source": [
    "hold[buy] = 1\n",
    "hold[sell] = 0\n",
    "hold = hold.dropna()"
   ]
  },
  {
   "cell_type": "code",
   "execution_count": 52,
   "metadata": {},
   "outputs": [
    {
     "data": {
      "text/plain": [
       "date\n",
       "2007-11-21    1.0\n",
       "2007-11-27    1.0\n",
       "2007-11-28    1.0\n",
       "2007-12-14    1.0\n",
       "2007-12-17    1.0\n",
       "             ... \n",
       "2020-08-10    0.0\n",
       "2020-08-11    0.0\n",
       "2020-08-12    0.0\n",
       "2020-08-13    0.0\n",
       "2020-08-14    0.0\n",
       "Length: 1198, dtype: float64"
      ]
     },
     "execution_count": 52,
     "metadata": {},
     "output_type": "execute_result"
    }
   ],
   "source": [
    "hold"
   ]
  },
  {
   "cell_type": "code",
   "execution_count": 53,
   "metadata": {},
   "outputs": [
    {
     "data": {
      "text/plain": [
       "<AxesSubplot:xlabel='date'>"
      ]
     },
     "execution_count": 53,
     "metadata": {},
     "output_type": "execute_result"
    },
    {
     "data": {
      "image/png": "[encoded data removed]",
      "text/plain": [
       "<Figure size 432x288 with 1 Axes>"
      ]
     },
     "metadata": {},
     "output_type": "display_data"
    }
   ],
   "source": [
    "hold.plot()"
   ]
  },
  {
   "cell_type": "code",
   "execution_count": null,
   "metadata": {},
   "outputs": [],
   "source": []
  }
 ],
 "metadata": {
  "kernelspec": {
   "display_name": "Python 3",
   "language": "python",
   "name": "python3"
  },
  "language_info": {
   "codemirror_mode": {
    "name": "ipython",
    "version": 3
   },
   "file_extension": ".py",
   "mimetype": "text/x-python",
   "name": "python",
   "nbconvert_exporter": "python",
   "pygments_lexer": "ipython3",
   "version": "3.7.7"
  }
 },
 "nbformat": 4,
 "nbformat_minor": 4
}

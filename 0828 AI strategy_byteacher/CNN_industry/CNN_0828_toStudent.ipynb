{
 "cells": [
  {
   "cell_type": "code",
   "execution_count": 4,
   "metadata": {},
   "outputs": [
    {
     "name": "stdout",
     "output_type": "stream",
     "text": [
      "Requirement already satisfied: opencv-python in c:\\users\\a0970\\anaconda3\\envs\\tensorflow\\lib\\site-packages (4.4.0.42)\n",
      "Requirement already satisfied: numpy>=1.14.5 in c:\\users\\a0970\\anaconda3\\envs\\tensorflow\\lib\\site-packages (from opencv-python) (1.19.1)\n",
      "Collecting sklearn\n",
      "  Using cached sklearn-0.0.tar.gz (1.1 kB)\n",
      "Collecting scikit-learn\n",
      "  Downloading scikit_learn-0.23.2-cp37-cp37m-win_amd64.whl (6.8 MB)\n",
      "Collecting joblib>=0.11\n",
      "  Downloading joblib-0.16.0-py3-none-any.whl (300 kB)\n",
      "Requirement already satisfied: numpy>=1.13.3 in c:\\users\\a0970\\anaconda3\\envs\\tensorflow\\lib\\site-packages (from scikit-learn->sklearn) (1.19.1)\n",
      "Requirement already satisfied: scipy>=0.19.1 in c:\\users\\a0970\\anaconda3\\envs\\tensorflow\\lib\\site-packages (from scikit-learn->sklearn) (1.5.2)\n",
      "Collecting threadpoolctl>=2.0.0\n",
      "  Downloading threadpoolctl-2.1.0-py3-none-any.whl (12 kB)\n",
      "Building wheels for collected packages: sklearn\n",
      "  Building wheel for sklearn (setup.py): started\n",
      "  Building wheel for sklearn (setup.py): finished with status 'done'\n",
      "  Created wheel for sklearn: filename=sklearn-0.0-py2.py3-none-any.whl size=1321 sha256=c04754bda2104b315f7f5b4fa038982ac0ead387794a9255d85b489d6769487d\n",
      "  Stored in directory: c:\\users\\a0970\\appdata\\local\\pip\\cache\\wheels\\46\\ef\\c3\\157e41f5ee1372d1be90b09f74f82b10e391eaacca8f22d33e\n",
      "Successfully built sklearn\n",
      "Installing collected packages: joblib, threadpoolctl, scikit-learn, sklearn\n",
      "Successfully installed joblib-0.16.0 scikit-learn-0.23.2 sklearn-0.0 threadpoolctl-2.1.0\n"
     ]
    }
   ],
   "source": [
    "!pip install opencv-python\n",
    "!pip install sklearn"
   ]
  },
  {
   "cell_type": "code",
   "execution_count": 5,
   "metadata": {},
   "outputs": [],
   "source": [
    "import cv2\n",
    "import numpy as np\n",
    "import matplotlib.pyplot as plt\n",
    "%matplotlib inline\n",
    "import pandas as pd\n",
    "from keras.models import Sequential\n",
    "from keras.models import load_model\n",
    "from keras.layers import Dense, Activation, Convolution2D, MaxPooling2D, Flatten,Dense\n",
    "from keras.utils import np_utils\n",
    "from keras.optimizers import Adam\n",
    "from keras.preprocessing import image\n",
    "from sklearn.preprocessing import OneHotEncoder\n",
    "from sklearn.utils import shuffle\n",
    "from keras.models import Model"
   ]
  },
  {
   "cell_type": "code",
   "execution_count": 6,
   "metadata": {},
   "outputs": [],
   "source": [
    "def load_labels(filepath):\n",
    "    with open(filepath, 'r') as f:\n",
    "        return [line.strip() for line in f]"
   ]
  },
  {
   "cell_type": "code",
   "execution_count": 7,
   "metadata": {},
   "outputs": [],
   "source": [
    "# load images and labels\n",
    "def load_images(image_files):\n",
    "    img_list = []\n",
    "    images = [cv2.imread('./image/file/{}'.format(p),0) for p in image_files]\n",
    "    images = np.array(images)\n",
    "    for image in images:\n",
    "        img_list.append(cv2.resize(image,(100,100),interpolation=cv2.INTER_CUBIC))\n",
    "    get_image_class = lambda path: path.split('_')[0]\n",
    "    labels = list(map(get_image_class, image_files))\n",
    "    return np.array(img_list), labels"
   ]
  },
  {
   "cell_type": "code",
   "execution_count": 8,
   "metadata": {},
   "outputs": [],
   "source": [
    "train_files = load_labels('./image/train.txt')\n",
    "train_images, train_labels = load_images(train_files)\n",
    "train_images = train_images/255.\n",
    "label_dict = {label: idx\n",
    "              for idx, label in enumerate(sorted(set(train_labels)))}\n",
    "y_train = np.array([label_dict[label] for label in train_labels])"
   ]
  },
  {
   "cell_type": "code",
   "execution_count": 9,
   "metadata": {},
   "outputs": [
    {
     "data": {
      "text/plain": [
       "((1800, 1, 100, 100), (1800, 1))"
      ]
     },
     "execution_count": 9,
     "metadata": {},
     "output_type": "execute_result"
    }
   ],
   "source": [
    "train_images = train_images.reshape((-1,1,100,100))\n",
    "y_train = y_train.reshape(-1,1)\n",
    "\n",
    "train_images, y_train = shuffle(train_images, y_train, random_state=0)\n",
    "train_images.shape,y_train.shape"
   ]
  },
  {
   "cell_type": "code",
   "execution_count": 10,
   "metadata": {},
   "outputs": [],
   "source": [
    "def show_train_history(train_history,train,validation):\n",
    "    plt.plot(train_history.history[train])\n",
    "    plt.plot(train_history.history[validation])\n",
    "    plt.title('Train History')\n",
    "    plt.ylabel('train')\n",
    "    plt.xlabel('Epoch')\n",
    "    plt.legend(['train','validation'],loc='upper left')\n",
    "    plt.show()"
   ]
  },
  {
   "cell_type": "code",
   "execution_count": 11,
   "metadata": {},
   "outputs": [
    {
     "data": {
      "text/plain": [
       "((1800, 1, 100, 100), (1800, 6))"
      ]
     },
     "execution_count": 11,
     "metadata": {},
     "output_type": "execute_result"
    }
   ],
   "source": [
    "onehot_encoder = OneHotEncoder(sparse=True)\n",
    "y_train = onehot_encoder.fit_transform(y_train)\n",
    "train_images.shape,y_train.shape"
   ]
  },
  {
   "cell_type": "code",
   "execution_count": 28,
   "metadata": {
    "scrolled": true
   },
   "outputs": [],
   "source": [
    "model = Sequential()\n",
    "model.add(Convolution2D(\n",
    "    batch_input_shape=(None,1, 100, 100), \n",
    "    filters=32,\n",
    "    kernel_size=5,\n",
    "    strides=1,\n",
    "    name=\"conv_1\",\n",
    "    padding='same',\n",
    "    activation='relu'\n",
    "))\n",
    "\n",
    "model.add(MaxPooling2D(\n",
    "    pool_size=2,\n",
    "    strides=2,\n",
    "    name=\"max_1\",\n",
    "    padding='same', \n",
    "    \n",
    "))\n",
    "model.add(Convolution2D(filters=64, \n",
    "                        kernel_size=5, \n",
    "                        strides=1,\n",
    "                        name=\"conv_2\", \n",
    "                        padding='same',\n",
    "                        activation='relu'))\n",
    "model.add(MaxPooling2D(\n",
    "    pool_size=2,\n",
    "    strides=2,\n",
    "    name=\"max_2\",\n",
    "    padding='same',  \n",
    "))\n",
    "\n",
    "model.add(Flatten())\n",
    "model.add(Dense(1024))\n",
    "model.add(Activation('relu'))\n",
    "model.add(Dense(6)) \n",
    "model.add(Activation('softmax'))"
   ]
  },
  {
   "cell_type": "code",
   "execution_count": 29,
   "metadata": {
    "scrolled": true
   },
   "outputs": [
    {
     "name": "stdout",
     "output_type": "stream",
     "text": [
      "Training ------------\n",
      "WARNING:tensorflow:From C:\\Users\\a0970\\anaconda3\\envs\\tensorflow\\lib\\site-packages\\keras\\backend\\tensorflow_backend.py:422: The name tf.global_variables is deprecated. Please use tf.compat.v1.global_variables instead.\n",
      "\n",
      "Train on 1440 samples, validate on 360 samples\n",
      "Epoch 1/20\n",
      "1440/1440 [==============================] - 2s 2ms/step - loss: 1.7632 - accuracy: 0.2049 - val_loss: 1.7150 - val_accuracy: 0.3000\n",
      "Epoch 2/20\n",
      "1440/1440 [==============================] - 2s 1ms/step - loss: 1.6764 - accuracy: 0.2924 - val_loss: 1.5715 - val_accuracy: 0.3306\n",
      "Epoch 3/20\n",
      "1440/1440 [==============================] - 2s 1ms/step - loss: 1.5349 - accuracy: 0.3340 - val_loss: 1.4374 - val_accuracy: 0.4083\n",
      "Epoch 4/20\n",
      "1440/1440 [==============================] - 2s 1ms/step - loss: 1.4077 - accuracy: 0.3715 - val_loss: 1.3717 - val_accuracy: 0.4222\n",
      "Epoch 5/20\n",
      "1440/1440 [==============================] - 2s 1ms/step - loss: 1.3129 - accuracy: 0.4222 - val_loss: 1.2513 - val_accuracy: 0.4556\n",
      "Epoch 6/20\n",
      "1440/1440 [==============================] - 2s 1ms/step - loss: 1.2353 - accuracy: 0.4736 - val_loss: 1.2088 - val_accuracy: 0.5167\n",
      "Epoch 7/20\n",
      "1440/1440 [==============================] - 2s 1ms/step - loss: 1.1669 - accuracy: 0.5556 - val_loss: 1.1385 - val_accuracy: 0.5250\n",
      "Epoch 8/20\n",
      "1440/1440 [==============================] - 2s 1ms/step - loss: 1.1185 - accuracy: 0.5785 - val_loss: 1.1383 - val_accuracy: 0.5500\n",
      "Epoch 9/20\n",
      "1440/1440 [==============================] - 2s 1ms/step - loss: 1.0861 - accuracy: 0.5931 - val_loss: 1.0752 - val_accuracy: 0.6194\n",
      "Epoch 10/20\n",
      "1440/1440 [==============================] - 2s 1ms/step - loss: 1.0421 - accuracy: 0.6208 - val_loss: 1.0084 - val_accuracy: 0.5861\n",
      "Epoch 11/20\n",
      "1440/1440 [==============================] - 2s 1ms/step - loss: 1.0482 - accuracy: 0.6167 - val_loss: 0.9843 - val_accuracy: 0.6778\n",
      "Epoch 12/20\n",
      "1440/1440 [==============================] - 2s 1ms/step - loss: 1.0011 - accuracy: 0.6507 - val_loss: 0.9271 - val_accuracy: 0.7333\n",
      "Epoch 13/20\n",
      "1440/1440 [==============================] - 2s 1ms/step - loss: 0.9297 - accuracy: 0.6965 - val_loss: 0.9132 - val_accuracy: 0.7250\n",
      "Epoch 14/20\n",
      "1440/1440 [==============================] - 2s 1ms/step - loss: 0.8984 - accuracy: 0.7097 - val_loss: 0.8556 - val_accuracy: 0.7306\n",
      "Epoch 15/20\n",
      "1440/1440 [==============================] - 2s 1ms/step - loss: 0.8484 - accuracy: 0.7326 - val_loss: 0.8251 - val_accuracy: 0.7556\n",
      "Epoch 16/20\n",
      "1440/1440 [==============================] - 2s 1ms/step - loss: 0.8376 - accuracy: 0.7292 - val_loss: 0.8110 - val_accuracy: 0.7194\n",
      "Epoch 17/20\n",
      "1440/1440 [==============================] - 2s 1ms/step - loss: 0.7979 - accuracy: 0.7458 - val_loss: 0.7602 - val_accuracy: 0.7472\n",
      "Epoch 18/20\n",
      "1440/1440 [==============================] - 2s 1ms/step - loss: 0.8283 - accuracy: 0.6965 - val_loss: 0.7417 - val_accuracy: 0.7861\n",
      "Epoch 19/20\n",
      "1440/1440 [==============================] - 2s 1ms/step - loss: 0.7879 - accuracy: 0.7250 - val_loss: 0.7611 - val_accuracy: 0.7417\n",
      "Epoch 20/20\n",
      "1440/1440 [==============================] - 2s 1ms/step - loss: 0.7556 - accuracy: 0.7507 - val_loss: 0.7380 - val_accuracy: 0.7556\n"
     ]
    },
    {
     "data": {
      "image/png": "[encoded data removed]",
      "text/plain": [
       "<Figure size 432x288 with 1 Axes>"
      ]
     },
     "metadata": {
      "needs_background": "light"
     },
     "output_type": "display_data"
    },
    {
     "data": {
      "image/png": "[encoded data removed]",
      "text/plain": [
       "<Figure size 432x288 with 1 Axes>"
      ]
     },
     "metadata": {
      "needs_background": "light"
     },
     "output_type": "display_data"
    }
   ],
   "source": [
    "adam = Adam(lr=1e-4)\n",
    "model.compile(optimizer=adam,\n",
    "              loss='categorical_crossentropy',\n",
    "              metrics=['accuracy'])\n",
    "print('Training ------------')\n",
    "train_history = model.fit(train_images, y_train, epochs=20, batch_size=64,validation_split=0.2)\n",
    "show_train_history(train_history,'accuracy','val_accuracy')\n",
    "show_train_history(train_history,'loss','val_loss')"
   ]
  },
  {
   "cell_type": "code",
   "execution_count": null,
   "metadata": {},
   "outputs": [],
   "source": []
  }
 ],
 "metadata": {
  "kernelspec": {
   "display_name": "Python 3",
   "language": "python",
   "name": "python3"
  },
  "language_info": {
   "codemirror_mode": {
    "name": "ipython",
    "version": 3
   },
   "file_extension": ".py",
   "mimetype": "text/x-python",
   "name": "python",
   "nbconvert_exporter": "python",
   "pygments_lexer": "ipython3",
   "version": "3.7.7"
  }
 },
 "nbformat": 4,
 "nbformat_minor": 2
}
